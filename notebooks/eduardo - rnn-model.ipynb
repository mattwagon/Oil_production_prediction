{
 "cells": [
  {
   "cell_type": "markdown",
   "id": "98116a8e",
   "metadata": {},
   "source": [
    "# RNN - Model"
   ]
  },
  {
   "cell_type": "code",
   "execution_count": 1,
   "id": "b6c53e33",
   "metadata": {},
   "outputs": [],
   "source": [
    "# DATA MANIPULATION, Visualization, and stats\n",
    "import pandas as pd\n",
    "from glob import glob\n",
    "import os\n",
    "import seaborn as sns\n",
    "import matplotlib.pyplot as plt\n",
    "import numpy as np\n",
    "from sklearn.preprocessing import MinMaxScaler"
   ]
  },
  {
   "cell_type": "code",
   "execution_count": 2,
   "id": "453e9314",
   "metadata": {},
   "outputs": [
    {
     "data": {
      "text/plain": [
       "'/Users/eduardomonteiro/code/mattwagon/oil_production_prediction/notebooks'"
      ]
     },
     "execution_count": 2,
     "metadata": {},
     "output_type": "execute_result"
    }
   ],
   "source": [
    "# Your current working directory should be ./mattwagon/oil_production_prediction/notebooks\n",
    "os.getcwd()"
   ]
  },
  {
   "cell_type": "markdown",
   "id": "dc2bd67d",
   "metadata": {},
   "source": [
    "## Import the data"
   ]
  },
  {
   "cell_type": "code",
   "execution_count": 3,
   "id": "02647693",
   "metadata": {},
   "outputs": [],
   "source": [
    "# This filepath should work for all of us\n",
    "# I have added 'raw_data' to .gitignore so it should never be pushed to the repo\n",
    "path = os.path.join('..', 'raw_data')\n",
    "file_names = os.listdir(path)\n",
    "csv_files = [f for f in file_names if f.endswith('.csv')]\n",
    "\n",
    "csv_files.sort()\n",
    "\n",
    "df = pd.DataFrame()\n",
    "\n",
    "for file in csv_files:\n",
    "    file_path = os.path.join(path, file)\n",
    "    df_aux = pd.read_csv(file_path)\n",
    "    df = pd.concat([df, df_aux], ignore_index=True)"
   ]
  },
  {
   "cell_type": "code",
   "execution_count": 4,
   "id": "bafc30ad",
   "metadata": {},
   "outputs": [],
   "source": [
    "df['Date'] = pd.to_datetime(df['Date'])\n",
    "df['Date'] = df['Date'].dt.tz_convert(None)\n",
    "df['Date'] = pd.to_datetime(df['Date'].apply(lambda x: x + pd.DateOffset(hours=1)))"
   ]
  },
  {
   "cell_type": "code",
   "execution_count": 5,
   "id": "2542486f",
   "metadata": {},
   "outputs": [
    {
     "data": {
      "text/html": [
       "<div>\n",
       "<style scoped>\n",
       "    .dataframe tbody tr th:only-of-type {\n",
       "        vertical-align: middle;\n",
       "    }\n",
       "\n",
       "    .dataframe tbody tr th {\n",
       "        vertical-align: top;\n",
       "    }\n",
       "\n",
       "    .dataframe thead th {\n",
       "        text-align: right;\n",
       "    }\n",
       "</style>\n",
       "<table border=\"1\" class=\"dataframe\">\n",
       "  <thead>\n",
       "    <tr style=\"text-align: right;\">\n",
       "      <th></th>\n",
       "      <th>Date</th>\n",
       "      <th>Calculated Drawdown_At Gauge</th>\n",
       "      <th>Calculated Drawdown_At Bottom Node</th>\n",
       "      <th>Reservoir Pressure</th>\n",
       "      <th>z Well Identifier</th>\n",
       "      <th>z TMore PS Identifier</th>\n",
       "      <th>z TMore Identifier</th>\n",
       "      <th>z Tag Identifier 2</th>\n",
       "      <th>z Tag Identifier</th>\n",
       "      <th>z PI-AF Database</th>\n",
       "      <th>...</th>\n",
       "      <th>Annulus Master Valve Status</th>\n",
       "      <th>Annulus Master Valve Opening Frequency</th>\n",
       "      <th>Pseudo Cv</th>\n",
       "      <th>GL GOR</th>\n",
       "      <th>GL Qgas</th>\n",
       "      <th>GL Qliq</th>\n",
       "      <th>GL Qoil</th>\n",
       "      <th>GL Qwat</th>\n",
       "      <th>GL Ramp-up Speed</th>\n",
       "      <th>GL WCT</th>\n",
       "    </tr>\n",
       "  </thead>\n",
       "  <tbody>\n",
       "    <tr>\n",
       "      <th>0</th>\n",
       "      <td>2007-02-01</td>\n",
       "      <td>NaN</td>\n",
       "      <td>NaN</td>\n",
       "      <td>186.34</td>\n",
       "      <td>30221</td>\n",
       "      <td>NaN</td>\n",
       "      <td>NaN</td>\n",
       "      <td>1</td>\n",
       "      <td>3022</td>\n",
       "      <td>NaN</td>\n",
       "      <td>...</td>\n",
       "      <td>NaN</td>\n",
       "      <td>NaN</td>\n",
       "      <td>NaN</td>\n",
       "      <td>52.5</td>\n",
       "      <td>90.0</td>\n",
       "      <td>32300.0</td>\n",
       "      <td>10960.0</td>\n",
       "      <td>21360.0</td>\n",
       "      <td>NaN</td>\n",
       "      <td>66.08</td>\n",
       "    </tr>\n",
       "    <tr>\n",
       "      <th>1</th>\n",
       "      <td>2007-02-02</td>\n",
       "      <td>NaN</td>\n",
       "      <td>NaN</td>\n",
       "      <td>186.34</td>\n",
       "      <td>30221</td>\n",
       "      <td>NaN</td>\n",
       "      <td>NaN</td>\n",
       "      <td>1</td>\n",
       "      <td>3022</td>\n",
       "      <td>NaN</td>\n",
       "      <td>...</td>\n",
       "      <td>NaN</td>\n",
       "      <td>NaN</td>\n",
       "      <td>NaN</td>\n",
       "      <td>52.5</td>\n",
       "      <td>90.0</td>\n",
       "      <td>32300.0</td>\n",
       "      <td>10960.0</td>\n",
       "      <td>21360.0</td>\n",
       "      <td>NaN</td>\n",
       "      <td>66.08</td>\n",
       "    </tr>\n",
       "    <tr>\n",
       "      <th>2</th>\n",
       "      <td>2007-02-03</td>\n",
       "      <td>NaN</td>\n",
       "      <td>NaN</td>\n",
       "      <td>186.34</td>\n",
       "      <td>30221</td>\n",
       "      <td>NaN</td>\n",
       "      <td>NaN</td>\n",
       "      <td>1</td>\n",
       "      <td>3022</td>\n",
       "      <td>NaN</td>\n",
       "      <td>...</td>\n",
       "      <td>NaN</td>\n",
       "      <td>NaN</td>\n",
       "      <td>NaN</td>\n",
       "      <td>52.5</td>\n",
       "      <td>90.0</td>\n",
       "      <td>32300.0</td>\n",
       "      <td>10960.0</td>\n",
       "      <td>21360.0</td>\n",
       "      <td>NaN</td>\n",
       "      <td>66.08</td>\n",
       "    </tr>\n",
       "    <tr>\n",
       "      <th>3</th>\n",
       "      <td>2007-02-04</td>\n",
       "      <td>NaN</td>\n",
       "      <td>NaN</td>\n",
       "      <td>186.34</td>\n",
       "      <td>30221</td>\n",
       "      <td>NaN</td>\n",
       "      <td>NaN</td>\n",
       "      <td>1</td>\n",
       "      <td>3022</td>\n",
       "      <td>NaN</td>\n",
       "      <td>...</td>\n",
       "      <td>NaN</td>\n",
       "      <td>NaN</td>\n",
       "      <td>NaN</td>\n",
       "      <td>52.5</td>\n",
       "      <td>90.0</td>\n",
       "      <td>32300.0</td>\n",
       "      <td>10960.0</td>\n",
       "      <td>21360.0</td>\n",
       "      <td>NaN</td>\n",
       "      <td>66.08</td>\n",
       "    </tr>\n",
       "    <tr>\n",
       "      <th>4</th>\n",
       "      <td>2007-02-05</td>\n",
       "      <td>NaN</td>\n",
       "      <td>NaN</td>\n",
       "      <td>186.34</td>\n",
       "      <td>30221</td>\n",
       "      <td>NaN</td>\n",
       "      <td>NaN</td>\n",
       "      <td>1</td>\n",
       "      <td>3022</td>\n",
       "      <td>NaN</td>\n",
       "      <td>...</td>\n",
       "      <td>NaN</td>\n",
       "      <td>NaN</td>\n",
       "      <td>NaN</td>\n",
       "      <td>52.5</td>\n",
       "      <td>90.0</td>\n",
       "      <td>32300.0</td>\n",
       "      <td>10960.0</td>\n",
       "      <td>21360.0</td>\n",
       "      <td>NaN</td>\n",
       "      <td>66.08</td>\n",
       "    </tr>\n",
       "  </tbody>\n",
       "</table>\n",
       "<p>5 rows × 189 columns</p>\n",
       "</div>"
      ],
      "text/plain": [
       "        Date  Calculated Drawdown_At Gauge  \\\n",
       "0 2007-02-01                           NaN   \n",
       "1 2007-02-02                           NaN   \n",
       "2 2007-02-03                           NaN   \n",
       "3 2007-02-04                           NaN   \n",
       "4 2007-02-05                           NaN   \n",
       "\n",
       "   Calculated Drawdown_At Bottom Node  Reservoir Pressure  z Well Identifier  \\\n",
       "0                                 NaN              186.34              30221   \n",
       "1                                 NaN              186.34              30221   \n",
       "2                                 NaN              186.34              30221   \n",
       "3                                 NaN              186.34              30221   \n",
       "4                                 NaN              186.34              30221   \n",
       "\n",
       "   z TMore PS Identifier  z TMore Identifier  z Tag Identifier 2  \\\n",
       "0                    NaN                 NaN                   1   \n",
       "1                    NaN                 NaN                   1   \n",
       "2                    NaN                 NaN                   1   \n",
       "3                    NaN                 NaN                   1   \n",
       "4                    NaN                 NaN                   1   \n",
       "\n",
       "   z Tag Identifier  z PI-AF Database  ...  Annulus Master Valve Status  \\\n",
       "0              3022               NaN  ...                          NaN   \n",
       "1              3022               NaN  ...                          NaN   \n",
       "2              3022               NaN  ...                          NaN   \n",
       "3              3022               NaN  ...                          NaN   \n",
       "4              3022               NaN  ...                          NaN   \n",
       "\n",
       "   Annulus Master Valve Opening Frequency  Pseudo Cv  GL GOR  GL Qgas  \\\n",
       "0                                     NaN        NaN    52.5     90.0   \n",
       "1                                     NaN        NaN    52.5     90.0   \n",
       "2                                     NaN        NaN    52.5     90.0   \n",
       "3                                     NaN        NaN    52.5     90.0   \n",
       "4                                     NaN        NaN    52.5     90.0   \n",
       "\n",
       "   GL Qliq  GL Qoil  GL Qwat  GL Ramp-up Speed  GL WCT  \n",
       "0  32300.0  10960.0  21360.0               NaN   66.08  \n",
       "1  32300.0  10960.0  21360.0               NaN   66.08  \n",
       "2  32300.0  10960.0  21360.0               NaN   66.08  \n",
       "3  32300.0  10960.0  21360.0               NaN   66.08  \n",
       "4  32300.0  10960.0  21360.0               NaN   66.08  \n",
       "\n",
       "[5 rows x 189 columns]"
      ]
     },
     "execution_count": 5,
     "metadata": {},
     "output_type": "execute_result"
    }
   ],
   "source": [
    "df.head()"
   ]
  },
  {
   "cell_type": "markdown",
   "id": "47726500",
   "metadata": {},
   "source": [
    "## Data cleaning"
   ]
  },
  {
   "cell_type": "markdown",
   "id": "1be11f9a",
   "metadata": {},
   "source": [
    "### Drop features with more than 30% NaN values"
   ]
  },
  {
   "cell_type": "code",
   "execution_count": 6,
   "id": "aaf5d680",
   "metadata": {},
   "outputs": [],
   "source": [
    "features_nan_drop = []\n",
    "\n",
    "for feature, value in dict(df.isnull().sum().sort_values(ascending=False)).items():\n",
    "    if value/len(df) > 0.3:\n",
    "        features_nan_drop.append(feature)\n",
    "        \n",
    "df.drop(columns=features_nan_drop, inplace=True)"
   ]
  },
  {
   "cell_type": "code",
   "execution_count": 7,
   "id": "d41a6329",
   "metadata": {},
   "outputs": [
    {
     "data": {
      "text/plain": [
       "(5813, 65)"
      ]
     },
     "execution_count": 7,
     "metadata": {},
     "output_type": "execute_result"
    }
   ],
   "source": [
    "df.shape"
   ]
  },
  {
   "cell_type": "markdown",
   "id": "aeb063c1",
   "metadata": {},
   "source": [
    "### Drop features with std = 0"
   ]
  },
  {
   "cell_type": "code",
   "execution_count": 8,
   "id": "82a3b658",
   "metadata": {},
   "outputs": [],
   "source": [
    "features_null_std = []\n",
    "\n",
    "for feature in df.drop(columns='Date').columns:\n",
    "    if df[feature].std() < 0.0000001:\n",
    "        features_null_std.append(feature)\n",
    "        \n",
    "df.drop(columns=features_null_std, inplace=True)"
   ]
  },
  {
   "cell_type": "code",
   "execution_count": 9,
   "id": "51a3ee08",
   "metadata": {},
   "outputs": [
    {
     "data": {
      "text/plain": [
       "(5813, 41)"
      ]
     },
     "execution_count": 9,
     "metadata": {},
     "output_type": "execute_result"
    }
   ],
   "source": [
    "df.shape"
   ]
  },
  {
   "cell_type": "markdown",
   "id": "77b3a86e",
   "metadata": {},
   "source": [
    "### Drop corrected features"
   ]
  },
  {
   "cell_type": "code",
   "execution_count": 10,
   "id": "2dbec33e",
   "metadata": {},
   "outputs": [],
   "source": [
    "corrected_features_drop = ['Qwat MPFM corrected', 'Qoil MPFM corrected', 'Qliq MPFM corrected', 'Qgas MPFM corrected']\n",
    "df.drop(columns=corrected_features_drop, inplace=True)"
   ]
  },
  {
   "cell_type": "markdown",
   "id": "d0f67b47",
   "metadata": {},
   "source": [
    "### Drop choke features"
   ]
  },
  {
   "cell_type": "code",
   "execution_count": 11,
   "id": "20ffd2f4",
   "metadata": {},
   "outputs": [],
   "source": [
    "choke_features_drop = ['Choke Opening Calc1', 'Choke Opening Calc2', 'Choke Measured', 'Choke Calculated', 'Choke CCR']\n",
    "df.drop(columns=choke_features_drop, inplace = True)"
   ]
  },
  {
   "cell_type": "markdown",
   "id": "83ad166e",
   "metadata": {},
   "source": [
    "### Drop correlated features"
   ]
  },
  {
   "cell_type": "code",
   "execution_count": 12,
   "id": "351b7e59",
   "metadata": {},
   "outputs": [],
   "source": [
    "features_corr_drop = ['Qwat PC', 'Qgas PC', 'Qoil PC', 'Tubing dP','MPFM P', 'Qliq MPFM', 'Qwat MPFM']\n",
    "df.drop(columns=features_corr_drop, inplace = True)"
   ]
  },
  {
   "cell_type": "markdown",
   "id": "9eb026b6",
   "metadata": {},
   "source": [
    "### Drop features in remove dictionary"
   ]
  },
  {
   "cell_type": "code",
   "execution_count": 13,
   "id": "b5db2993",
   "metadata": {},
   "outputs": [],
   "source": [
    "remove = {\"Sand Rate\", \"MPFM NTotal Count Rate\", \"MPFM N81 Count Rate\", \"MPFM N356 Count Rate\", \"MPFM N32 Count Rate\", \"MPFM GOR\", \"Downhole Gauge T\", \"Downhole Gauge P\"}"
   ]
  },
  {
   "cell_type": "code",
   "execution_count": 14,
   "id": "19fae570",
   "metadata": {},
   "outputs": [],
   "source": [
    "df.drop(columns=remove, inplace=True)"
   ]
  },
  {
   "cell_type": "markdown",
   "id": "9f187b6b",
   "metadata": {},
   "source": [
    "## Impute features with <30% NaN values"
   ]
  },
  {
   "cell_type": "code",
   "execution_count": 15,
   "id": "295d9b78",
   "metadata": {},
   "outputs": [],
   "source": [
    "for feature in df.columns:\n",
    "    df[feature].replace(np.nan, df[feature].median(), inplace=True)"
   ]
  },
  {
   "cell_type": "code",
   "execution_count": 16,
   "id": "176c8147",
   "metadata": {},
   "outputs": [
    {
     "data": {
      "text/plain": [
       "Date               0\n",
       "WHT                0\n",
       "WHP                0\n",
       "Tubing Gradient    0\n",
       "Service Line P     0\n",
       "Sand Raw           0\n",
       "Qoil MPFM          0\n",
       "Qgas MPFM          0\n",
       "MPFM WCT           0\n",
       "MPFM Venturi dP    0\n",
       "MPFM T             0\n",
       "MPFM CF GOR        0\n",
       "Manifold T         0\n",
       "Manifold P         0\n",
       "Jumper T           0\n",
       "Choke Opening      0\n",
       "Annulus P          0\n",
       "dtype: int64"
      ]
     },
     "execution_count": 16,
     "metadata": {},
     "output_type": "execute_result"
    }
   ],
   "source": [
    "df.isnull().sum()"
   ]
  },
  {
   "cell_type": "markdown",
   "id": "9efa10c1",
   "metadata": {},
   "source": [
    "## Visualising the Time Series"
   ]
  },
  {
   "cell_type": "code",
   "execution_count": 30,
   "id": "46b0b765",
   "metadata": {},
   "outputs": [],
   "source": [
    "TARGET = 'Qoil MPFM'\n",
    "N_TARGETS = 1\n",
    "N_FEATURES = df.shape[1] - 1"
   ]
  },
  {
   "cell_type": "code",
   "execution_count": 18,
   "id": "c182a8e4",
   "metadata": {},
   "outputs": [
    {
     "data": {
      "image/png": "[encoded data removed]",
      "text/plain": [
       "<Figure size 640x480 with 2 Axes>"
      ]
     },
     "metadata": {},
     "output_type": "display_data"
    }
   ],
   "source": [
    "plot_cols = [TARGET, 'Qgas MPFM']\n",
    "plot_features = df[plot_cols]\n",
    "plot_features.index = df.index\n",
    "plot_features.plot(subplots = True);"
   ]
  },
  {
   "cell_type": "code",
   "execution_count": 19,
   "id": "961050a1",
   "metadata": {},
   "outputs": [
    {
     "data": {
      "image/png": "[encoded data removed]",
      "text/plain": [
       "<Figure size 640x480 with 2 Axes>"
      ]
     },
     "metadata": {},
     "output_type": "display_data"
    }
   ],
   "source": [
    "zoomed_slice = slice(2000,3100)\n",
    "\n",
    "plot_features = df.loc[zoomed_slice, plot_cols]\n",
    "plot_features.plot(subplots = True);"
   ]
  },
  {
   "cell_type": "markdown",
   "id": "b313639d",
   "metadata": {},
   "source": [
    "## Prepare the dataset"
   ]
  },
  {
   "cell_type": "markdown",
   "id": "13f0099a",
   "metadata": {},
   "source": [
    "### The big picture"
   ]
  },
  {
   "cell_type": "markdown",
   "id": "eca6fd46",
   "metadata": {},
   "source": [
    "Step 1: Cross validation in time series (folds):\n",
    "    - we'll create folds and train/evaluate our LSTM on these different folds about the robustness of the neural network\n",
    "\n",
    "Step 2: Holdout method within each fold (train-test-split) to:\n",
    "    - fit the model on the train set;\n",
    "    - and evaluate it on the test set;\n",
    "    - always split the train set chronologically before the test set\n",
    "    \n",
    "Step 3: Sampling sequences in both the train set and the test set"
   ]
  },
  {
   "cell_type": "markdown",
   "id": "30606997",
   "metadata": {},
   "source": [
    "### Creating folds for cross-validation"
   ]
  },
  {
   "cell_type": "code",
   "execution_count": 20,
   "id": "bd739d45",
   "metadata": {},
   "outputs": [],
   "source": [
    "# --------------------------------------------------- #\n",
    "# Let's consider FOLDS with a length of 3 years       #\n",
    "# (2 years will be used for train, 1 for test!)       #\n",
    "# --------------------------------------------------- #\n",
    "\n",
    "FOLD_LENGTH = 365 * 3 # three years\n",
    "\n",
    "# --------------------------------------------------- #\n",
    "# Let's consider FOLDS starting every trimester       #\n",
    "# --------------------------------------------------- #\n",
    "    \n",
    "FOLD_STRIDE = 91 # 1 quarter = 91 days\n",
    "\n",
    "# --------------------------------------------------- #\n",
    "# Let's consider a train-test-split ratio of 2/3      #\n",
    "# --------------------------------------------------- #\n",
    "\n",
    "TRAIN_TEST_RATIO = 0.66"
   ]
  },
  {
   "cell_type": "code",
   "execution_count": 21,
   "id": "b6107a35",
   "metadata": {},
   "outputs": [],
   "source": [
    "def get_folds(\n",
    "    df: pd.DataFrame,\n",
    "    fold_length: int,\n",
    "    fold_stride: int) -> list[pd.DataFrame]:\n",
    "    '''\n",
    "    This function slides through the Time Series dataframe of shape (n_timesteps, n_features) to create folds\n",
    "    - of equal `fold_length`\n",
    "    - using `fold_stride` between each fold\n",
    "    \n",
    "    Returns a list of folds, each as a DataFrame\n",
    "    '''\n",
    "    fold_list = []\n",
    "    \n",
    "    \n",
    "    for i in range(0, len(df), fold_stride):\n",
    "        if i + fold_length >= len(df):\n",
    "            break\n",
    "        fold_list.append(df[i:fold_length])\n",
    "    \n",
    "    return fold_list"
   ]
  },
  {
   "cell_type": "code",
   "execution_count": 22,
   "id": "0f764fb5",
   "metadata": {},
   "outputs": [
    {
     "name": "stdout",
     "output_type": "stream",
     "text": [
      "The function generated 52 folds.\n",
      "Each fold has a shape equal to (1095, 17).\n"
     ]
    }
   ],
   "source": [
    "folds = get_folds(df, FOLD_LENGTH, FOLD_STRIDE)\n",
    "\n",
    "print(f'The function generated {len(folds)} folds.')\n",
    "print(f'Each fold has a shape equal to {folds[0].shape}.')"
   ]
  },
  {
   "cell_type": "markdown",
   "id": "e3daf9d0",
   "metadata": {},
   "source": [
    "### Temporal Train/Test Split"
   ]
  },
  {
   "cell_type": "markdown",
   "id": "ea660ee5",
   "metadata": {},
   "source": [
    "Focus on 1 fold for the moment:"
   ]
  },
  {
   "cell_type": "code",
   "execution_count": 23,
   "id": "c4e047ff",
   "metadata": {},
   "outputs": [
    {
     "data": {
      "text/html": [
       "<div>\n",
       "<style scoped>\n",
       "    .dataframe tbody tr th:only-of-type {\n",
       "        vertical-align: middle;\n",
       "    }\n",
       "\n",
       "    .dataframe tbody tr th {\n",
       "        vertical-align: top;\n",
       "    }\n",
       "\n",
       "    .dataframe thead th {\n",
       "        text-align: right;\n",
       "    }\n",
       "</style>\n",
       "<table border=\"1\" class=\"dataframe\">\n",
       "  <thead>\n",
       "    <tr style=\"text-align: right;\">\n",
       "      <th></th>\n",
       "      <th>Date</th>\n",
       "      <th>WHT</th>\n",
       "      <th>WHP</th>\n",
       "      <th>Tubing Gradient</th>\n",
       "      <th>Service Line P</th>\n",
       "      <th>Sand Raw</th>\n",
       "      <th>Qoil MPFM</th>\n",
       "      <th>Qgas MPFM</th>\n",
       "      <th>MPFM WCT</th>\n",
       "      <th>MPFM Venturi dP</th>\n",
       "      <th>MPFM T</th>\n",
       "      <th>MPFM CF GOR</th>\n",
       "      <th>Manifold T</th>\n",
       "      <th>Manifold P</th>\n",
       "      <th>Jumper T</th>\n",
       "      <th>Choke Opening</th>\n",
       "      <th>Annulus P</th>\n",
       "    </tr>\n",
       "  </thead>\n",
       "  <tbody>\n",
       "    <tr>\n",
       "      <th>0</th>\n",
       "      <td>2007-02-01</td>\n",
       "      <td>51.247467</td>\n",
       "      <td>78.146263</td>\n",
       "      <td>0.000000</td>\n",
       "      <td>109.413887</td>\n",
       "      <td>5084.182129</td>\n",
       "      <td>14065.431937</td>\n",
       "      <td>127.717811</td>\n",
       "      <td>0.000000</td>\n",
       "      <td>1672.997986</td>\n",
       "      <td>52.371239</td>\n",
       "      <td>1.0</td>\n",
       "      <td>51.940947</td>\n",
       "      <td>69.046879</td>\n",
       "      <td>51.085567</td>\n",
       "      <td>76.917267</td>\n",
       "      <td>150.246353</td>\n",
       "    </tr>\n",
       "    <tr>\n",
       "      <th>1</th>\n",
       "      <td>2007-02-02</td>\n",
       "      <td>51.247467</td>\n",
       "      <td>78.146263</td>\n",
       "      <td>0.000000</td>\n",
       "      <td>109.413887</td>\n",
       "      <td>5084.182129</td>\n",
       "      <td>14065.431937</td>\n",
       "      <td>127.717811</td>\n",
       "      <td>0.000000</td>\n",
       "      <td>1672.997986</td>\n",
       "      <td>52.371239</td>\n",
       "      <td>1.0</td>\n",
       "      <td>51.940947</td>\n",
       "      <td>69.046879</td>\n",
       "      <td>51.085567</td>\n",
       "      <td>76.917267</td>\n",
       "      <td>150.246353</td>\n",
       "    </tr>\n",
       "    <tr>\n",
       "      <th>2</th>\n",
       "      <td>2007-02-03</td>\n",
       "      <td>51.247467</td>\n",
       "      <td>78.146263</td>\n",
       "      <td>0.000000</td>\n",
       "      <td>109.413887</td>\n",
       "      <td>5084.182129</td>\n",
       "      <td>14065.431937</td>\n",
       "      <td>127.717811</td>\n",
       "      <td>0.000000</td>\n",
       "      <td>1672.997986</td>\n",
       "      <td>52.371239</td>\n",
       "      <td>1.0</td>\n",
       "      <td>51.940947</td>\n",
       "      <td>69.046879</td>\n",
       "      <td>51.085567</td>\n",
       "      <td>76.917267</td>\n",
       "      <td>150.246353</td>\n",
       "    </tr>\n",
       "    <tr>\n",
       "      <th>3</th>\n",
       "      <td>2007-02-04</td>\n",
       "      <td>51.247467</td>\n",
       "      <td>78.146263</td>\n",
       "      <td>0.000000</td>\n",
       "      <td>109.413887</td>\n",
       "      <td>5084.182129</td>\n",
       "      <td>14065.431937</td>\n",
       "      <td>127.717811</td>\n",
       "      <td>0.000000</td>\n",
       "      <td>1672.997986</td>\n",
       "      <td>52.371239</td>\n",
       "      <td>1.0</td>\n",
       "      <td>51.940947</td>\n",
       "      <td>69.046879</td>\n",
       "      <td>51.085567</td>\n",
       "      <td>76.917267</td>\n",
       "      <td>150.246353</td>\n",
       "    </tr>\n",
       "    <tr>\n",
       "      <th>4</th>\n",
       "      <td>2007-02-05</td>\n",
       "      <td>51.247467</td>\n",
       "      <td>78.146263</td>\n",
       "      <td>0.000000</td>\n",
       "      <td>109.413887</td>\n",
       "      <td>5084.182129</td>\n",
       "      <td>14065.431937</td>\n",
       "      <td>127.717811</td>\n",
       "      <td>0.000000</td>\n",
       "      <td>1672.997986</td>\n",
       "      <td>52.371239</td>\n",
       "      <td>1.0</td>\n",
       "      <td>51.940947</td>\n",
       "      <td>69.046879</td>\n",
       "      <td>51.085567</td>\n",
       "      <td>76.917267</td>\n",
       "      <td>150.246353</td>\n",
       "    </tr>\n",
       "    <tr>\n",
       "      <th>...</th>\n",
       "      <td>...</td>\n",
       "      <td>...</td>\n",
       "      <td>...</td>\n",
       "      <td>...</td>\n",
       "      <td>...</td>\n",
       "      <td>...</td>\n",
       "      <td>...</td>\n",
       "      <td>...</td>\n",
       "      <td>...</td>\n",
       "      <td>...</td>\n",
       "      <td>...</td>\n",
       "      <td>...</td>\n",
       "      <td>...</td>\n",
       "      <td>...</td>\n",
       "      <td>...</td>\n",
       "      <td>...</td>\n",
       "      <td>...</td>\n",
       "    </tr>\n",
       "    <tr>\n",
       "      <th>1090</th>\n",
       "      <td>2010-01-26</td>\n",
       "      <td>48.246864</td>\n",
       "      <td>93.970413</td>\n",
       "      <td>0.692401</td>\n",
       "      <td>104.580345</td>\n",
       "      <td>4832.562500</td>\n",
       "      <td>23788.793743</td>\n",
       "      <td>127.717811</td>\n",
       "      <td>16.810093</td>\n",
       "      <td>5000.000000</td>\n",
       "      <td>47.968342</td>\n",
       "      <td>1.0</td>\n",
       "      <td>47.503666</td>\n",
       "      <td>60.694332</td>\n",
       "      <td>45.013710</td>\n",
       "      <td>75.156860</td>\n",
       "      <td>106.314453</td>\n",
       "    </tr>\n",
       "    <tr>\n",
       "      <th>1091</th>\n",
       "      <td>2010-01-27</td>\n",
       "      <td>48.226227</td>\n",
       "      <td>94.041245</td>\n",
       "      <td>0.691799</td>\n",
       "      <td>105.844513</td>\n",
       "      <td>4839.964844</td>\n",
       "      <td>23831.706038</td>\n",
       "      <td>127.717811</td>\n",
       "      <td>16.221851</td>\n",
       "      <td>5000.000000</td>\n",
       "      <td>47.933216</td>\n",
       "      <td>1.0</td>\n",
       "      <td>47.438766</td>\n",
       "      <td>60.450886</td>\n",
       "      <td>44.930332</td>\n",
       "      <td>75.275383</td>\n",
       "      <td>106.136719</td>\n",
       "    </tr>\n",
       "    <tr>\n",
       "      <th>1092</th>\n",
       "      <td>2010-01-28</td>\n",
       "      <td>48.231678</td>\n",
       "      <td>97.257195</td>\n",
       "      <td>0.673693</td>\n",
       "      <td>103.679131</td>\n",
       "      <td>4775.291016</td>\n",
       "      <td>22478.727202</td>\n",
       "      <td>127.717811</td>\n",
       "      <td>17.043915</td>\n",
       "      <td>4833.718262</td>\n",
       "      <td>47.884007</td>\n",
       "      <td>1.0</td>\n",
       "      <td>47.298260</td>\n",
       "      <td>59.197025</td>\n",
       "      <td>44.705639</td>\n",
       "      <td>73.546600</td>\n",
       "      <td>106.222321</td>\n",
       "    </tr>\n",
       "    <tr>\n",
       "      <th>1093</th>\n",
       "      <td>2010-01-29</td>\n",
       "      <td>48.211006</td>\n",
       "      <td>98.153358</td>\n",
       "      <td>0.665585</td>\n",
       "      <td>104.497093</td>\n",
       "      <td>4765.079102</td>\n",
       "      <td>22362.401021</td>\n",
       "      <td>127.717811</td>\n",
       "      <td>15.439603</td>\n",
       "      <td>4847.751953</td>\n",
       "      <td>47.863358</td>\n",
       "      <td>1.0</td>\n",
       "      <td>47.289062</td>\n",
       "      <td>60.030678</td>\n",
       "      <td>44.715401</td>\n",
       "      <td>73.710487</td>\n",
       "      <td>106.204193</td>\n",
       "    </tr>\n",
       "    <tr>\n",
       "      <th>1094</th>\n",
       "      <td>2010-01-30</td>\n",
       "      <td>37.440060</td>\n",
       "      <td>157.737289</td>\n",
       "      <td>0.350634</td>\n",
       "      <td>104.385078</td>\n",
       "      <td>4628.215332</td>\n",
       "      <td>0.000000</td>\n",
       "      <td>0.000000</td>\n",
       "      <td>0.000000</td>\n",
       "      <td>82.570175</td>\n",
       "      <td>40.496582</td>\n",
       "      <td>1.0</td>\n",
       "      <td>41.992321</td>\n",
       "      <td>43.223621</td>\n",
       "      <td>25.863550</td>\n",
       "      <td>27.931757</td>\n",
       "      <td>92.202087</td>\n",
       "    </tr>\n",
       "  </tbody>\n",
       "</table>\n",
       "<p>1095 rows × 17 columns</p>\n",
       "</div>"
      ],
      "text/plain": [
       "           Date        WHT         WHP  Tubing Gradient  Service Line P  \\\n",
       "0    2007-02-01  51.247467   78.146263         0.000000      109.413887   \n",
       "1    2007-02-02  51.247467   78.146263         0.000000      109.413887   \n",
       "2    2007-02-03  51.247467   78.146263         0.000000      109.413887   \n",
       "3    2007-02-04  51.247467   78.146263         0.000000      109.413887   \n",
       "4    2007-02-05  51.247467   78.146263         0.000000      109.413887   \n",
       "...         ...        ...         ...              ...             ...   \n",
       "1090 2010-01-26  48.246864   93.970413         0.692401      104.580345   \n",
       "1091 2010-01-27  48.226227   94.041245         0.691799      105.844513   \n",
       "1092 2010-01-28  48.231678   97.257195         0.673693      103.679131   \n",
       "1093 2010-01-29  48.211006   98.153358         0.665585      104.497093   \n",
       "1094 2010-01-30  37.440060  157.737289         0.350634      104.385078   \n",
       "\n",
       "         Sand Raw     Qoil MPFM   Qgas MPFM   MPFM WCT  MPFM Venturi dP  \\\n",
       "0     5084.182129  14065.431937  127.717811   0.000000      1672.997986   \n",
       "1     5084.182129  14065.431937  127.717811   0.000000      1672.997986   \n",
       "2     5084.182129  14065.431937  127.717811   0.000000      1672.997986   \n",
       "3     5084.182129  14065.431937  127.717811   0.000000      1672.997986   \n",
       "4     5084.182129  14065.431937  127.717811   0.000000      1672.997986   \n",
       "...           ...           ...         ...        ...              ...   \n",
       "1090  4832.562500  23788.793743  127.717811  16.810093      5000.000000   \n",
       "1091  4839.964844  23831.706038  127.717811  16.221851      5000.000000   \n",
       "1092  4775.291016  22478.727202  127.717811  17.043915      4833.718262   \n",
       "1093  4765.079102  22362.401021  127.717811  15.439603      4847.751953   \n",
       "1094  4628.215332      0.000000    0.000000   0.000000        82.570175   \n",
       "\n",
       "         MPFM T  MPFM CF GOR  Manifold T  Manifold P   Jumper T  \\\n",
       "0     52.371239          1.0   51.940947   69.046879  51.085567   \n",
       "1     52.371239          1.0   51.940947   69.046879  51.085567   \n",
       "2     52.371239          1.0   51.940947   69.046879  51.085567   \n",
       "3     52.371239          1.0   51.940947   69.046879  51.085567   \n",
       "4     52.371239          1.0   51.940947   69.046879  51.085567   \n",
       "...         ...          ...         ...         ...        ...   \n",
       "1090  47.968342          1.0   47.503666   60.694332  45.013710   \n",
       "1091  47.933216          1.0   47.438766   60.450886  44.930332   \n",
       "1092  47.884007          1.0   47.298260   59.197025  44.705639   \n",
       "1093  47.863358          1.0   47.289062   60.030678  44.715401   \n",
       "1094  40.496582          1.0   41.992321   43.223621  25.863550   \n",
       "\n",
       "      Choke Opening   Annulus P  \n",
       "0         76.917267  150.246353  \n",
       "1         76.917267  150.246353  \n",
       "2         76.917267  150.246353  \n",
       "3         76.917267  150.246353  \n",
       "4         76.917267  150.246353  \n",
       "...             ...         ...  \n",
       "1090      75.156860  106.314453  \n",
       "1091      75.275383  106.136719  \n",
       "1092      73.546600  106.222321  \n",
       "1093      73.710487  106.204193  \n",
       "1094      27.931757   92.202087  \n",
       "\n",
       "[1095 rows x 17 columns]"
      ]
     },
     "execution_count": 23,
     "metadata": {},
     "output_type": "execute_result"
    }
   ],
   "source": [
    "fold = folds[0]\n",
    "fold"
   ]
  },
  {
   "cell_type": "markdown",
   "id": "7c21afc6",
   "metadata": {},
   "source": [
    "Split the fold above chronologically into a train dataframe and a test dataframe"
   ]
  },
  {
   "cell_type": "code",
   "execution_count": 24,
   "id": "7d717b18",
   "metadata": {},
   "outputs": [],
   "source": [
    "INPUT_LENGTH = 14 #two weeks"
   ]
  },
  {
   "cell_type": "code",
   "execution_count": 26,
   "id": "3f77859b",
   "metadata": {},
   "outputs": [],
   "source": [
    "def train_test_split(fold:pd.DataFrame,\n",
    "                     train_test_ratio: float,\n",
    "                     input_length: int) -> tuple[pd.DataFrame]:\n",
    "    '''\n",
    "    Returns a train dataframe and a test dataframe (fold_train, fold_test)\n",
    "    from which one can sample (X,y) sequences.\n",
    "    df_train should contain all the timesteps until round(train_test_ratio * len(fold))   \n",
    "    '''\n",
    "    fold_train = fold[0: round(train_test_ratio * len(fold))]\n",
    "    fold_test = fold[round(train_test_ratio * len(fold)) - input_length:]\n",
    "    \n",
    "    return fold_train, fold_test"
   ]
  },
  {
   "cell_type": "code",
   "execution_count": 27,
   "id": "b3288680",
   "metadata": {},
   "outputs": [],
   "source": [
    "(fold_train, fold_test) = train_test_split(fold, TRAIN_TEST_RATIO, INPUT_LENGTH)"
   ]
  },
  {
   "cell_type": "markdown",
   "id": "70b0dd56",
   "metadata": {},
   "source": [
    "### Create (X,y) sequences"
   ]
  },
  {
   "cell_type": "code",
   "execution_count": 31,
   "id": "9e214fb5",
   "metadata": {},
   "outputs": [
    {
     "name": "stdout",
     "output_type": "stream",
     "text": [
      "N_FEATURES = 16\n",
      "INPUT_LENGTH = 14 days = 2 weeks\n"
     ]
    }
   ],
   "source": [
    "# INPUT X\n",
    "print(f'N_FEATURES = {N_FEATURES}')\n",
    "print(f'INPUT_LENGTH = {INPUT_LENGTH} days = {int(INPUT_LENGTH/7)} weeks')"
   ]
  },
  {
   "cell_type": "code",
   "execution_count": 29,
   "id": "4ca955ef",
   "metadata": {},
   "outputs": [
    {
     "data": {
      "text/plain": [
       "'Qoil MPFM'"
      ]
     },
     "execution_count": 29,
     "metadata": {},
     "output_type": "execute_result"
    }
   ],
   "source": []
  },
  {
   "cell_type": "code",
   "execution_count": null,
   "id": "392739ce",
   "metadata": {},
   "outputs": [],
   "source": []
  }
 ],
 "metadata": {
  "kernelspec": {
   "display_name": "Python 3 (ipykernel)",
   "language": "python",
   "name": "python3"
  },
  "language_info": {
   "codemirror_mode": {
    "name": "ipython",
    "version": 3
   },
   "file_extension": ".py",
   "mimetype": "text/x-python",
   "name": "python",
   "nbconvert_exporter": "python",
   "pygments_lexer": "ipython3",
   "version": "3.10.6"
  },
  "toc": {
   "base_numbering": 1,
   "nav_menu": {},
   "number_sections": true,
   "sideBar": true,
   "skip_h1_title": false,
   "title_cell": "Table of Contents",
   "title_sidebar": "Contents",
   "toc_cell": false,
   "toc_position": {},
   "toc_section_display": true,
   "toc_window_display": false
  }
 },
 "nbformat": 4,
 "nbformat_minor": 5
}
