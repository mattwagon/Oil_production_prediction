{
 "cells": [
  {
   "cell_type": "markdown",
   "id": "98116a8e",
   "metadata": {},
   "source": [
    "# RNN - Model"
   ]
  },
  {
   "cell_type": "code",
   "execution_count": 10,
   "id": "b6c53e33",
   "metadata": {},
   "outputs": [],
   "source": [
    "# DATA MANIPULATION, Visualization, and stats\n",
    "import pandas as pd\n",
    "from glob import glob\n",
    "import os\n",
    "import seaborn as sns\n",
    "import matplotlib.pyplot as plt\n",
    "import numpy as np\n",
    "from sklearn.preprocessing import MinMaxScaler"
   ]
  },
  {
   "cell_type": "code",
   "execution_count": 11,
   "id": "453e9314",
   "metadata": {},
   "outputs": [
    {
     "data": {
      "text/plain": [
       "'/Users/eduardomonteiro/code/mattwagon/oil_production_prediction/notebooks'"
      ]
     },
     "execution_count": 11,
     "metadata": {},
     "output_type": "execute_result"
    }
   ],
   "source": [
    "# Your current working directory should be ./mattwagon/oil_production_prediction/notebooks\n",
    "os.getcwd()"
   ]
  },
  {
   "cell_type": "markdown",
   "id": "dc2bd67d",
   "metadata": {
    "heading_collapsed": true
   },
   "source": [
    "## Import the data"
   ]
  },
  {
   "cell_type": "code",
   "execution_count": 12,
   "id": "02647693",
   "metadata": {
    "hidden": true
   },
   "outputs": [],
   "source": [
    "# This filepath should work for all of us\n",
    "# I have added 'raw_data' to .gitignore so it should never be pushed to the repo\n",
    "path = os.path.join('..', 'raw_data')\n",
    "file_names = os.listdir(path)\n",
    "csv_files = [f for f in file_names if f.endswith('.csv')]\n",
    "\n",
    "csv_files.sort()\n",
    "\n",
    "df = pd.DataFrame()\n",
    "\n",
    "for file in csv_files:\n",
    "    file_path = os.path.join(path, file)\n",
    "    df_aux = pd.read_csv(file_path)\n",
    "    df = pd.concat([df, df_aux], ignore_index=True)"
   ]
  },
  {
   "cell_type": "code",
   "execution_count": 13,
   "id": "bafc30ad",
   "metadata": {
    "hidden": true
   },
   "outputs": [],
   "source": [
    "df['Date'] = pd.to_datetime(df['Date'])\n",
    "df['Date'] = df['Date'].dt.tz_convert(None)\n",
    "df['Date'] = pd.to_datetime(df['Date'].apply(lambda x: x + pd.DateOffset(hours=1)))"
   ]
  },
  {
   "cell_type": "code",
   "execution_count": 14,
   "id": "2542486f",
   "metadata": {
    "hidden": true
   },
   "outputs": [
    {
     "data": {
      "text/html": [
       "<div>\n",
       "<style scoped>\n",
       "    .dataframe tbody tr th:only-of-type {\n",
       "        vertical-align: middle;\n",
       "    }\n",
       "\n",
       "    .dataframe tbody tr th {\n",
       "        vertical-align: top;\n",
       "    }\n",
       "\n",
       "    .dataframe thead th {\n",
       "        text-align: right;\n",
       "    }\n",
       "</style>\n",
       "<table border=\"1\" class=\"dataframe\">\n",
       "  <thead>\n",
       "    <tr style=\"text-align: right;\">\n",
       "      <th></th>\n",
       "      <th>Date</th>\n",
       "      <th>Calculated Drawdown_At Gauge</th>\n",
       "      <th>Calculated Drawdown_At Bottom Node</th>\n",
       "      <th>Reservoir Pressure</th>\n",
       "      <th>z Well Identifier</th>\n",
       "      <th>z TMore PS Identifier</th>\n",
       "      <th>z TMore Identifier</th>\n",
       "      <th>z Tag Identifier 2</th>\n",
       "      <th>z Tag Identifier</th>\n",
       "      <th>z PI-AF Database</th>\n",
       "      <th>...</th>\n",
       "      <th>Annulus Master Valve Status</th>\n",
       "      <th>Annulus Master Valve Opening Frequency</th>\n",
       "      <th>Pseudo Cv</th>\n",
       "      <th>GL GOR</th>\n",
       "      <th>GL Qgas</th>\n",
       "      <th>GL Qliq</th>\n",
       "      <th>GL Qoil</th>\n",
       "      <th>GL Qwat</th>\n",
       "      <th>GL Ramp-up Speed</th>\n",
       "      <th>GL WCT</th>\n",
       "    </tr>\n",
       "  </thead>\n",
       "  <tbody>\n",
       "    <tr>\n",
       "      <th>0</th>\n",
       "      <td>2007-02-01</td>\n",
       "      <td>NaN</td>\n",
       "      <td>NaN</td>\n",
       "      <td>186.34</td>\n",
       "      <td>30221</td>\n",
       "      <td>NaN</td>\n",
       "      <td>NaN</td>\n",
       "      <td>1</td>\n",
       "      <td>3022</td>\n",
       "      <td>NaN</td>\n",
       "      <td>...</td>\n",
       "      <td>NaN</td>\n",
       "      <td>NaN</td>\n",
       "      <td>NaN</td>\n",
       "      <td>52.5</td>\n",
       "      <td>90.0</td>\n",
       "      <td>32300.0</td>\n",
       "      <td>10960.0</td>\n",
       "      <td>21360.0</td>\n",
       "      <td>NaN</td>\n",
       "      <td>66.08</td>\n",
       "    </tr>\n",
       "    <tr>\n",
       "      <th>1</th>\n",
       "      <td>2007-02-02</td>\n",
       "      <td>NaN</td>\n",
       "      <td>NaN</td>\n",
       "      <td>186.34</td>\n",
       "      <td>30221</td>\n",
       "      <td>NaN</td>\n",
       "      <td>NaN</td>\n",
       "      <td>1</td>\n",
       "      <td>3022</td>\n",
       "      <td>NaN</td>\n",
       "      <td>...</td>\n",
       "      <td>NaN</td>\n",
       "      <td>NaN</td>\n",
       "      <td>NaN</td>\n",
       "      <td>52.5</td>\n",
       "      <td>90.0</td>\n",
       "      <td>32300.0</td>\n",
       "      <td>10960.0</td>\n",
       "      <td>21360.0</td>\n",
       "      <td>NaN</td>\n",
       "      <td>66.08</td>\n",
       "    </tr>\n",
       "    <tr>\n",
       "      <th>2</th>\n",
       "      <td>2007-02-03</td>\n",
       "      <td>NaN</td>\n",
       "      <td>NaN</td>\n",
       "      <td>186.34</td>\n",
       "      <td>30221</td>\n",
       "      <td>NaN</td>\n",
       "      <td>NaN</td>\n",
       "      <td>1</td>\n",
       "      <td>3022</td>\n",
       "      <td>NaN</td>\n",
       "      <td>...</td>\n",
       "      <td>NaN</td>\n",
       "      <td>NaN</td>\n",
       "      <td>NaN</td>\n",
       "      <td>52.5</td>\n",
       "      <td>90.0</td>\n",
       "      <td>32300.0</td>\n",
       "      <td>10960.0</td>\n",
       "      <td>21360.0</td>\n",
       "      <td>NaN</td>\n",
       "      <td>66.08</td>\n",
       "    </tr>\n",
       "    <tr>\n",
       "      <th>3</th>\n",
       "      <td>2007-02-04</td>\n",
       "      <td>NaN</td>\n",
       "      <td>NaN</td>\n",
       "      <td>186.34</td>\n",
       "      <td>30221</td>\n",
       "      <td>NaN</td>\n",
       "      <td>NaN</td>\n",
       "      <td>1</td>\n",
       "      <td>3022</td>\n",
       "      <td>NaN</td>\n",
       "      <td>...</td>\n",
       "      <td>NaN</td>\n",
       "      <td>NaN</td>\n",
       "      <td>NaN</td>\n",
       "      <td>52.5</td>\n",
       "      <td>90.0</td>\n",
       "      <td>32300.0</td>\n",
       "      <td>10960.0</td>\n",
       "      <td>21360.0</td>\n",
       "      <td>NaN</td>\n",
       "      <td>66.08</td>\n",
       "    </tr>\n",
       "    <tr>\n",
       "      <th>4</th>\n",
       "      <td>2007-02-05</td>\n",
       "      <td>NaN</td>\n",
       "      <td>NaN</td>\n",
       "      <td>186.34</td>\n",
       "      <td>30221</td>\n",
       "      <td>NaN</td>\n",
       "      <td>NaN</td>\n",
       "      <td>1</td>\n",
       "      <td>3022</td>\n",
       "      <td>NaN</td>\n",
       "      <td>...</td>\n",
       "      <td>NaN</td>\n",
       "      <td>NaN</td>\n",
       "      <td>NaN</td>\n",
       "      <td>52.5</td>\n",
       "      <td>90.0</td>\n",
       "      <td>32300.0</td>\n",
       "      <td>10960.0</td>\n",
       "      <td>21360.0</td>\n",
       "      <td>NaN</td>\n",
       "      <td>66.08</td>\n",
       "    </tr>\n",
       "  </tbody>\n",
       "</table>\n",
       "<p>5 rows × 189 columns</p>\n",
       "</div>"
      ],
      "text/plain": [
       "        Date  Calculated Drawdown_At Gauge  \\\n",
       "0 2007-02-01                           NaN   \n",
       "1 2007-02-02                           NaN   \n",
       "2 2007-02-03                           NaN   \n",
       "3 2007-02-04                           NaN   \n",
       "4 2007-02-05                           NaN   \n",
       "\n",
       "   Calculated Drawdown_At Bottom Node  Reservoir Pressure  z Well Identifier  \\\n",
       "0                                 NaN              186.34              30221   \n",
       "1                                 NaN              186.34              30221   \n",
       "2                                 NaN              186.34              30221   \n",
       "3                                 NaN              186.34              30221   \n",
       "4                                 NaN              186.34              30221   \n",
       "\n",
       "   z TMore PS Identifier  z TMore Identifier  z Tag Identifier 2  \\\n",
       "0                    NaN                 NaN                   1   \n",
       "1                    NaN                 NaN                   1   \n",
       "2                    NaN                 NaN                   1   \n",
       "3                    NaN                 NaN                   1   \n",
       "4                    NaN                 NaN                   1   \n",
       "\n",
       "   z Tag Identifier  z PI-AF Database  ...  Annulus Master Valve Status  \\\n",
       "0              3022               NaN  ...                          NaN   \n",
       "1              3022               NaN  ...                          NaN   \n",
       "2              3022               NaN  ...                          NaN   \n",
       "3              3022               NaN  ...                          NaN   \n",
       "4              3022               NaN  ...                          NaN   \n",
       "\n",
       "   Annulus Master Valve Opening Frequency  Pseudo Cv  GL GOR  GL Qgas  \\\n",
       "0                                     NaN        NaN    52.5     90.0   \n",
       "1                                     NaN        NaN    52.5     90.0   \n",
       "2                                     NaN        NaN    52.5     90.0   \n",
       "3                                     NaN        NaN    52.5     90.0   \n",
       "4                                     NaN        NaN    52.5     90.0   \n",
       "\n",
       "   GL Qliq  GL Qoil  GL Qwat  GL Ramp-up Speed  GL WCT  \n",
       "0  32300.0  10960.0  21360.0               NaN   66.08  \n",
       "1  32300.0  10960.0  21360.0               NaN   66.08  \n",
       "2  32300.0  10960.0  21360.0               NaN   66.08  \n",
       "3  32300.0  10960.0  21360.0               NaN   66.08  \n",
       "4  32300.0  10960.0  21360.0               NaN   66.08  \n",
       "\n",
       "[5 rows x 189 columns]"
      ]
     },
     "execution_count": 14,
     "metadata": {},
     "output_type": "execute_result"
    }
   ],
   "source": [
    "df.head()"
   ]
  },
  {
   "cell_type": "markdown",
   "id": "47726500",
   "metadata": {
    "heading_collapsed": true
   },
   "source": [
    "## Data cleaning"
   ]
  },
  {
   "cell_type": "markdown",
   "id": "1be11f9a",
   "metadata": {
    "hidden": true
   },
   "source": [
    "### Drop features with more than 30% NaN values"
   ]
  },
  {
   "cell_type": "code",
   "execution_count": 15,
   "id": "aaf5d680",
   "metadata": {
    "hidden": true
   },
   "outputs": [],
   "source": [
    "features_nan_drop = []\n",
    "\n",
    "for feature, value in dict(df.isnull().sum().sort_values(ascending=False)).items():\n",
    "    if value/len(df) > 0.3:\n",
    "        features_nan_drop.append(feature)\n",
    "        \n",
    "df.drop(columns=features_nan_drop, inplace=True)"
   ]
  },
  {
   "cell_type": "code",
   "execution_count": 16,
   "id": "d41a6329",
   "metadata": {
    "hidden": true
   },
   "outputs": [
    {
     "data": {
      "text/plain": [
       "(5813, 65)"
      ]
     },
     "execution_count": 16,
     "metadata": {},
     "output_type": "execute_result"
    }
   ],
   "source": [
    "df.shape"
   ]
  },
  {
   "cell_type": "markdown",
   "id": "aeb063c1",
   "metadata": {
    "hidden": true
   },
   "source": [
    "### Drop features with std = 0"
   ]
  },
  {
   "cell_type": "code",
   "execution_count": 17,
   "id": "82a3b658",
   "metadata": {
    "hidden": true
   },
   "outputs": [],
   "source": [
    "features_null_std = []\n",
    "\n",
    "for feature in df.drop(columns='Date').columns:\n",
    "    if df[feature].std() < 0.0000001:\n",
    "        features_null_std.append(feature)\n",
    "        \n",
    "df.drop(columns=features_null_std, inplace=True)"
   ]
  },
  {
   "cell_type": "code",
   "execution_count": 18,
   "id": "51a3ee08",
   "metadata": {
    "hidden": true
   },
   "outputs": [
    {
     "data": {
      "text/plain": [
       "(5813, 41)"
      ]
     },
     "execution_count": 18,
     "metadata": {},
     "output_type": "execute_result"
    }
   ],
   "source": [
    "df.shape"
   ]
  },
  {
   "cell_type": "markdown",
   "id": "77b3a86e",
   "metadata": {
    "hidden": true
   },
   "source": [
    "### Drop corrected features"
   ]
  },
  {
   "cell_type": "code",
   "execution_count": 19,
   "id": "2dbec33e",
   "metadata": {
    "hidden": true
   },
   "outputs": [],
   "source": [
    "corrected_features_drop = ['Qwat MPFM corrected', 'Qoil MPFM corrected', 'Qliq MPFM corrected', 'Qgas MPFM corrected']\n",
    "df.drop(columns=corrected_features_drop, inplace=True)"
   ]
  },
  {
   "cell_type": "markdown",
   "id": "d0f67b47",
   "metadata": {
    "hidden": true
   },
   "source": [
    "### Drop choke features"
   ]
  },
  {
   "cell_type": "code",
   "execution_count": 20,
   "id": "20ffd2f4",
   "metadata": {
    "hidden": true
   },
   "outputs": [],
   "source": [
    "choke_features_drop = ['Choke Opening Calc1', 'Choke Opening Calc2', 'Choke Measured', 'Choke Calculated', 'Choke CCR']\n",
    "df.drop(columns=choke_features_drop, inplace = True)"
   ]
  },
  {
   "cell_type": "markdown",
   "id": "83ad166e",
   "metadata": {
    "hidden": true
   },
   "source": [
    "### Drop correlated features"
   ]
  },
  {
   "cell_type": "code",
   "execution_count": 21,
   "id": "351b7e59",
   "metadata": {
    "hidden": true
   },
   "outputs": [],
   "source": [
    "features_corr_drop = ['Qwat PC', 'Qgas PC', 'Qoil PC', 'Tubing dP','MPFM P', 'Qliq MPFM', 'Qwat MPFM']\n",
    "df.drop(columns=features_corr_drop, inplace = True)"
   ]
  },
  {
   "cell_type": "markdown",
   "id": "9eb026b6",
   "metadata": {
    "hidden": true
   },
   "source": [
    "### Drop features in remove dictionary"
   ]
  },
  {
   "cell_type": "code",
   "execution_count": 22,
   "id": "b5db2993",
   "metadata": {
    "hidden": true
   },
   "outputs": [],
   "source": [
    "remove = {\"Sand Rate\", \"MPFM NTotal Count Rate\", \"MPFM N81 Count Rate\", \"MPFM N356 Count Rate\", \"MPFM N32 Count Rate\", \"MPFM GOR\", \"Downhole Gauge T\", \"Downhole Gauge P\"}"
   ]
  },
  {
   "cell_type": "code",
   "execution_count": 23,
   "id": "19fae570",
   "metadata": {
    "hidden": true
   },
   "outputs": [],
   "source": [
    "df.drop(columns=remove, inplace=True)"
   ]
  },
  {
   "cell_type": "markdown",
   "id": "2995e2e2",
   "metadata": {
    "hidden": true
   },
   "source": [
    "### Drop the Date"
   ]
  },
  {
   "cell_type": "code",
   "execution_count": 24,
   "id": "31cd7811",
   "metadata": {
    "hidden": true
   },
   "outputs": [],
   "source": [
    "df.drop(columns='Date', inplace=True)"
   ]
  },
  {
   "cell_type": "markdown",
   "id": "9f187b6b",
   "metadata": {
    "heading_collapsed": true
   },
   "source": [
    "## Impute features with <30% NaN values"
   ]
  },
  {
   "cell_type": "code",
   "execution_count": 25,
   "id": "295d9b78",
   "metadata": {
    "hidden": true
   },
   "outputs": [],
   "source": [
    "for feature in df.columns:\n",
    "    df[feature].replace(np.nan, df[feature].median(), inplace=True)"
   ]
  },
  {
   "cell_type": "code",
   "execution_count": 26,
   "id": "176c8147",
   "metadata": {
    "hidden": true
   },
   "outputs": [
    {
     "data": {
      "text/plain": [
       "WHT                0\n",
       "WHP                0\n",
       "Tubing Gradient    0\n",
       "Service Line P     0\n",
       "Sand Raw           0\n",
       "Qoil MPFM          0\n",
       "Qgas MPFM          0\n",
       "MPFM WCT           0\n",
       "MPFM Venturi dP    0\n",
       "MPFM T             0\n",
       "MPFM CF GOR        0\n",
       "Manifold T         0\n",
       "Manifold P         0\n",
       "Jumper T           0\n",
       "Choke Opening      0\n",
       "Annulus P          0\n",
       "dtype: int64"
      ]
     },
     "execution_count": 26,
     "metadata": {},
     "output_type": "execute_result"
    }
   ],
   "source": [
    "df.isnull().sum()"
   ]
  },
  {
   "cell_type": "markdown",
   "id": "9efa10c1",
   "metadata": {},
   "source": [
    "## Visualising the Time Series"
   ]
  },
  {
   "cell_type": "code",
   "execution_count": 62,
   "id": "46b0b765",
   "metadata": {},
   "outputs": [],
   "source": [
    "TARGET = 'Qoil MPFM'\n",
    "N_TARGETS = 1\n",
    "N_FEATURES = 3 "
   ]
  },
  {
   "cell_type": "code",
   "execution_count": 61,
   "id": "c182a8e4",
   "metadata": {},
   "outputs": [
    {
     "data": {
      "image/png": "[encoded data removed]",
      "text/plain": [
       "<Figure size 640x480 with 2 Axes>"
      ]
     },
     "metadata": {},
     "output_type": "display_data"
    }
   ],
   "source": [
    "plot_cols = [TARGET, 'Qgas MPFM']\n",
    "plot_features = df[plot_cols]\n",
    "plot_features.index = df.index\n",
    "plot_features.plot(subplots = True);"
   ]
  },
  {
   "cell_type": "code",
   "execution_count": 63,
   "id": "961050a1",
   "metadata": {},
   "outputs": [
    {
     "data": {
      "image/png": "[encoded data removed]",
      "text/plain": [
       "<Figure size 640x480 with 2 Axes>"
      ]
     },
     "metadata": {},
     "output_type": "display_data"
    }
   ],
   "source": [
    "zoomed_slice = slice(2000,3100)\n",
    "\n",
    "plot_features = df.loc[zoomed_slice, plot_cols]\n",
    "plot_features.plot(subplots = True);"
   ]
  },
  {
   "cell_type": "markdown",
   "id": "b313639d",
   "metadata": {},
   "source": [
    "## Prepare the dataset"
   ]
  },
  {
   "cell_type": "markdown",
   "id": "13f0099a",
   "metadata": {},
   "source": [
    "### The big picture"
   ]
  },
  {
   "cell_type": "markdown",
   "id": "eca6fd46",
   "metadata": {},
   "source": [
    "Step 1: Cross validation in time series (folds):\n",
    "    - we'll create folds and train/evaluate our LSTM on these different folds about the robustness of the neural network\n",
    "\n",
    "Step 2: Holdout method within each fold (train-test-split) to:\n",
    "    - fit the model on the train set;\n",
    "    - and evaluate it on the test set;\n",
    "    - always split the train set chronologically before the test set\n",
    "    \n",
    "Step 3: Sampling sequences in both the train set and the test set"
   ]
  },
  {
   "cell_type": "markdown",
   "id": "30606997",
   "metadata": {},
   "source": [
    "### Creating folds for cross-validation"
   ]
  },
  {
   "cell_type": "code",
   "execution_count": 72,
   "id": "5bd5d598",
   "metadata": {},
   "outputs": [
    {
     "data": {
      "text/html": [
       "<div>\n",
       "<style scoped>\n",
       "    .dataframe tbody tr th:only-of-type {\n",
       "        vertical-align: middle;\n",
       "    }\n",
       "\n",
       "    .dataframe tbody tr th {\n",
       "        vertical-align: top;\n",
       "    }\n",
       "\n",
       "    .dataframe thead th {\n",
       "        text-align: right;\n",
       "    }\n",
       "</style>\n",
       "<table border=\"1\" class=\"dataframe\">\n",
       "  <thead>\n",
       "    <tr style=\"text-align: right;\">\n",
       "      <th></th>\n",
       "      <th>MPFM Venturi dP</th>\n",
       "      <th>WHT</th>\n",
       "      <th>Qoil MPFM</th>\n",
       "    </tr>\n",
       "  </thead>\n",
       "  <tbody>\n",
       "    <tr>\n",
       "      <th>0</th>\n",
       "      <td>1672.997986</td>\n",
       "      <td>51.247467</td>\n",
       "      <td>14065.431937</td>\n",
       "    </tr>\n",
       "    <tr>\n",
       "      <th>1</th>\n",
       "      <td>1672.997986</td>\n",
       "      <td>51.247467</td>\n",
       "      <td>14065.431937</td>\n",
       "    </tr>\n",
       "    <tr>\n",
       "      <th>2</th>\n",
       "      <td>1672.997986</td>\n",
       "      <td>51.247467</td>\n",
       "      <td>14065.431937</td>\n",
       "    </tr>\n",
       "    <tr>\n",
       "      <th>3</th>\n",
       "      <td>1672.997986</td>\n",
       "      <td>51.247467</td>\n",
       "      <td>14065.431937</td>\n",
       "    </tr>\n",
       "    <tr>\n",
       "      <th>4</th>\n",
       "      <td>1672.997986</td>\n",
       "      <td>51.247467</td>\n",
       "      <td>14065.431937</td>\n",
       "    </tr>\n",
       "    <tr>\n",
       "      <th>...</th>\n",
       "      <td>...</td>\n",
       "      <td>...</td>\n",
       "      <td>...</td>\n",
       "    </tr>\n",
       "    <tr>\n",
       "      <th>5808</th>\n",
       "      <td>1687.935181</td>\n",
       "      <td>51.966740</td>\n",
       "      <td>10925.670806</td>\n",
       "    </tr>\n",
       "    <tr>\n",
       "      <th>5809</th>\n",
       "      <td>1719.284912</td>\n",
       "      <td>51.968021</td>\n",
       "      <td>11142.564473</td>\n",
       "    </tr>\n",
       "    <tr>\n",
       "      <th>5810</th>\n",
       "      <td>1742.380127</td>\n",
       "      <td>51.972717</td>\n",
       "      <td>11140.120568</td>\n",
       "    </tr>\n",
       "    <tr>\n",
       "      <th>5811</th>\n",
       "      <td>1729.632324</td>\n",
       "      <td>51.982071</td>\n",
       "      <td>11400.139595</td>\n",
       "    </tr>\n",
       "    <tr>\n",
       "      <th>5812</th>\n",
       "      <td>1781.585205</td>\n",
       "      <td>51.970646</td>\n",
       "      <td>11193.020395</td>\n",
       "    </tr>\n",
       "  </tbody>\n",
       "</table>\n",
       "<p>5813 rows × 3 columns</p>\n",
       "</div>"
      ],
      "text/plain": [
       "      MPFM Venturi dP        WHT     Qoil MPFM\n",
       "0         1672.997986  51.247467  14065.431937\n",
       "1         1672.997986  51.247467  14065.431937\n",
       "2         1672.997986  51.247467  14065.431937\n",
       "3         1672.997986  51.247467  14065.431937\n",
       "4         1672.997986  51.247467  14065.431937\n",
       "...               ...        ...           ...\n",
       "5808      1687.935181  51.966740  10925.670806\n",
       "5809      1719.284912  51.968021  11142.564473\n",
       "5810      1742.380127  51.972717  11140.120568\n",
       "5811      1729.632324  51.982071  11400.139595\n",
       "5812      1781.585205  51.970646  11193.020395\n",
       "\n",
       "[5813 rows x 3 columns]"
      ]
     },
     "execution_count": 72,
     "metadata": {},
     "output_type": "execute_result"
    }
   ],
   "source": [
    "df_LSTM = df[['MPFM Venturi dP', 'WHT', 'Qoil MPFM']]\n",
    "df_LSTM"
   ]
  },
  {
   "cell_type": "code",
   "execution_count": 73,
   "id": "bd739d45",
   "metadata": {},
   "outputs": [],
   "source": [
    "# --------------------------------------------------- #\n",
    "# Let's consider FOLDS with a length of 3 years       #\n",
    "# (2 years will be used for train, 1 for test!)       #\n",
    "# --------------------------------------------------- #\n",
    "\n",
    "FOLD_LENGTH = 365 * 6 # six years\n",
    "\n",
    "# --------------------------------------------------- #\n",
    "# Let's consider FOLDS starting every trimester       #\n",
    "# --------------------------------------------------- #\n",
    "    \n",
    "FOLD_STRIDE = 91 # 1 quarter = 91 days\n",
    "\n",
    "# --------------------------------------------------- #\n",
    "# Let's consider a train-test-split ratio of 2/3      #\n",
    "# --------------------------------------------------- #\n",
    "\n",
    "TRAIN_TEST_RATIO = 0.66"
   ]
  },
  {
   "cell_type": "code",
   "execution_count": 74,
   "id": "b6107a35",
   "metadata": {},
   "outputs": [],
   "source": [
    "def get_folds(\n",
    "    df: pd.DataFrame,\n",
    "    fold_length: int,\n",
    "    fold_stride: int) -> list[pd.DataFrame]:\n",
    "    '''\n",
    "    This function slides through the Time Series dataframe of shape (n_timesteps, n_features) to create folds\n",
    "    - of equal `fold_length`\n",
    "    - using `fold_stride` between each fold\n",
    "    \n",
    "    Returns a list of folds, each as a DataFrame\n",
    "    '''\n",
    "    fold_list = []\n",
    "    \n",
    "    \n",
    "    for i in range(0, len(df), fold_stride):\n",
    "        if i + fold_length >= len(df):\n",
    "            break\n",
    "        fold_list.append(df[i:fold_length])\n",
    "    \n",
    "    return fold_list"
   ]
  },
  {
   "cell_type": "code",
   "execution_count": 75,
   "id": "0f764fb5",
   "metadata": {},
   "outputs": [
    {
     "name": "stdout",
     "output_type": "stream",
     "text": [
      "The function generated 40 folds.\n",
      "Each fold has a shape equal to (2190, 3).\n"
     ]
    }
   ],
   "source": [
    "folds = get_folds(df_LSTM, FOLD_LENGTH, FOLD_STRIDE)\n",
    "\n",
    "print(f'The function generated {len(folds)} folds.')\n",
    "print(f'Each fold has a shape equal to {folds[0].shape}.')"
   ]
  },
  {
   "cell_type": "markdown",
   "id": "e3daf9d0",
   "metadata": {},
   "source": [
    "### Temporal Train/Test Split"
   ]
  },
  {
   "cell_type": "markdown",
   "id": "ea660ee5",
   "metadata": {},
   "source": [
    "Focus on 1 fold for the moment:"
   ]
  },
  {
   "cell_type": "code",
   "execution_count": 76,
   "id": "c4e047ff",
   "metadata": {},
   "outputs": [
    {
     "data": {
      "text/html": [
       "<div>\n",
       "<style scoped>\n",
       "    .dataframe tbody tr th:only-of-type {\n",
       "        vertical-align: middle;\n",
       "    }\n",
       "\n",
       "    .dataframe tbody tr th {\n",
       "        vertical-align: top;\n",
       "    }\n",
       "\n",
       "    .dataframe thead th {\n",
       "        text-align: right;\n",
       "    }\n",
       "</style>\n",
       "<table border=\"1\" class=\"dataframe\">\n",
       "  <thead>\n",
       "    <tr style=\"text-align: right;\">\n",
       "      <th></th>\n",
       "      <th>MPFM Venturi dP</th>\n",
       "      <th>WHT</th>\n",
       "      <th>Qoil MPFM</th>\n",
       "    </tr>\n",
       "  </thead>\n",
       "  <tbody>\n",
       "    <tr>\n",
       "      <th>0</th>\n",
       "      <td>1672.997986</td>\n",
       "      <td>51.247467</td>\n",
       "      <td>14065.431937</td>\n",
       "    </tr>\n",
       "    <tr>\n",
       "      <th>1</th>\n",
       "      <td>1672.997986</td>\n",
       "      <td>51.247467</td>\n",
       "      <td>14065.431937</td>\n",
       "    </tr>\n",
       "    <tr>\n",
       "      <th>2</th>\n",
       "      <td>1672.997986</td>\n",
       "      <td>51.247467</td>\n",
       "      <td>14065.431937</td>\n",
       "    </tr>\n",
       "    <tr>\n",
       "      <th>3</th>\n",
       "      <td>1672.997986</td>\n",
       "      <td>51.247467</td>\n",
       "      <td>14065.431937</td>\n",
       "    </tr>\n",
       "    <tr>\n",
       "      <th>4</th>\n",
       "      <td>1672.997986</td>\n",
       "      <td>51.247467</td>\n",
       "      <td>14065.431937</td>\n",
       "    </tr>\n",
       "    <tr>\n",
       "      <th>...</th>\n",
       "      <td>...</td>\n",
       "      <td>...</td>\n",
       "      <td>...</td>\n",
       "    </tr>\n",
       "    <tr>\n",
       "      <th>2185</th>\n",
       "      <td>4440.488770</td>\n",
       "      <td>50.234428</td>\n",
       "      <td>17033.866361</td>\n",
       "    </tr>\n",
       "    <tr>\n",
       "      <th>2186</th>\n",
       "      <td>4339.430664</td>\n",
       "      <td>50.448097</td>\n",
       "      <td>17049.719495</td>\n",
       "    </tr>\n",
       "    <tr>\n",
       "      <th>2187</th>\n",
       "      <td>4462.657715</td>\n",
       "      <td>50.312836</td>\n",
       "      <td>17144.442110</td>\n",
       "    </tr>\n",
       "    <tr>\n",
       "      <th>2188</th>\n",
       "      <td>4526.409668</td>\n",
       "      <td>50.242947</td>\n",
       "      <td>17705.125916</td>\n",
       "    </tr>\n",
       "    <tr>\n",
       "      <th>2189</th>\n",
       "      <td>4695.399902</td>\n",
       "      <td>50.176456</td>\n",
       "      <td>17083.493060</td>\n",
       "    </tr>\n",
       "  </tbody>\n",
       "</table>\n",
       "<p>2190 rows × 3 columns</p>\n",
       "</div>"
      ],
      "text/plain": [
       "      MPFM Venturi dP        WHT     Qoil MPFM\n",
       "0         1672.997986  51.247467  14065.431937\n",
       "1         1672.997986  51.247467  14065.431937\n",
       "2         1672.997986  51.247467  14065.431937\n",
       "3         1672.997986  51.247467  14065.431937\n",
       "4         1672.997986  51.247467  14065.431937\n",
       "...               ...        ...           ...\n",
       "2185      4440.488770  50.234428  17033.866361\n",
       "2186      4339.430664  50.448097  17049.719495\n",
       "2187      4462.657715  50.312836  17144.442110\n",
       "2188      4526.409668  50.242947  17705.125916\n",
       "2189      4695.399902  50.176456  17083.493060\n",
       "\n",
       "[2190 rows x 3 columns]"
      ]
     },
     "execution_count": 76,
     "metadata": {},
     "output_type": "execute_result"
    }
   ],
   "source": [
    "fold = folds[0]\n",
    "fold"
   ]
  },
  {
   "cell_type": "markdown",
   "id": "7c21afc6",
   "metadata": {},
   "source": [
    "Split the fold above chronologically into a train dataframe and a test dataframe"
   ]
  },
  {
   "cell_type": "code",
   "execution_count": 122,
   "id": "7d717b18",
   "metadata": {},
   "outputs": [],
   "source": [
    "INPUT_LENGTH = 14 #two weeks"
   ]
  },
  {
   "cell_type": "code",
   "execution_count": 123,
   "id": "3f77859b",
   "metadata": {},
   "outputs": [],
   "source": [
    "def train_test_split(fold:pd.DataFrame,\n",
    "                     train_test_ratio: float,\n",
    "                     input_length: int) -> tuple[pd.DataFrame]:\n",
    "    '''\n",
    "    Returns a train dataframe and a test dataframe (fold_train, fold_test)\n",
    "    from which one can sample (X,y) sequences.\n",
    "    df_train should contain all the timesteps until round(train_test_ratio * len(fold))   \n",
    "    '''\n",
    "    fold_train = fold[0: round(train_test_ratio * len(fold))]\n",
    "    fold_test = fold[round(train_test_ratio * len(fold)) - input_length:]\n",
    "    \n",
    "    return fold_train, fold_test"
   ]
  },
  {
   "cell_type": "code",
   "execution_count": 124,
   "id": "b3288680",
   "metadata": {},
   "outputs": [],
   "source": [
    "(fold_train, fold_test) = train_test_split(fold, TRAIN_TEST_RATIO, INPUT_LENGTH)"
   ]
  },
  {
   "cell_type": "markdown",
   "id": "70b0dd56",
   "metadata": {},
   "source": [
    "### Create (X,y) sequences"
   ]
  },
  {
   "cell_type": "code",
   "execution_count": 125,
   "id": "9e214fb5",
   "metadata": {},
   "outputs": [
    {
     "name": "stdout",
     "output_type": "stream",
     "text": [
      "N_FEATURES = 3\n",
      "INPUT_LENGTH = 14 days = 2 weeks\n"
     ]
    }
   ],
   "source": [
    "# INPUT X\n",
    "print(f'N_FEATURES = {N_FEATURES}')\n",
    "print(f'INPUT_LENGTH = {INPUT_LENGTH} days = {int(INPUT_LENGTH/7)} weeks')"
   ]
  },
  {
   "cell_type": "code",
   "execution_count": 126,
   "id": "575368f3",
   "metadata": {},
   "outputs": [
    {
     "name": "stdout",
     "output_type": "stream",
     "text": [
      "N_TARGETS = 1\n",
      "OUTPUT_LENGTH = 1\n"
     ]
    }
   ],
   "source": [
    "# TARGET Y\n",
    "print(f'N_TARGETS = {N_TARGETS}')\n",
    "\n",
    "# Let's only predict 1 value ahead of us\n",
    "OUTPUT_LENGTH = 1\n",
    "print(f'OUTPUT_LENGTH = {OUTPUT_LENGTH}')"
   ]
  },
  {
   "cell_type": "code",
   "execution_count": 127,
   "id": "4ca955ef",
   "metadata": {},
   "outputs": [],
   "source": [
    "def get_Xi_yi(\n",
    "    fold:pd.DataFrame, \n",
    "    input_length:int, \n",
    "    output_length:int):\n",
    "    '''\n",
    "    - given a fold, it returns one sequence (X_i, y_i)\n",
    "    - with the starting point of the sequence being chosen at random\n",
    "    '''\n",
    "    random_number = np.random.randint(0,len(fold) - (input_length + output_length) + 1)\n",
    "\n",
    "    X_i = fold.iloc[random_number : random_number + input_length]\n",
    "    y_i = fold.iloc[random_number + input_length : random_number + input_length + output_length][[TARGET]]\n",
    "    \n",
    "    return (X_i, y_i)"
   ]
  },
  {
   "cell_type": "code",
   "execution_count": 128,
   "id": "392739ce",
   "metadata": {},
   "outputs": [],
   "source": [
    "X_train_i, y_train_i = get_Xi_yi(fold_train, INPUT_LENGTH, OUTPUT_LENGTH)\n",
    "X_test_i, y_test_i = get_Xi_yi(fold_test, INPUT_LENGTH, OUTPUT_LENGTH)"
   ]
  },
  {
   "cell_type": "code",
   "execution_count": 129,
   "id": "d2f1307a",
   "metadata": {},
   "outputs": [],
   "source": [
    "# Advanced check 😈 \n",
    "# You should not allow some truncated (X_i,y_i) pairs to be generating,\n",
    "# should you start sampling too close from the end of the fold... !\n",
    "\n",
    "X_last, y_last = get_Xi_yi(fold_test, input_length=len(fold_test)-1, output_length=OUTPUT_LENGTH)\n",
    "assert y_last.values == fold_test.iloc[-1,:][TARGET]"
   ]
  },
  {
   "cell_type": "code",
   "execution_count": 130,
   "id": "b4dd1125",
   "metadata": {},
   "outputs": [
    {
     "data": {
      "text/plain": [
       "(14, 3)"
      ]
     },
     "execution_count": 130,
     "metadata": {},
     "output_type": "execute_result"
    }
   ],
   "source": [
    "X_train_i.shape"
   ]
  },
  {
   "cell_type": "markdown",
   "id": "02bf72ad",
   "metadata": {},
   "source": [
    "### Scanning chronologically"
   ]
  },
  {
   "cell_type": "markdown",
   "id": "7e3a26cb",
   "metadata": {},
   "source": [
    "Let's scan the fold with a temporal stride of 1 day (the minimum one)"
   ]
  },
  {
   "cell_type": "code",
   "execution_count": 131,
   "id": "a6fff37e",
   "metadata": {},
   "outputs": [],
   "source": [
    "SEQUENCE_STRIDE = 1"
   ]
  },
  {
   "cell_type": "code",
   "execution_count": 132,
   "id": "bc74bac0",
   "metadata": {},
   "outputs": [],
   "source": [
    "def get_X_y_strides(fold: pd.DataFrame, input_length: int, output_length: int, sequence_stride: int):\n",
    "    '''\n",
    "    - slides through a `fold` Time Series (2D array) to create sequences of equal\n",
    "        * `input_length` for X,\n",
    "        * `output_length` for y,\n",
    "    using a temporal gap `sequence_stride` between each sequence\n",
    "    - returns a list of sequences, each as a 2D-array time series\n",
    "    '''\n",
    "\n",
    "    X, y = [], []\n",
    "\n",
    "    for i in range(0, len(fold), sequence_stride):\n",
    "        # Exits the loop as soon as the last fold index would exceed the last index\n",
    "        if (i + input_length + output_length) >= len(fold):\n",
    "            break\n",
    "        X_i = fold.iloc[i:i + input_length, :]\n",
    "        y_i = fold.iloc[i + input_length:i + input_length + output_length, :][[TARGET]]\n",
    "        X.append(X_i)\n",
    "        y.append(y_i)\n",
    "\n",
    "    return np.array(X), np.array(y)"
   ]
  },
  {
   "cell_type": "code",
   "execution_count": 133,
   "id": "16cfb8e1",
   "metadata": {},
   "outputs": [
    {
     "name": "stdout",
     "output_type": "stream",
     "text": [
      "FOLD_LENGTH\n",
      "= 2190 days\n",
      "= 312 weeks\n"
     ]
    }
   ],
   "source": [
    "print(\"FOLD_LENGTH\") \n",
    "print(f\"= {int(FOLD_LENGTH)} days\")\n",
    "print(f\"= {int(FOLD_LENGTH/7)} weeks\")"
   ]
  },
  {
   "cell_type": "code",
   "execution_count": 134,
   "id": "5a9d6998",
   "metadata": {},
   "outputs": [
    {
     "name": "stdout",
     "output_type": "stream",
     "text": [
      "(1430, 14, 3)\n",
      "(1430, 1, 1)\n"
     ]
    }
   ],
   "source": [
    "X_train, y_train = get_X_y_strides(fold_train, INPUT_LENGTH, OUTPUT_LENGTH, SEQUENCE_STRIDE)\n",
    "X_test, y_test = get_X_y_strides(fold_test, INPUT_LENGTH, OUTPUT_LENGTH, SEQUENCE_STRIDE)\n",
    "\n",
    "print(X_train.shape)\n",
    "print(y_train.shape)"
   ]
  },
  {
   "cell_type": "markdown",
   "id": "c9e170fe",
   "metadata": {},
   "source": [
    "## Modeling"
   ]
  },
  {
   "cell_type": "markdown",
   "id": "2ffbcb30",
   "metadata": {},
   "source": [
    "### LSTM"
   ]
  },
  {
   "cell_type": "markdown",
   "id": "0f94d5ed",
   "metadata": {},
   "source": [
    "Create a function init_model which builds and compiles a simple Recurrent Neural Network with an LSTM layer"
   ]
  },
  {
   "cell_type": "code",
   "execution_count": 135,
   "id": "9a4aacb8",
   "metadata": {},
   "outputs": [
    {
     "data": {
      "text/plain": [
       "(1430, 14, 3)"
      ]
     },
     "execution_count": 135,
     "metadata": {},
     "output_type": "execute_result"
    }
   ],
   "source": [
    "X_train.shape"
   ]
  },
  {
   "cell_type": "code",
   "execution_count": 136,
   "id": "eec71e93",
   "metadata": {},
   "outputs": [],
   "source": [
    "from tensorflow.keras import models\n",
    "from tensorflow.keras import layers\n",
    "from tensorflow.keras import optimizers, metrics\n",
    "from tensorflow.keras.regularizers import L1L2\n",
    "from tensorflow.keras.layers import Normalization"
   ]
  },
  {
   "cell_type": "code",
   "execution_count": 137,
   "id": "ea492f4b",
   "metadata": {},
   "outputs": [],
   "source": [
    "def init_model(X_train, y_train):\n",
    "    \n",
    "    #normalization\n",
    "    normalizer = Normalization()\n",
    "    normalizer.adapt(X_train)\n",
    "    \n",
    "    #arquitecture\n",
    "    model = models.Sequential()\n",
    "    model.add(normalizer)\n",
    "    model.add(layers.LSTM(64, activation='tanh', kernel_regularizer=L1L2(l1=0.05, l2=0.05)))\n",
    "    output_len = y_train.shape[1]\n",
    "    model.add(layers.Dense(output_len, activation='linear'))\n",
    "    \n",
    "    #compile\n",
    "    adam = optimizers.Adam(learning_rate=0.02)\n",
    "    \n",
    "    model.compile(loss='mse',\n",
    "                 optimizer=adam,\n",
    "                 metrics=['mae'])\n",
    "    \n",
    "    return model"
   ]
  },
  {
   "cell_type": "code",
   "execution_count": 138,
   "id": "908ec43d",
   "metadata": {},
   "outputs": [
    {
     "name": "stdout",
     "output_type": "stream",
     "text": [
      "Model: \"sequential_6\"\n",
      "_________________________________________________________________\n",
      " Layer (type)                Output Shape              Param #   \n",
      "=================================================================\n",
      " normalization_3 (Normalizat  (None, None, 3)          7         \n",
      " ion)                                                            \n",
      "                                                                 \n",
      " lstm_3 (LSTM)               (None, 64)                17408     \n",
      "                                                                 \n",
      " dense_3 (Dense)             (None, 1)                 65        \n",
      "                                                                 \n",
      "=================================================================\n",
      "Total params: 17,480\n",
      "Trainable params: 17,473\n",
      "Non-trainable params: 7\n",
      "_________________________________________________________________\n"
     ]
    }
   ],
   "source": [
    "model = init_model(X_train, y_train)\n",
    "model.summary()"
   ]
  },
  {
   "cell_type": "code",
   "execution_count": 139,
   "id": "b1c9280b",
   "metadata": {},
   "outputs": [],
   "source": [
    "def plot_history(history):\n",
    "    \n",
    "    fig, ax = plt.subplots(1,2, figsize=(20,7))\n",
    "    # --- LOSS: MSE --- \n",
    "    ax[0].plot(history.history['loss'])\n",
    "    ax[0].plot(history.history['val_loss'])\n",
    "    ax[0].set_title('MSE')\n",
    "    ax[0].set_ylabel('Loss')\n",
    "    ax[0].set_xlabel('Epoch')\n",
    "    ax[0].legend(['Train', 'Validation'], loc='best')\n",
    "    ax[0].grid(axis=\"x\",linewidth=0.5)\n",
    "    ax[0].grid(axis=\"y\",linewidth=0.5)\n",
    "    \n",
    "    # --- METRICS:MAE ---\n",
    "    \n",
    "    ax[1].plot(history.history['mae'])\n",
    "    ax[1].plot(history.history['val_mae'])\n",
    "    ax[1].set_title('MAE')\n",
    "    ax[1].set_ylabel('MAE')\n",
    "    ax[1].set_xlabel('Epoch')\n",
    "    ax[1].legend(['Train', 'Validation'], loc='best')\n",
    "    ax[1].grid(axis=\"x\",linewidth=0.5)\n",
    "    ax[1].grid(axis=\"y\",linewidth=0.5)\n",
    "                        \n",
    "    return ax"
   ]
  },
  {
   "cell_type": "code",
   "execution_count": 140,
   "id": "1aff758b",
   "metadata": {},
   "outputs": [],
   "source": [
    "from tensorflow.keras.callbacks import EarlyStopping\n",
    "\n",
    "es = EarlyStopping(patience=5, restore_best_weights=True)\n",
    "\n",
    "def fit_model(model):\n",
    "    \n",
    "    history = model.fit(X_train, y_train,\n",
    "                        validation_split=0.3,\n",
    "                        shuffle = False,\n",
    "                        batch_size=32,\n",
    "                        epochs=100,\n",
    "                        verbose=1,\n",
    "                        callbacks=[es]\n",
    "                       )\n",
    "    \n",
    "    return (model, history)"
   ]
  },
  {
   "cell_type": "code",
   "execution_count": 141,
   "id": "be69f76b",
   "metadata": {},
   "outputs": [
    {
     "name": "stdout",
     "output_type": "stream",
     "text": [
      "Epoch 1/100\n",
      "32/32 [==============================] - 1s 14ms/step - loss: 999141696.0000 - mae: 30791.7480 - val_loss: 370192896.0000 - val_mae: 17719.9238\n",
      "Epoch 2/100\n",
      "32/32 [==============================] - 0s 3ms/step - loss: 996532736.0000 - mae: 30750.1367 - val_loss: 367659136.0000 - val_mae: 17658.4180\n",
      "Epoch 3/100\n",
      "32/32 [==============================] - 0s 3ms/step - loss: 993950784.0000 - mae: 30708.9492 - val_loss: 366582272.0000 - val_mae: 17634.7773\n",
      "Epoch 4/100\n",
      "32/32 [==============================] - 0s 3ms/step - loss: 991407616.0000 - mae: 30668.3418 - val_loss: 365358336.0000 - val_mae: 17606.9102\n",
      "Epoch 5/100\n",
      "32/32 [==============================] - 0s 3ms/step - loss: 988898112.0000 - mae: 30628.2266 - val_loss: 364199328.0000 - val_mae: 17581.0273\n",
      "Epoch 6/100\n",
      "32/32 [==============================] - 0s 3ms/step - loss: 986371008.0000 - mae: 30587.7500 - val_loss: 363159008.0000 - val_mae: 17558.4023\n",
      "Epoch 7/100\n",
      "32/32 [==============================] - 0s 3ms/step - loss: 983793664.0000 - mae: 30546.4199 - val_loss: 361985472.0000 - val_mae: 17532.0410\n",
      "Epoch 8/100\n",
      "32/32 [==============================] - 0s 3ms/step - loss: 981255552.0000 - mae: 30505.6816 - val_loss: 360809600.0000 - val_mae: 17505.3340\n",
      "Epoch 9/100\n",
      "32/32 [==============================] - 0s 3ms/step - loss: 978741120.0000 - mae: 30465.2637 - val_loss: 359647584.0000 - val_mae: 17478.9004\n",
      "Epoch 10/100\n",
      "32/32 [==============================] - 0s 3ms/step - loss: 976242368.0000 - mae: 30425.0352 - val_loss: 358498848.0000 - val_mae: 17452.7363\n",
      "Epoch 11/100\n",
      "32/32 [==============================] - 0s 3ms/step - loss: 973755904.0000 - mae: 30384.9531 - val_loss: 357363584.0000 - val_mae: 17426.8496\n",
      "Epoch 12/100\n",
      "32/32 [==============================] - 0s 3ms/step - loss: 971279552.0000 - mae: 30344.9785 - val_loss: 356241856.0000 - val_mae: 17401.2461\n",
      "Epoch 13/100\n",
      "32/32 [==============================] - 0s 3ms/step - loss: 968812032.0000 - mae: 30305.0996 - val_loss: 355133312.0000 - val_mae: 17375.9180\n",
      "Epoch 14/100\n",
      "32/32 [==============================] - 0s 3ms/step - loss: 966352896.0000 - mae: 30265.3008 - val_loss: 354036800.0000 - val_mae: 17350.8535\n",
      "Epoch 15/100\n",
      "32/32 [==============================] - 0s 3ms/step - loss: 963900928.0000 - mae: 30225.5586 - val_loss: 352951744.0000 - val_mae: 17326.0332\n",
      "Epoch 16/100\n",
      "32/32 [==============================] - 0s 3ms/step - loss: 961456064.0000 - mae: 30185.8848 - val_loss: 351877248.0000 - val_mae: 17301.4434\n",
      "Epoch 17/100\n",
      "32/32 [==============================] - 0s 3ms/step - loss: 959017728.0000 - mae: 30146.2578 - val_loss: 350812064.0000 - val_mae: 17277.0527\n",
      "Epoch 18/100\n",
      "32/32 [==============================] - 0s 3ms/step - loss: 956585728.0000 - mae: 30106.6875 - val_loss: 349754912.0000 - val_mae: 17252.8320\n",
      "Epoch 19/100\n",
      "32/32 [==============================] - 0s 3ms/step - loss: 954159936.0000 - mae: 30067.1621 - val_loss: 348705504.0000 - val_mae: 17228.7891\n",
      "Epoch 20/100\n",
      "32/32 [==============================] - 0s 3ms/step - loss: 951739968.0000 - mae: 30027.6758 - val_loss: 347663872.0000 - val_mae: 17204.9316\n",
      "Epoch 21/100\n",
      "32/32 [==============================] - 0s 3ms/step - loss: 949325568.0000 - mae: 29988.2344 - val_loss: 346627328.0000 - val_mae: 17181.1680\n",
      "Epoch 22/100\n",
      "32/32 [==============================] - 0s 3ms/step - loss: 946916928.0000 - mae: 29948.8242 - val_loss: 345590272.0000 - val_mae: 17157.3145\n",
      "Epoch 23/100\n",
      "32/32 [==============================] - 0s 3ms/step - loss: 944513600.0000 - mae: 29909.4551 - val_loss: 344549568.0000 - val_mae: 17133.2676\n",
      "Epoch 24/100\n",
      "32/32 [==============================] - 0s 3ms/step - loss: 942115456.0000 - mae: 29870.1172 - val_loss: 343507552.0000 - val_mae: 17109.0996\n",
      "Epoch 25/100\n",
      "32/32 [==============================] - 0s 3ms/step - loss: 939722816.0000 - mae: 29830.8184 - val_loss: 342465600.0000 - val_mae: 17084.9727\n",
      "Epoch 26/100\n",
      "32/32 [==============================] - 0s 3ms/step - loss: 937335232.0000 - mae: 29791.5449 - val_loss: 341423520.0000 - val_mae: 17060.8340\n",
      "Epoch 27/100\n",
      "32/32 [==============================] - 0s 3ms/step - loss: 934952576.0000 - mae: 29752.3047 - val_loss: 340381248.0000 - val_mae: 17036.6191\n",
      "Epoch 28/100\n",
      "32/32 [==============================] - 0s 3ms/step - loss: 932574976.0000 - mae: 29713.0918 - val_loss: 339339264.0000 - val_mae: 17012.3359\n",
      "Epoch 29/100\n",
      "32/32 [==============================] - 0s 3ms/step - loss: 930202368.0000 - mae: 29673.9102 - val_loss: 338297792.0000 - val_mae: 16987.9980\n",
      "Epoch 30/100\n",
      "32/32 [==============================] - 0s 3ms/step - loss: 927834624.0000 - mae: 29634.7539 - val_loss: 337257248.0000 - val_mae: 16963.6191\n",
      "Epoch 31/100\n",
      "32/32 [==============================] - 0s 3ms/step - loss: 925471616.0000 - mae: 29595.6191 - val_loss: 336217888.0000 - val_mae: 16939.2109\n",
      "Epoch 32/100\n",
      "32/32 [==============================] - 0s 3ms/step - loss: 923113280.0000 - mae: 29556.5215 - val_loss: 335180064.0000 - val_mae: 16914.7773\n",
      "Epoch 33/100\n",
      "32/32 [==============================] - 0s 3ms/step - loss: 920759808.0000 - mae: 29517.5117 - val_loss: 334144512.0000 - val_mae: 16890.3398\n",
      "Epoch 34/100\n",
      "32/32 [==============================] - 0s 3ms/step - loss: 918410880.0000 - mae: 29478.5391 - val_loss: 333111424.0000 - val_mae: 16865.9102\n",
      "Epoch 35/100\n",
      "32/32 [==============================] - 0s 3ms/step - loss: 916066624.0000 - mae: 29439.5859 - val_loss: 332080928.0000 - val_mae: 16841.4883\n",
      "Epoch 36/100\n",
      "32/32 [==============================] - 0s 3ms/step - loss: 913726976.0000 - mae: 29400.6680 - val_loss: 331053056.0000 - val_mae: 16817.0762\n",
      "Epoch 37/100\n",
      "32/32 [==============================] - 0s 3ms/step - loss: 911391872.0000 - mae: 29361.7578 - val_loss: 330027840.0000 - val_mae: 16792.6738\n",
      "Epoch 38/100\n",
      "32/32 [==============================] - 0s 3ms/step - loss: 909061120.0000 - mae: 29322.8770 - val_loss: 329005664.0000 - val_mae: 16768.2891\n",
      "Epoch 39/100\n",
      "32/32 [==============================] - 0s 3ms/step - loss: 906735040.0000 - mae: 29284.0215 - val_loss: 327986432.0000 - val_mae: 16743.9238\n",
      "Epoch 40/100\n",
      "32/32 [==============================] - 0s 3ms/step - loss: 904413312.0000 - mae: 29245.1777 - val_loss: 326970368.0000 - val_mae: 16719.5840\n",
      "Epoch 41/100\n",
      "32/32 [==============================] - 0s 3ms/step - loss: 902095936.0000 - mae: 29206.3633 - val_loss: 325957600.0000 - val_mae: 16695.2715\n",
      "Epoch 42/100\n",
      "32/32 [==============================] - 0s 3ms/step - loss: 899783104.0000 - mae: 29167.5703 - val_loss: 324947936.0000 - val_mae: 16670.9844\n",
      "Epoch 43/100\n",
      "32/32 [==============================] - 0s 3ms/step - loss: 897474624.0000 - mae: 29128.7891 - val_loss: 323941440.0000 - val_mae: 16646.7207\n",
      "Epoch 44/100\n",
      "32/32 [==============================] - 0s 3ms/step - loss: 895170240.0000 - mae: 29090.0352 - val_loss: 322937696.0000 - val_mae: 16622.4707\n",
      "Epoch 45/100\n",
      "32/32 [==============================] - 0s 3ms/step - loss: 892870336.0000 - mae: 29051.3027 - val_loss: 321937248.0000 - val_mae: 16598.2480\n",
      "Epoch 46/100\n",
      "32/32 [==============================] - 0s 3ms/step - loss: 890574656.0000 - mae: 29012.5840 - val_loss: 320940320.0000 - val_mae: 16574.0605\n",
      "Epoch 47/100\n",
      "32/32 [==============================] - 0s 3ms/step - loss: 888283136.0000 - mae: 28973.8848 - val_loss: 319946976.0000 - val_mae: 16549.9102\n",
      "Epoch 48/100\n",
      "32/32 [==============================] - 0s 3ms/step - loss: 885995968.0000 - mae: 28935.2031 - val_loss: 318957632.0000 - val_mae: 16525.8027\n",
      "Epoch 49/100\n",
      "32/32 [==============================] - 0s 3ms/step - loss: 883713024.0000 - mae: 28896.5391 - val_loss: 317972448.0000 - val_mae: 16501.8125\n",
      "Epoch 50/100\n",
      "32/32 [==============================] - 0s 3ms/step - loss: 881434048.0000 - mae: 28857.8984 - val_loss: 316992000.0000 - val_mae: 16478.0098\n",
      "Epoch 51/100\n",
      "32/32 [==============================] - 0s 3ms/step - loss: 879159488.0000 - mae: 28819.2695 - val_loss: 316016352.0000 - val_mae: 16454.2773\n",
      "Epoch 52/100\n",
      "32/32 [==============================] - 0s 3ms/step - loss: 876888896.0000 - mae: 28780.6602 - val_loss: 315044960.0000 - val_mae: 16430.5996\n",
      "Epoch 53/100\n"
     ]
    },
    {
     "name": "stdout",
     "output_type": "stream",
     "text": [
      "32/32 [==============================] - 0s 3ms/step - loss: 874622528.0000 - mae: 28742.0723 - val_loss: 314078336.0000 - val_mae: 16406.9902\n",
      "Epoch 54/100\n",
      "32/32 [==============================] - 0s 3ms/step - loss: 872360192.0000 - mae: 28703.4961 - val_loss: 313115712.0000 - val_mae: 16383.4404\n",
      "Epoch 55/100\n",
      "32/32 [==============================] - 0s 3ms/step - loss: 870101888.0000 - mae: 28664.9355 - val_loss: 312157152.0000 - val_mae: 16359.9570\n",
      "Epoch 56/100\n",
      "32/32 [==============================] - 0s 3ms/step - loss: 867847744.0000 - mae: 28626.3887 - val_loss: 311202464.0000 - val_mae: 16336.5488\n",
      "Epoch 57/100\n",
      "32/32 [==============================] - 0s 3ms/step - loss: 865597504.0000 - mae: 28587.8652 - val_loss: 310255328.0000 - val_mae: 16313.3662\n",
      "Epoch 58/100\n",
      "32/32 [==============================] - 0s 3ms/step - loss: 863351360.0000 - mae: 28549.3555 - val_loss: 309323104.0000 - val_mae: 16290.6768\n",
      "Epoch 59/100\n",
      "32/32 [==============================] - 0s 4ms/step - loss: 861109312.0000 - mae: 28510.8594 - val_loss: 308401664.0000 - val_mae: 16268.3027\n",
      "Epoch 60/100\n",
      "32/32 [==============================] - 0s 3ms/step - loss: 858871040.0000 - mae: 28472.3789 - val_loss: 307475264.0000 - val_mae: 16245.6602\n",
      "Epoch 61/100\n",
      "32/32 [==============================] - 0s 3ms/step - loss: 856636992.0000 - mae: 28433.9141 - val_loss: 306532672.0000 - val_mae: 16222.3965\n",
      "Epoch 62/100\n",
      "32/32 [==============================] - 0s 3ms/step - loss: 854406464.0000 - mae: 28395.4629 - val_loss: 305571392.0000 - val_mae: 16198.4756\n",
      "Epoch 63/100\n",
      "32/32 [==============================] - 0s 3ms/step - loss: 852180480.0000 - mae: 28357.0293 - val_loss: 304596992.0000 - val_mae: 16174.0859\n",
      "Epoch 64/100\n",
      "32/32 [==============================] - 0s 3ms/step - loss: 849958016.0000 - mae: 28318.6016 - val_loss: 303613664.0000 - val_mae: 16149.3398\n",
      "Epoch 65/100\n",
      "32/32 [==============================] - 0s 3ms/step - loss: 847739456.0000 - mae: 28280.2012 - val_loss: 302634688.0000 - val_mae: 16124.6279\n",
      "Epoch 66/100\n",
      "32/32 [==============================] - 0s 3ms/step - loss: 845524736.0000 - mae: 28241.8086 - val_loss: 301667584.0000 - val_mae: 16100.1953\n",
      "Epoch 67/100\n",
      "32/32 [==============================] - 0s 3ms/step - loss: 843314304.0000 - mae: 28203.4258 - val_loss: 300708544.0000 - val_mae: 16075.9619\n",
      "Epoch 68/100\n",
      "32/32 [==============================] - 0s 3ms/step - loss: 841107520.0000 - mae: 28165.0566 - val_loss: 299747584.0000 - val_mae: 16051.6387\n",
      "Epoch 69/100\n",
      "32/32 [==============================] - 0s 3ms/step - loss: 838904384.0000 - mae: 28126.7051 - val_loss: 298777984.0000 - val_mae: 16027.0371\n",
      "Epoch 70/100\n",
      "32/32 [==============================] - 0s 3ms/step - loss: 836705152.0000 - mae: 28088.3672 - val_loss: 297789408.0000 - val_mae: 16001.8740\n",
      "Epoch 71/100\n",
      "32/32 [==============================] - 0s 3ms/step - loss: 834510016.0000 - mae: 28050.0449 - val_loss: 296771552.0000 - val_mae: 15975.8428\n",
      "Epoch 72/100\n",
      "32/32 [==============================] - 0s 3ms/step - loss: 832318400.0000 - mae: 28011.7266 - val_loss: 295733824.0000 - val_mae: 15949.1475\n",
      "Epoch 73/100\n",
      "32/32 [==============================] - 0s 3ms/step - loss: 830130624.0000 - mae: 27973.4297 - val_loss: 294542912.0000 - val_mae: 15918.2207\n",
      "Epoch 74/100\n",
      "32/32 [==============================] - 0s 3ms/step - loss: 827946624.0000 - mae: 27935.1367 - val_loss: 293501504.0000 - val_mae: 15891.1074\n",
      "Epoch 75/100\n",
      "32/32 [==============================] - 0s 3ms/step - loss: 825766272.0000 - mae: 27896.8613 - val_loss: 292546848.0000 - val_mae: 15866.4404\n",
      "Epoch 76/100\n",
      "32/32 [==============================] - 0s 3ms/step - loss: 823589952.0000 - mae: 27858.5957 - val_loss: 291598080.0000 - val_mae: 15842.0244\n",
      "Epoch 77/100\n",
      "32/32 [==============================] - 0s 3ms/step - loss: 821417216.0000 - mae: 27820.3477 - val_loss: 290602528.0000 - val_mae: 15816.0420\n",
      "Epoch 78/100\n",
      "32/32 [==============================] - 0s 3ms/step - loss: 819248320.0000 - mae: 27782.1035 - val_loss: 289520160.0000 - val_mae: 15786.7266\n",
      "Epoch 79/100\n",
      "32/32 [==============================] - 0s 3ms/step - loss: 817083072.0000 - mae: 27743.8828 - val_loss: 288550304.0000 - val_mae: 15761.3232\n",
      "Epoch 80/100\n",
      "32/32 [==============================] - 0s 3ms/step - loss: 814921472.0000 - mae: 27705.6680 - val_loss: 287584160.0000 - val_mae: 15736.0430\n",
      "Epoch 81/100\n",
      "32/32 [==============================] - 0s 3ms/step - loss: 812763520.0000 - mae: 27667.4609 - val_loss: 286613920.0000 - val_mae: 15710.5439\n",
      "Epoch 82/100\n",
      "32/32 [==============================] - 0s 3ms/step - loss: 810609280.0000 - mae: 27629.2637 - val_loss: 285642592.0000 - val_mae: 15684.9414\n",
      "Epoch 83/100\n",
      "32/32 [==============================] - 0s 3ms/step - loss: 808458880.0000 - mae: 27591.0762 - val_loss: 284647168.0000 - val_mae: 15658.4619\n",
      "Epoch 84/100\n",
      "32/32 [==============================] - 0s 3ms/step - loss: 806312192.0000 - mae: 27552.9043 - val_loss: 283539968.0000 - val_mae: 15627.3926\n",
      "Epoch 85/100\n",
      "32/32 [==============================] - 0s 3ms/step - loss: 804168960.0000 - mae: 27514.7461 - val_loss: 282502368.0000 - val_mae: 15599.0137\n",
      "Epoch 86/100\n",
      "32/32 [==============================] - 0s 3ms/step - loss: 802029440.0000 - mae: 27476.5918 - val_loss: 281488256.0000 - val_mae: 15571.6836\n",
      "Epoch 87/100\n",
      "32/32 [==============================] - 0s 3ms/step - loss: 799893568.0000 - mae: 27438.4551 - val_loss: 280500608.0000 - val_mae: 15545.1299\n",
      "Epoch 88/100\n",
      "32/32 [==============================] - 0s 3ms/step - loss: 797761280.0000 - mae: 27400.3301 - val_loss: 279549344.0000 - val_mae: 15519.6582\n",
      "Epoch 89/100\n",
      "32/32 [==============================] - 0s 3ms/step - loss: 795632768.0000 - mae: 27362.2051 - val_loss: 278621088.0000 - val_mae: 15494.8584\n",
      "Epoch 90/100\n",
      "32/32 [==============================] - 0s 3ms/step - loss: 793507584.0000 - mae: 27324.0977 - val_loss: 277703168.0000 - val_mae: 15470.3330\n",
      "Epoch 91/100\n",
      "32/32 [==============================] - 0s 3ms/step - loss: 791386240.0000 - mae: 27285.9980 - val_loss: 276792512.0000 - val_mae: 15445.9805\n",
      "Epoch 92/100\n",
      "32/32 [==============================] - 0s 3ms/step - loss: 789268160.0000 - mae: 27247.9102 - val_loss: 275887712.0000 - val_mae: 15421.7520\n",
      "Epoch 93/100\n",
      "32/32 [==============================] - 0s 3ms/step - loss: 787154048.0000 - mae: 27209.8281 - val_loss: 274987296.0000 - val_mae: 15397.6260\n",
      "Epoch 94/100\n",
      "32/32 [==============================] - 0s 3ms/step - loss: 785043328.0000 - mae: 27171.7598 - val_loss: 274092160.0000 - val_mae: 15373.7490\n",
      "Epoch 95/100\n",
      "32/32 [==============================] - 0s 3ms/step - loss: 782936064.0000 - mae: 27133.6992 - val_loss: 273202432.0000 - val_mae: 15349.9717\n",
      "Epoch 96/100\n",
      "32/32 [==============================] - 0s 3ms/step - loss: 780832512.0000 - mae: 27095.6484 - val_loss: 272313440.0000 - val_mae: 15326.1631\n",
      "Epoch 97/100\n",
      "32/32 [==============================] - 0s 3ms/step - loss: 778732416.0000 - mae: 27057.6055 - val_loss: 271423392.0000 - val_mae: 15302.2783\n",
      "Epoch 98/100\n",
      "32/32 [==============================] - 0s 3ms/step - loss: 776636096.0000 - mae: 27019.5762 - val_loss: 270528480.0000 - val_mae: 15278.2139\n",
      "Epoch 99/100\n",
      "32/32 [==============================] - 0s 3ms/step - loss: 774542912.0000 - mae: 26981.5488 - val_loss: 269624224.0000 - val_mae: 15253.8535\n",
      "Epoch 100/100\n",
      "32/32 [==============================] - 0s 3ms/step - loss: 772453504.0000 - mae: 26943.5332 - val_loss: 268700544.0000 - val_mae: 15228.9092\n"
     ]
    }
   ],
   "source": [
    "model, history = fit_model(model)"
   ]
  },
  {
   "cell_type": "code",
   "execution_count": 142,
   "id": "8f8792e4",
   "metadata": {},
   "outputs": [
    {
     "data": {
      "text/plain": [
       "array([<Axes: title={'center': 'MSE'}, xlabel='Epoch', ylabel='Loss'>,\n",
       "       <Axes: title={'center': 'MAE'}, xlabel='Epoch', ylabel='MAE'>],\n",
       "      dtype=object)"
      ]
     },
     "execution_count": 142,
     "metadata": {},
     "output_type": "execute_result"
    },
    {
     "data": {
      "image/png": "[encoded data removed]",
      "text/plain": [
       "<Figure size 2000x700 with 2 Axes>"
      ]
     },
     "metadata": {},
     "output_type": "display_data"
    }
   ],
   "source": [
    "plot_history(history)"
   ]
  },
  {
   "cell_type": "code",
   "execution_count": 143,
   "id": "45b7fe3d",
   "metadata": {},
   "outputs": [
    {
     "data": {
      "text/plain": [
       "[200912800.0, 13649.931640625]"
      ]
     },
     "execution_count": 143,
     "metadata": {},
     "output_type": "execute_result"
    }
   ],
   "source": [
    "res = model.evaluate(X_test, y_test, verbose=0)\n",
    "res"
   ]
  },
  {
   "cell_type": "markdown",
   "id": "5a616504",
   "metadata": {},
   "source": [
    "### Baseline Model"
   ]
  },
  {
   "cell_type": "code",
   "execution_count": 144,
   "id": "499ead20",
   "metadata": {},
   "outputs": [],
   "source": [
    "from tensorflow.keras.layers import Lambda\n",
    "\n",
    "def init_baseline():\n",
    "\n",
    "    model = models.Sequential()\n",
    "    model.add(Lambda(lambda x: x[:, -1, 1, None]))\n",
    "    \n",
    "    adam = optimizers.Adam(learning_rate = 0.02)\n",
    "    \n",
    "    model.compile(loss='mse',\n",
    "                 optimizer=adam,\n",
    "                 metrics=['mae'])\n",
    "    \n",
    "    return model"
   ]
  },
  {
   "cell_type": "code",
   "execution_count": 145,
   "id": "bc2fca3e",
   "metadata": {},
   "outputs": [
    {
     "name": "stdout",
     "output_type": "stream",
     "text": [
      "24/24 [==============================] - 0s 354us/step - loss: 276075424.0000 - mae: 15974.0498\n",
      "- The Baseline MAE on the test set is equal to 15974.05 m3\n"
     ]
    }
   ],
   "source": [
    "baseline_model = init_baseline()\n",
    "baseline_score = baseline_model.evaluate(X_test, y_test)\n",
    "print(f\"- The Baseline MAE on the test set is equal to {round(baseline_score[1],2)} m3\")"
   ]
  },
  {
   "cell_type": "code",
   "execution_count": null,
   "id": "ffbf79b7",
   "metadata": {},
   "outputs": [],
   "source": []
  }
 ],
 "metadata": {
  "kernelspec": {
   "display_name": "Python 3 (ipykernel)",
   "language": "python",
   "name": "python3"
  },
  "language_info": {
   "codemirror_mode": {
    "name": "ipython",
    "version": 3
   },
   "file_extension": ".py",
   "mimetype": "text/x-python",
   "name": "python",
   "nbconvert_exporter": "python",
   "pygments_lexer": "ipython3",
   "version": "3.10.6"
  },
  "toc": {
   "base_numbering": 1,
   "nav_menu": {},
   "number_sections": true,
   "sideBar": true,
   "skip_h1_title": false,
   "title_cell": "Table of Contents",
   "title_sidebar": "Contents",
   "toc_cell": false,
   "toc_position": {},
   "toc_section_display": true,
   "toc_window_display": false
  }
 },
 "nbformat": 4,
 "nbformat_minor": 5
}
