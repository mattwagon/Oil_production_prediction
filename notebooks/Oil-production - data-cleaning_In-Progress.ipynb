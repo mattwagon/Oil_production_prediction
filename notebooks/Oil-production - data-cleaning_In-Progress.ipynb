{
 "cells": [
  {
   "cell_type": "markdown",
   "id": "32528c9b",
   "metadata": {},
   "source": [
    "# Oil production"
   ]
  },
  {
   "cell_type": "markdown",
   "id": "a681ec5b",
   "metadata": {},
   "source": [
    "## Used libraries"
   ]
  },
  {
   "cell_type": "code",
   "execution_count": 1,
   "id": "628a7ba7",
   "metadata": {},
   "outputs": [],
   "source": [
    "# DATA MANIPULATION, Visualization, and stats\n",
    "import pandas as pd\n",
    "from glob import glob\n",
    "import numpy as np\n",
    "import seaborn as sns\n",
    "import matplotlib.pyplot as plt\n",
    "from statsmodels.graphics.gofplots import qqplot\n",
    "import os"
   ]
  },
  {
   "cell_type": "markdown",
   "id": "152961b9",
   "metadata": {},
   "source": [
    "## Upload the data"
   ]
  },
  {
   "cell_type": "code",
   "execution_count": 2,
   "id": "381b1da5",
   "metadata": {},
   "outputs": [
    {
     "ename": "ValueError",
     "evalue": "No objects to concatenate",
     "output_type": "error",
     "traceback": [
      "\u001b[0;31m---------------------------------------------------------------------------\u001b[0m",
      "\u001b[0;31mValueError\u001b[0m                                Traceback (most recent call last)",
      "Cell \u001b[0;32mIn[2], line 3\u001b[0m\n\u001b[1;32m      1\u001b[0m path \u001b[38;5;241m=\u001b[39m \u001b[38;5;124m'\u001b[39m\u001b[38;5;124mdata\u001b[39m\u001b[38;5;124m'\u001b[39m \u001b[38;5;66;03m# use your path\u001b[39;00m\n\u001b[1;32m      2\u001b[0m all_files \u001b[38;5;241m=\u001b[39m glob(os\u001b[38;5;241m.\u001b[39mpath\u001b[38;5;241m.\u001b[39mjoin(path, \u001b[38;5;124m\"\u001b[39m\u001b[38;5;124m*.csv\u001b[39m\u001b[38;5;124m\"\u001b[39m))\n\u001b[0;32m----> 3\u001b[0m df \u001b[38;5;241m=\u001b[39m \u001b[43mpd\u001b[49m\u001b[38;5;241;43m.\u001b[39;49m\u001b[43mconcat\u001b[49m\u001b[43m(\u001b[49m\u001b[43m(\u001b[49m\u001b[43mpd\u001b[49m\u001b[38;5;241;43m.\u001b[39;49m\u001b[43mread_csv\u001b[49m\u001b[43m(\u001b[49m\u001b[43mf\u001b[49m\u001b[43m)\u001b[49m\u001b[43m \u001b[49m\u001b[38;5;28;43;01mfor\u001b[39;49;00m\u001b[43m \u001b[49m\u001b[43mf\u001b[49m\u001b[43m \u001b[49m\u001b[38;5;129;43;01min\u001b[39;49;00m\u001b[43m \u001b[49m\u001b[43mall_files\u001b[49m\u001b[43m)\u001b[49m\u001b[43m,\u001b[49m\u001b[43m \u001b[49m\u001b[43mignore_index\u001b[49m\u001b[38;5;241;43m=\u001b[39;49m\u001b[38;5;28;43;01mTrue\u001b[39;49;00m\u001b[43m)\u001b[49m\n\u001b[1;32m      5\u001b[0m df\n",
      "File \u001b[0;32m~/.pyenv/versions/3.10.6/envs/oil_production_prediction/lib/python3.10/site-packages/pandas/util/_decorators.py:331\u001b[0m, in \u001b[0;36mdeprecate_nonkeyword_arguments.<locals>.decorate.<locals>.wrapper\u001b[0;34m(*args, **kwargs)\u001b[0m\n\u001b[1;32m    325\u001b[0m \u001b[38;5;28;01mif\u001b[39;00m \u001b[38;5;28mlen\u001b[39m(args) \u001b[38;5;241m>\u001b[39m num_allow_args:\n\u001b[1;32m    326\u001b[0m     warnings\u001b[38;5;241m.\u001b[39mwarn(\n\u001b[1;32m    327\u001b[0m         msg\u001b[38;5;241m.\u001b[39mformat(arguments\u001b[38;5;241m=\u001b[39m_format_argument_list(allow_args)),\n\u001b[1;32m    328\u001b[0m         \u001b[38;5;167;01mFutureWarning\u001b[39;00m,\n\u001b[1;32m    329\u001b[0m         stacklevel\u001b[38;5;241m=\u001b[39mfind_stack_level(),\n\u001b[1;32m    330\u001b[0m     )\n\u001b[0;32m--> 331\u001b[0m \u001b[38;5;28;01mreturn\u001b[39;00m \u001b[43mfunc\u001b[49m\u001b[43m(\u001b[49m\u001b[38;5;241;43m*\u001b[39;49m\u001b[43margs\u001b[49m\u001b[43m,\u001b[49m\u001b[43m \u001b[49m\u001b[38;5;241;43m*\u001b[39;49m\u001b[38;5;241;43m*\u001b[39;49m\u001b[43mkwargs\u001b[49m\u001b[43m)\u001b[49m\n",
      "File \u001b[0;32m~/.pyenv/versions/3.10.6/envs/oil_production_prediction/lib/python3.10/site-packages/pandas/core/reshape/concat.py:368\u001b[0m, in \u001b[0;36mconcat\u001b[0;34m(objs, axis, join, ignore_index, keys, levels, names, verify_integrity, sort, copy)\u001b[0m\n\u001b[1;32m    146\u001b[0m \u001b[38;5;129m@deprecate_nonkeyword_arguments\u001b[39m(version\u001b[38;5;241m=\u001b[39m\u001b[38;5;28;01mNone\u001b[39;00m, allowed_args\u001b[38;5;241m=\u001b[39m[\u001b[38;5;124m\"\u001b[39m\u001b[38;5;124mobjs\u001b[39m\u001b[38;5;124m\"\u001b[39m])\n\u001b[1;32m    147\u001b[0m \u001b[38;5;28;01mdef\u001b[39;00m \u001b[38;5;21mconcat\u001b[39m(\n\u001b[1;32m    148\u001b[0m     objs: Iterable[NDFrame] \u001b[38;5;241m|\u001b[39m Mapping[HashableT, NDFrame],\n\u001b[0;32m   (...)\u001b[0m\n\u001b[1;32m    157\u001b[0m     copy: \u001b[38;5;28mbool\u001b[39m \u001b[38;5;241m=\u001b[39m \u001b[38;5;28;01mTrue\u001b[39;00m,\n\u001b[1;32m    158\u001b[0m ) \u001b[38;5;241m-\u001b[39m\u001b[38;5;241m>\u001b[39m DataFrame \u001b[38;5;241m|\u001b[39m Series:\n\u001b[1;32m    159\u001b[0m \u001b[38;5;250m    \u001b[39m\u001b[38;5;124;03m\"\"\"\u001b[39;00m\n\u001b[1;32m    160\u001b[0m \u001b[38;5;124;03m    Concatenate pandas objects along a particular axis.\u001b[39;00m\n\u001b[1;32m    161\u001b[0m \n\u001b[0;32m   (...)\u001b[0m\n\u001b[1;32m    366\u001b[0m \u001b[38;5;124;03m    1   3   4\u001b[39;00m\n\u001b[1;32m    367\u001b[0m \u001b[38;5;124;03m    \"\"\"\u001b[39;00m\n\u001b[0;32m--> 368\u001b[0m     op \u001b[38;5;241m=\u001b[39m \u001b[43m_Concatenator\u001b[49m\u001b[43m(\u001b[49m\n\u001b[1;32m    369\u001b[0m \u001b[43m        \u001b[49m\u001b[43mobjs\u001b[49m\u001b[43m,\u001b[49m\n\u001b[1;32m    370\u001b[0m \u001b[43m        \u001b[49m\u001b[43maxis\u001b[49m\u001b[38;5;241;43m=\u001b[39;49m\u001b[43maxis\u001b[49m\u001b[43m,\u001b[49m\n\u001b[1;32m    371\u001b[0m \u001b[43m        \u001b[49m\u001b[43mignore_index\u001b[49m\u001b[38;5;241;43m=\u001b[39;49m\u001b[43mignore_index\u001b[49m\u001b[43m,\u001b[49m\n\u001b[1;32m    372\u001b[0m \u001b[43m        \u001b[49m\u001b[43mjoin\u001b[49m\u001b[38;5;241;43m=\u001b[39;49m\u001b[43mjoin\u001b[49m\u001b[43m,\u001b[49m\n\u001b[1;32m    373\u001b[0m \u001b[43m        \u001b[49m\u001b[43mkeys\u001b[49m\u001b[38;5;241;43m=\u001b[39;49m\u001b[43mkeys\u001b[49m\u001b[43m,\u001b[49m\n\u001b[1;32m    374\u001b[0m \u001b[43m        \u001b[49m\u001b[43mlevels\u001b[49m\u001b[38;5;241;43m=\u001b[39;49m\u001b[43mlevels\u001b[49m\u001b[43m,\u001b[49m\n\u001b[1;32m    375\u001b[0m \u001b[43m        \u001b[49m\u001b[43mnames\u001b[49m\u001b[38;5;241;43m=\u001b[39;49m\u001b[43mnames\u001b[49m\u001b[43m,\u001b[49m\n\u001b[1;32m    376\u001b[0m \u001b[43m        \u001b[49m\u001b[43mverify_integrity\u001b[49m\u001b[38;5;241;43m=\u001b[39;49m\u001b[43mverify_integrity\u001b[49m\u001b[43m,\u001b[49m\n\u001b[1;32m    377\u001b[0m \u001b[43m        \u001b[49m\u001b[43mcopy\u001b[49m\u001b[38;5;241;43m=\u001b[39;49m\u001b[43mcopy\u001b[49m\u001b[43m,\u001b[49m\n\u001b[1;32m    378\u001b[0m \u001b[43m        \u001b[49m\u001b[43msort\u001b[49m\u001b[38;5;241;43m=\u001b[39;49m\u001b[43msort\u001b[49m\u001b[43m,\u001b[49m\n\u001b[1;32m    379\u001b[0m \u001b[43m    \u001b[49m\u001b[43m)\u001b[49m\n\u001b[1;32m    381\u001b[0m     \u001b[38;5;28;01mreturn\u001b[39;00m op\u001b[38;5;241m.\u001b[39mget_result()\n",
      "File \u001b[0;32m~/.pyenv/versions/3.10.6/envs/oil_production_prediction/lib/python3.10/site-packages/pandas/core/reshape/concat.py:425\u001b[0m, in \u001b[0;36m_Concatenator.__init__\u001b[0;34m(self, objs, axis, join, keys, levels, names, ignore_index, verify_integrity, copy, sort)\u001b[0m\n\u001b[1;32m    422\u001b[0m     objs \u001b[38;5;241m=\u001b[39m \u001b[38;5;28mlist\u001b[39m(objs)\n\u001b[1;32m    424\u001b[0m \u001b[38;5;28;01mif\u001b[39;00m \u001b[38;5;28mlen\u001b[39m(objs) \u001b[38;5;241m==\u001b[39m \u001b[38;5;241m0\u001b[39m:\n\u001b[0;32m--> 425\u001b[0m     \u001b[38;5;28;01mraise\u001b[39;00m \u001b[38;5;167;01mValueError\u001b[39;00m(\u001b[38;5;124m\"\u001b[39m\u001b[38;5;124mNo objects to concatenate\u001b[39m\u001b[38;5;124m\"\u001b[39m)\n\u001b[1;32m    427\u001b[0m \u001b[38;5;28;01mif\u001b[39;00m keys \u001b[38;5;129;01mis\u001b[39;00m \u001b[38;5;28;01mNone\u001b[39;00m:\n\u001b[1;32m    428\u001b[0m     objs \u001b[38;5;241m=\u001b[39m \u001b[38;5;28mlist\u001b[39m(com\u001b[38;5;241m.\u001b[39mnot_none(\u001b[38;5;241m*\u001b[39mobjs))\n",
      "\u001b[0;31mValueError\u001b[0m: No objects to concatenate"
     ]
    }
   ],
   "source": [
    "path = 'data' # use your path\n",
    "all_files = glob(os.path.join(path, \"*.csv\"))\n",
    "df = pd.concat((pd.read_csv(f) for f in all_files), ignore_index=True)\n",
    "\n",
    "df"
   ]
  },
  {
   "cell_type": "markdown",
   "id": "fa29194f",
   "metadata": {},
   "source": [
    "## To Datetime format"
   ]
  },
  {
   "cell_type": "code",
   "execution_count": null,
   "id": "fc1b1fa8",
   "metadata": {},
   "outputs": [],
   "source": [
    "df['Date'] = pd.to_datetime(df['Date'])\n",
    "df['Date'].dtype"
   ]
  },
  {
   "cell_type": "markdown",
   "id": "b95ba4f0",
   "metadata": {},
   "source": [
    "## Explore the dataset"
   ]
  },
  {
   "cell_type": "code",
   "execution_count": null,
   "id": "b0a188e1",
   "metadata": {},
   "outputs": [],
   "source": [
    "df.shape"
   ]
  },
  {
   "cell_type": "code",
   "execution_count": null,
   "id": "4568f30f",
   "metadata": {},
   "outputs": [],
   "source": [
    "df.describe()"
   ]
  },
  {
   "cell_type": "code",
   "execution_count": null,
   "id": "24656102",
   "metadata": {},
   "outputs": [],
   "source": [
    "df.duplicated().sum()"
   ]
  },
  {
   "cell_type": "markdown",
   "id": "89e85b67",
   "metadata": {},
   "source": [
    "### Dealing with missing data"
   ]
  },
  {
   "cell_type": "markdown",
   "id": "d888ad81",
   "metadata": {},
   "source": [
    "#### Check only NaN features"
   ]
  },
  {
   "cell_type": "code",
   "execution_count": null,
   "id": "d7fab5a3",
   "metadata": {},
   "outputs": [],
   "source": [
    "sorted_nan = df.isnull().sum().sort_values(ascending=False) "
   ]
  },
  {
   "cell_type": "code",
   "execution_count": null,
   "id": "90c74959",
   "metadata": {},
   "outputs": [],
   "source": [
    "n = 0\n",
    "f = 0\n",
    "features_drop = []\n",
    "for feature, value in dict(sorted_nan).items():\n",
    "    if value == len(df):\n",
    "        n += 1\n",
    "        features_drop.append(feature)\n",
    "    if value == 0:\n",
    "        f += 1\n",
    "        \n",
    "print(f'there are {n} features with only NaN values')\n",
    "print('--------------------------------------------')\n",
    "print(f'there are {f} features with no NaN values')\n",
    "print('--------------------------------------------')\n",
    "print(f'there are {df.shape[1] - n - f} features with some NaN values')"
   ]
  },
  {
   "cell_type": "markdown",
   "id": "c98aedfd",
   "metadata": {},
   "source": [
    "#### Check which features have values and NaN:"
   ]
  },
  {
   "cell_type": "code",
   "execution_count": null,
   "id": "fa0ea74a",
   "metadata": {},
   "outputs": [],
   "source": [
    "dic = {}\n",
    "for feature, value in dict(sorted_nan).items():\n",
    "    if value < len(df) and value > 0:\n",
    "        dic[feature] = value\n",
    "        \n",
    "dic"
   ]
  },
  {
   "cell_type": "markdown",
   "id": "ee0d096a",
   "metadata": {},
   "source": [
    "#### Check which features with some NaN should be dropped"
   ]
  },
  {
   "cell_type": "code",
   "execution_count": null,
   "id": "0506bab2",
   "metadata": {},
   "outputs": [],
   "source": [
    "dic_2 = {}\n",
    "\n",
    "for feature, value in dic.items():\n",
    "    dic_2[feature] = round(value/len(df),2) \n",
    "    if dic_2[feature] > 0.3:\n",
    "        features_drop.append(feature)\n",
    "    \n",
    "\n",
    "dic_2"
   ]
  },
  {
   "cell_type": "markdown",
   "id": "88c038b1",
   "metadata": {},
   "source": [
    "##### Check if there's any feature with NaN ratio between 0.3 and 0.8 we can use"
   ]
  },
  {
   "cell_type": "code",
   "execution_count": null,
   "id": "11190e23",
   "metadata": {},
   "outputs": [],
   "source": [
    "#list of features to check\n",
    "\n",
    "feat_30_80 = []\n",
    "\n",
    "for feature, value in dic_2.items():\n",
    "    if value > 0.3 and value < 0.8:\n",
    "        feat_30_80.append(feature)\n",
    "\n",
    "print(len(feat_30_80))\n",
    "feat_30_80"
   ]
  },
  {
   "cell_type": "code",
   "execution_count": null,
   "id": "ab77abd9",
   "metadata": {},
   "outputs": [],
   "source": [
    "fig, axs = plt.subplots(nrows=8, ncols=3, figsize=(15, 30))\n",
    "\n",
    "#dataframe with features with NaN ratio between 30% and 80%\n",
    "df_30_80 = df[df.columns.intersection(feat_30_80)]\n",
    "\n",
    "for i, col in enumerate(df_30_80.columns):\n",
    "    row = i // 3\n",
    "    co = i % 3\n",
    "    axs[row, co].plot(df[col])\n",
    "    axs[row, co].set_title(col)\n",
    "\n",
    "fig.tight_layout()\n",
    "\n",
    "plt.show()"
   ]
  },
  {
   "cell_type": "markdown",
   "id": "1b9a268a",
   "metadata": {},
   "source": [
    "Apparently no but brainstorm with group and TA"
   ]
  },
  {
   "cell_type": "code",
   "execution_count": null,
   "id": "66f5eaf4",
   "metadata": {},
   "outputs": [],
   "source": [
    "print(f'df should drop {len(features_drop)} features')\n",
    "print('--------------------------------------------------')\n",
    "print(f'Total number of features to work with in df: {df.shape[1]-len(features_drop)}')"
   ]
  },
  {
   "cell_type": "code",
   "execution_count": null,
   "id": "d5127c3a",
   "metadata": {},
   "outputs": [],
   "source": [
    "df.drop(columns=features_drop, inplace = True)"
   ]
  },
  {
   "cell_type": "code",
   "execution_count": null,
   "id": "a39967dc",
   "metadata": {},
   "outputs": [],
   "source": [
    "df"
   ]
  },
  {
   "cell_type": "markdown",
   "id": "c8e1fd4d",
   "metadata": {},
   "source": [
    "#### Check features with <30% NaN -> SimpleImputer"
   ]
  },
  {
   "cell_type": "code",
   "execution_count": null,
   "id": "463cdc0b",
   "metadata": {},
   "outputs": [],
   "source": [
    "features_to_impute_check = []\n",
    "\n",
    "for feature, value in dic_2.items():\n",
    "    if value < 0.3:\n",
    "        features_to_impute_check.append(feature)\n",
    "\n",
    "features_to_impute_check"
   ]
  },
  {
   "cell_type": "code",
   "execution_count": null,
   "id": "d4ac9d6d",
   "metadata": {},
   "outputs": [],
   "source": [
    "len(features_to_impute_check)"
   ]
  },
  {
   "cell_type": "code",
   "execution_count": null,
   "id": "71963edb",
   "metadata": {},
   "outputs": [],
   "source": [
    "fig, axs = plt.subplots(nrows=11, ncols=3, figsize=(15, 45))\n",
    "\n",
    "#dataframe with only features to impute\n",
    "df_to_impute = df[df.columns.intersection(features_to_impute_check)]\n",
    "\n",
    "for i, col in enumerate(df_to_impute.columns):\n",
    "    row = i // 3\n",
    "    co = i % 3\n",
    "    axs[row, co].plot(df[col])\n",
    "    axs[row, co].set_title(col)\n",
    "\n",
    "fig.suptitle('Check features to impute')\n",
    "\n",
    "fig.tight_layout()\n",
    "\n",
    "plt.show()"
   ]
  },
  {
   "cell_type": "markdown",
   "id": "36cea5bf",
   "metadata": {},
   "source": [
    "##### Features to be removed after the visual check: \n",
    "- Sand Rate\n",
    "- MPFM NTotal Count Rate\n",
    "- MPFM N81 Count Rate\n",
    "- MPFM N356 Count Rate\n",
    "- MPFM N32 Count Rate\n",
    "- MPFM GOR\n",
    "- Dowhole Gauge T\n",
    "- Dowhole Gauge P"
   ]
  },
  {
   "cell_type": "code",
   "execution_count": null,
   "id": "b5c749e1",
   "metadata": {},
   "outputs": [],
   "source": [
    "remove = {\"Sand Rate\", \"MPFM NTotal Count Rate\", \"MPFM N81 Count Rate\", \"MPFM N356 Count Rate\", \"MPFM N32 Count Rate\", \"MPFM GOR\", \"Downhole Gauge T\", \"Downhole Gauge P\"}\n",
    " \n",
    "features_to_impute = [f for f in features_to_impute_check if f not in remove]\n",
    "features_to_impute"
   ]
  },
  {
   "cell_type": "code",
   "execution_count": null,
   "id": "bec07d24",
   "metadata": {},
   "outputs": [],
   "source": [
    "len(features_to_impute)"
   ]
  },
  {
   "cell_type": "markdown",
   "id": "71c8ecc2",
   "metadata": {},
   "source": [
    "#### Imputer... To be continued"
   ]
  },
  {
   "cell_type": "markdown",
   "id": "e7e8d1d1",
   "metadata": {},
   "source": [
    "#### Choosing the Target"
   ]
  },
  {
   "cell_type": "code",
   "execution_count": null,
   "id": "0385cb73",
   "metadata": {},
   "outputs": [],
   "source": [
    "plt.figure(figsize=(15, 8))\n",
    "plt.plot(df['Date'], df['Qoil MPFM'], **{'color': 'blue', 'linestyle': '','marker': 'o', 'markersize': 3, 'label':'Qoil MPFM'})\n",
    "\n",
    "plt.title('A well - Oil production ', fontsize=15, color='darkred', weight='bold')\n",
    "# plt.ylim(top=3000)\n",
    "plt.ylabel(\"Oil production\", size=16, labelpad=8, color='darkred')\n",
    "plt.show();"
   ]
  },
  {
   "cell_type": "code",
   "execution_count": null,
   "id": "83d29b51",
   "metadata": {},
   "outputs": [],
   "source": [
    "plt.figure(figsize=(8,5))\n",
    "plt.hist(df['Qoil MPFM'], bins = 100, alpha = 0.5, color = 'blue', label = 'Oil MPFM')\n",
    "plt.hist(df['Qoil MPFM corrected'], bins = 100, alpha = 0.5, color = 'lightsteelblue', label = 'Oil MPFM corrected')\n",
    "plt.xlabel(\"Qoil\", size=11)\n",
    "plt.ylabel(\"Count\", size=11)\n",
    "plt.title(\"Target: Qoil MPFM or Oil MPFM corrected?\")\n",
    "plt.legend(loc='upper right')\n",
    "plt.show();"
   ]
  },
  {
   "cell_type": "markdown",
   "id": "e92e6455",
   "metadata": {},
   "source": [
    "-->Seems no difference which of the 'Qoil's to use as a *Target*"
   ]
  },
  {
   "cell_type": "markdown",
   "id": "da267c89",
   "metadata": {},
   "source": [
    "#### Check for outliers"
   ]
  },
  {
   "cell_type": "code",
   "execution_count": null,
   "id": "233e312c",
   "metadata": {},
   "outputs": [],
   "source": [
    "df_to_impute = df[df.columns.intersection(features_to_impute)]\n",
    "df_to_impute"
   ]
  },
  {
   "cell_type": "code",
   "execution_count": null,
   "id": "d3951692",
   "metadata": {},
   "outputs": [],
   "source": [
    "variable = 'WHT'\n",
    "\n",
    "fig, ax = plt.subplots(1,3,figsize=(15,5))\n",
    "\n",
    "ax[0].set_title(f\"Distribution of the {variable}\")\n",
    "sns.histplot(data = df_to_impute, x = f\"{variable}\", kde=True, ax = ax[0])\n",
    "\n",
    "ax[1].set_title(f\"Boxplot of the {variable}\")\n",
    "sns.boxplot(data = df_to_impute, x = f\"{variable}\", ax=ax[1])\n",
    "\n",
    "ax[2].set_title(f\"Gaussianity of:the {variable}\")\n",
    "qqplot(df_to_impute[f\"{variable}\"],line='s',ax=ax[2]);"
   ]
  },
  {
   "cell_type": "code",
   "execution_count": null,
   "id": "9c78614b",
   "metadata": {},
   "outputs": [],
   "source": [
    "variable = 'MPFM P'\n",
    "\n",
    "fig, ax = plt.subplots(1,3,figsize=(15,5))\n",
    "\n",
    "ax[0].set_title(f\"Distribution of the {variable}\")\n",
    "sns.histplot(data = df_to_impute, x = f\"{variable}\", kde=True, ax = ax[0])\n",
    "\n",
    "ax[1].set_title(f\"Boxplot of the {variable}\")\n",
    "sns.boxplot(data = df_to_impute, x = f\"{variable}\", ax=ax[1])\n",
    "\n",
    "ax[2].set_title(f\"Gaussianity of:the {variable}\")\n",
    "qqplot(df_to_impute[f\"{variable}\"],line='s',ax=ax[2]);"
   ]
  },
  {
   "cell_type": "markdown",
   "id": "7bbfc324",
   "metadata": {},
   "source": [
    "#### Scaler... to be continued"
   ]
  },
  {
   "cell_type": "code",
   "execution_count": null,
   "id": "ba0549ae",
   "metadata": {},
   "outputs": [],
   "source": []
  }
 ],
 "metadata": {
  "kernelspec": {
   "display_name": "Python 3 (ipykernel)",
   "language": "python",
   "name": "python3"
  },
  "language_info": {
   "codemirror_mode": {
    "name": "ipython",
    "version": 3
   },
   "file_extension": ".py",
   "mimetype": "text/x-python",
   "name": "python",
   "nbconvert_exporter": "python",
   "pygments_lexer": "ipython3",
   "version": "3.10.6"
  },
  "toc": {
   "base_numbering": 1,
   "nav_menu": {},
   "number_sections": true,
   "sideBar": true,
   "skip_h1_title": false,
   "title_cell": "Table of Contents",
   "title_sidebar": "Contents",
   "toc_cell": false,
   "toc_position": {},
   "toc_section_display": true,
   "toc_window_display": false
  },
  "varInspector": {
   "cols": {
    "lenName": 16,
    "lenType": 16,
    "lenVar": 40
   },
   "kernels_config": {
    "python": {
     "delete_cmd_postfix": "",
     "delete_cmd_prefix": "del ",
     "library": "var_list.py",
     "varRefreshCmd": "print(var_dic_list())"
    },
    "r": {
     "delete_cmd_postfix": ") ",
     "delete_cmd_prefix": "rm(",
     "library": "var_list.r",
     "varRefreshCmd": "cat(var_dic_list()) "
    }
   },
   "types_to_exclude": [
    "module",
    "function",
    "builtin_function_or_method",
    "instance",
    "_Feature"
   ],
   "window_display": false
  }
 },
 "nbformat": 4,
 "nbformat_minor": 5
}
