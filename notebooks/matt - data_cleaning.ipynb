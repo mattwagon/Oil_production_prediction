{
 "cells": [
  {
   "cell_type": "markdown",
   "id": "d2513fda",
   "metadata": {},
   "source": [
    "# Oil Production"
   ]
  },
  {
   "cell_type": "code",
   "execution_count": 8,
   "id": "c616a468",
   "metadata": {},
   "outputs": [],
   "source": [
    "# DATA MANIPULATION, Visualization, and stats\n",
    "import pandas as pd\n",
    "from glob import glob\n",
    "import os"
   ]
  },
  {
   "cell_type": "code",
   "execution_count": 21,
   "id": "3d9d4dbd",
   "metadata": {},
   "outputs": [
    {
     "data": {
      "text/plain": [
       "'/home/pte/code/mattwagon/oil_production_prediction/notebooks'"
      ]
     },
     "execution_count": 21,
     "metadata": {},
     "output_type": "execute_result"
    }
   ],
   "source": [
    "# Your current working directory should be ./mattwagon/oil_production_prediction/notebooks\n",
    "os.getcwd()"
   ]
  },
  {
   "cell_type": "code",
   "execution_count": 48,
   "id": "e9f88e97",
   "metadata": {},
   "outputs": [],
   "source": [
    "# This filepath should work for all of us\n",
    "# I have added 'raw_data' to .gitignore so it should never be pushed to the repo\n",
    "path = os.path.join('..', 'raw_data', 'WellA')"
   ]
  },
  {
   "cell_type": "code",
   "execution_count": 49,
   "id": "965d9d51",
   "metadata": {},
   "outputs": [],
   "source": [
    "all_files = glob(os.path.join(path, \"*.csv\"))\n",
    "\n",
    "df = pd.concat((pd.read_csv(f) for f in all_files), ignore_index=True)"
   ]
  },
  {
   "cell_type": "code",
   "execution_count": 50,
   "id": "37e26fb5",
   "metadata": {},
   "outputs": [
    {
     "data": {
      "text/plain": [
       "dtype('O')"
      ]
     },
     "execution_count": 50,
     "metadata": {},
     "output_type": "execute_result"
    }
   ],
   "source": [
    "df.dtypes.Date"
   ]
  },
  {
   "cell_type": "code",
   "execution_count": 52,
   "id": "3cbc9c36",
   "metadata": {},
   "outputs": [
    {
     "data": {
      "text/plain": [
       "0      2014-01-01 00:00:00+01:00\n",
       "1      2014-01-02 00:00:00+01:00\n",
       "2      2014-01-03 00:00:00+01:00\n",
       "3      2014-01-04 00:00:00+01:00\n",
       "4      2014-01-05 00:00:00+01:00\n",
       "                  ...           \n",
       "5808   2019-12-27 00:00:00+01:00\n",
       "5809   2019-12-28 00:00:00+01:00\n",
       "5810   2019-12-29 00:00:00+01:00\n",
       "5811   2019-12-30 00:00:00+01:00\n",
       "5812   2019-12-31 00:00:00+01:00\n",
       "Name: Date, Length: 5813, dtype: datetime64[ns, pytz.FixedOffset(60)]"
      ]
     },
     "execution_count": 52,
     "metadata": {},
     "output_type": "execute_result"
    }
   ],
   "source": [
    "df['Date'] = pd.to_datetime(df['Date'])\n",
    "df['Date'].dtype\n",
    "df.Date"
   ]
  },
  {
   "cell_type": "code",
   "execution_count": 46,
   "id": "df90f0dc",
   "metadata": {},
   "outputs": [],
   "source": [
    "df['Date'] = df['Date'].dt.tz_convert(None)"
   ]
  },
  {
   "cell_type": "code",
   "execution_count": 47,
   "id": "bd714667",
   "metadata": {},
   "outputs": [
    {
     "data": {
      "text/plain": [
       "0      2013-12-31 23:00:00\n",
       "1      2014-01-01 23:00:00\n",
       "2      2014-01-02 23:00:00\n",
       "3      2014-01-03 23:00:00\n",
       "4      2014-01-04 23:00:00\n",
       "               ...        \n",
       "5808   2019-12-26 23:00:00\n",
       "5809   2019-12-27 23:00:00\n",
       "5810   2019-12-28 23:00:00\n",
       "5811   2019-12-29 23:00:00\n",
       "5812   2019-12-30 23:00:00\n",
       "Name: Date, Length: 5813, dtype: datetime64[ns]"
      ]
     },
     "execution_count": 47,
     "metadata": {},
     "output_type": "execute_result"
    }
   ],
   "source": [
    "df.Date"
   ]
  }
 ],
 "metadata": {
  "kernelspec": {
   "display_name": "Python 3 (ipykernel)",
   "language": "python",
   "name": "python3"
  },
  "language_info": {
   "codemirror_mode": {
    "name": "ipython",
    "version": 3
   },
   "file_extension": ".py",
   "mimetype": "text/x-python",
   "name": "python",
   "nbconvert_exporter": "python",
   "pygments_lexer": "ipython3",
   "version": "3.10.6"
  },
  "toc": {
   "base_numbering": 1,
   "nav_menu": {},
   "number_sections": true,
   "sideBar": true,
   "skip_h1_title": false,
   "title_cell": "Table of Contents",
   "title_sidebar": "Contents",
   "toc_cell": false,
   "toc_position": {},
   "toc_section_display": true,
   "toc_window_display": false
  },
  "varInspector": {
   "cols": {
    "lenName": 16,
    "lenType": 16,
    "lenVar": 40
   },
   "kernels_config": {
    "python": {
     "delete_cmd_postfix": "",
     "delete_cmd_prefix": "del ",
     "library": "var_list.py",
     "varRefreshCmd": "print(var_dic_list())"
    },
    "r": {
     "delete_cmd_postfix": ") ",
     "delete_cmd_prefix": "rm(",
     "library": "var_list.r",
     "varRefreshCmd": "cat(var_dic_list()) "
    }
   },
   "types_to_exclude": [
    "module",
    "function",
    "builtin_function_or_method",
    "instance",
    "_Feature"
   ],
   "window_display": false
  }
 },
 "nbformat": 4,
 "nbformat_minor": 5
}
