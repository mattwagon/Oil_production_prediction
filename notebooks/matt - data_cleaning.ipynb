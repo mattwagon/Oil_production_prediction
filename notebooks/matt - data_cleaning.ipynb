{
 "cells": [
  {
   "cell_type": "markdown",
   "id": "d2513fda",
   "metadata": {},
   "source": [
    "# Oil Production"
   ]
  },
  {
   "cell_type": "code",
   "execution_count": 1,
   "id": "c616a468",
   "metadata": {},
   "outputs": [],
   "source": [
    "# DATA MANIPULATION, Visualization, and stats\n",
    "import pandas as pd\n",
    "from glob import glob\n",
    "import os\n",
    "import seaborn as sns\n",
    "import matplotlib.pyplot as plt"
   ]
  },
  {
   "cell_type": "code",
   "execution_count": 2,
   "id": "982ecd00",
   "metadata": {},
   "outputs": [],
   "source": [
    "# Your current working directory should be ./mattwagon/oil_production_prediction/notebooks\n",
    "os.getcwd()"
   ]
  },
  {
   "cell_type": "code",
   "execution_count": 3,
   "id": "23a9f3e4",
   "metadata": {},
   "outputs": [],
   "source": [
    "# This filepath should work for all of us\n",
    "# I have added 'raw_data' to .gitignore so it should never be pushed to the repo\n",
    "path = os.path.join('..', 'data')"
   ]
  },
  {
   "cell_type": "code",
   "execution_count": 4,
   "id": "18779ece",
   "metadata": {},
   "outputs": [],
   "source": [
    "all_files = glob(os.path.join(path, \"*.csv\"))\n",
    "\n",
    "df = pd.concat((pd.read_csv(f) for f in all_files), ignore_index=True)"
   ]
  },
  {
   "cell_type": "code",
   "execution_count": 5,
   "id": "bc7c94ca",
   "metadata": {},
   "outputs": [],
   "source": [
    "df.shape"
   ]
  },
  {
   "cell_type": "code",
   "execution_count": 6,
   "id": "eda1bbbe",
   "metadata": {},
   "outputs": [],
   "source": [
    "df.dtypes.Date"
   ]
  },
  {
   "cell_type": "code",
   "execution_count": 7,
   "id": "670bd5f6",
   "metadata": {},
   "outputs": [],
   "source": [
    "df['Date'] = pd.to_datetime(df['Date'])\n",
    "df['Date'].dtype\n",
    "df.Date[0]"
   ]
  },
  {
   "cell_type": "code",
   "execution_count": 8,
   "id": "e7c191d8",
   "metadata": {},
   "outputs": [],
   "source": [
    "# Removes the timezone aspect which makes the column easier to read but changes the date\n",
    "df['Date'] = df['Date'].dt.tz_convert(None)\n",
    "df['Date'].dtype\n",
    "df.Date[0]"
   ]
  },
  {
   "cell_type": "code",
   "execution_count": 9,
   "id": "be6ec556",
   "metadata": {},
   "outputs": [],
   "source": [
    "sorted_nan = df.isnull().sum().sort_values(ascending=False)\n",
    "sorted_nan"
   ]
  },
  {
   "cell_type": "code",
   "execution_count": 10,
   "id": "cb8c54bc",
   "metadata": {},
   "outputs": [],
   "source": [
    "features_drop = []\n",
    "for feature, value in dict(sorted_nan).items():\n",
    "    if value == len(df):\n",
    "        features_drop.append(feature)"
   ]
  },
  {
   "cell_type": "code",
   "execution_count": 11,
   "id": "2d0d2847",
   "metadata": {},
   "outputs": [],
   "source": [
    "df.drop(columns=features_drop, inplace = True)"
   ]
  },
  {
   "cell_type": "code",
   "execution_count": 12,
   "id": "e58c917f",
   "metadata": {},
   "outputs": [],
   "source": [
    "dic = {}\n",
    "for feature, value in dict(sorted_nan).items():\n",
    "    if value < len(df) and value > 0:\n",
    "        dic[feature] = value"
   ]
  },
  {
   "cell_type": "code",
   "execution_count": 13,
   "id": "ecb6825d",
   "metadata": {},
   "outputs": [],
   "source": [
    "dic_2 = {}\n",
    "\n",
    "for feature, value in dic.items():\n",
    "    dic_2[feature] = round(value/len(df),2) \n",
    "    if dic_2[feature] > 0.3:\n",
    "        features_drop.append(feature)"
   ]
  },
  {
   "cell_type": "code",
   "execution_count": 14,
   "id": "8f74c069",
   "metadata": {},
   "outputs": [],
   "source": [
    "features_to_impute_check = []\n",
    "\n",
    "for feature, value in dic_2.items():\n",
    "    if value < 0.3:\n",
    "        features_to_impute_check.append(feature)"
   ]
  },
  {
   "cell_type": "code",
   "execution_count": 15,
   "id": "dfa5e3b8",
   "metadata": {},
   "outputs": [],
   "source": [
    "remove = {\"Sand Rate\", \"MPFM NTotal Count Rate\", \"MPFM N81 Count Rate\", \"MPFM N356 Count Rate\", \"MPFM N32 Count Rate\", \"MPFM GOR\", \"Downhole Gauge T\", \"Downhole Gauge P\"}\n",
    " \n",
    "features_to_impute = [f for f in features_to_impute_check if f not in remove]"
   ]
  },
  {
   "cell_type": "code",
   "execution_count": 16,
   "id": "24aeff4b",
   "metadata": {},
   "outputs": [],
   "source": [
    "df_to_impute = df[df.columns.intersection(features_to_impute)]"
   ]
  },
  {
   "cell_type": "code",
   "execution_count": 17,
   "id": "7cd83e9f",
   "metadata": {},
   "outputs": [],
   "source": [
    "df_to_impute.head(5)"
   ]
  },
  {
   "cell_type": "code",
   "execution_count": 18,
   "id": "cd5eea5a",
   "metadata": {},
   "outputs": [],
   "source": [
    "df_to_impute.describe()"
   ]
  },
  {
   "cell_type": "code",
   "execution_count": 19,
   "id": "674d4d65",
   "metadata": {},
   "outputs": [],
   "source": [
    "# Pairwise correlation\n",
    "sns.heatmap(df_to_impute.corr(), cmap='RdBu')\n",
    "plt.show()"
   ]
  },
  {
   "cell_type": "markdown",
   "id": "3c573009",
   "metadata": {},
   "source": [
    "A lot of the 'Choke' features seem to be duplicates of each other or at least extremely similar"
   ]
  },
  {
   "cell_type": "markdown",
   "id": "3e26d7bb",
   "metadata": {},
   "source": [
    "Qwat and Annulus P features show strong negative correlation towards our target feature"
   ]
  },
  {
   "cell_type": "markdown",
   "id": "15c3834c",
   "metadata": {},
   "source": [
    "### Let's look into the choke features"
   ]
  },
  {
   "cell_type": "code",
   "execution_count": 20,
   "id": "87dd505b",
   "metadata": {},
   "outputs": [],
   "source": [
    "# Get list of choke features\n",
    "choke_cols = [col for col in df_to_impute.columns if 'Choke' in col]\n",
    "choke_cols"
   ]
  },
  {
   "cell_type": "code",
   "execution_count": null,
   "id": "8d811e3c",
   "metadata": {},
   "outputs": [],
   "source": [
    "# Visual look at distribution of choke data to check for any notable differences\n",
    "f, axes = plt.subplots(2, 3, figsize=(15, 10))\n",
    "for ax, feature in zip(axes.flat, df_to_impute[choke_cols]):\n",
    "    sns.histplot(df_to_impute[feature] , color=\"skyblue\", kde=True, ax=ax)"
   ]
  },
  {
   "cell_type": "markdown",
   "id": "2ad1e490",
   "metadata": {},
   "source": [
    "Looks like there is subtle differences in the data"
   ]
  },
  {
   "cell_type": "code",
   "execution_count": null,
   "id": "e2b3fa60",
   "metadata": {},
   "outputs": [],
   "source": [
    "# Visual check for outliers\n",
    "f, axes = plt.subplots(2, 3, figsize=(15, 10))\n",
    "for ax, feature in zip(axes.flat, df_to_impute[choke_cols]):\n",
    "    sns.boxplot(data=df_to_impute, x=feature, color=\"skyblue\", ax=ax)"
   ]
  },
  {
   "cell_type": "markdown",
   "id": "f61bc5a7",
   "metadata": {},
   "source": [
    "No obvious outliers or differences between features"
   ]
  },
  {
   "cell_type": "markdown",
   "id": "7aa6d4cc",
   "metadata": {},
   "source": [
    "The features look like pairs (Choke Opening calc 1 - Choke Calculated), (Choke Opening - Choke Measured) and (Choke CCR - Choke Opening Calc 2)\n",
    "\n",
    "We should drop one of each pair to avoid multicollinearity (I think)"
   ]
  },
  {
   "cell_type": "markdown",
   "id": "a84b6b2b",
   "metadata": {},
   "source": [
    "Unsure whether the features skewness will affect scaling"
   ]
  },
  {
   "cell_type": "code",
   "execution_count": null,
   "id": "e724e7f8",
   "metadata": {},
   "outputs": [],
   "source": [
    "# Regression look at the choke features\n",
    "f, axes = plt.subplots(2, 3, figsize=(15, 10))\n",
    "for ax, feature in zip(axes.flat, choke_cols):\n",
    "    sns.regplot(data=df_to_impute, x=feature, y=df_to_impute['Qoil MPFM corrected'], ax=ax)"
   ]
  },
  {
   "cell_type": "markdown",
   "id": "c15897fd",
   "metadata": {},
   "source": [
    "### Look at the negative correlated features"
   ]
  },
  {
   "cell_type": "code",
   "execution_count": null,
   "id": "99e52522",
   "metadata": {},
   "outputs": [],
   "source": [
    "neg_corr_features = df_to_impute[['Qwat MPFM', 'Qwat MPFM corrected', 'Annulus P']]"
   ]
  },
  {
   "cell_type": "code",
   "execution_count": null,
   "id": "c6a0ab17",
   "metadata": {},
   "outputs": [],
   "source": [
    "# Visual look at distribution of negatively correlated data\n",
    "f, axes = plt.subplots(1, 3, figsize=(15, 5))\n",
    "for ax, feature in zip(axes.flat, neg_corr_features):\n",
    "    sns.histplot(df_to_impute[feature] , color=\"skyblue\", kde=True, ax=ax)"
   ]
  },
  {
   "cell_type": "code",
   "execution_count": null,
   "id": "7230fd71",
   "metadata": {},
   "outputs": [],
   "source": [
    "# Visual check for outliers\n",
    "f, axes = plt.subplots(1, 3, figsize=(15, 5))\n",
    "for ax, feature in zip(axes.flat, neg_corr_features):\n",
    "    sns.boxplot(data=neg_corr_features, x=feature, color=\"skyblue\", ax=ax)"
   ]
  },
  {
   "cell_type": "code",
   "execution_count": null,
   "id": "b26e806e",
   "metadata": {},
   "outputs": [],
   "source": [
    "# Visual look at the negative correlated features\n",
    "f, axes = plt.subplots(1, 3, figsize=(15, 5))\n",
    "for ax, feature in zip(axes.flat, neg_corr_features):\n",
    "    sns.regplot(data=df_to_impute, x=feature, y=df_to_impute['Qoil MPFM corrected'], ax=ax)"
   ]
  }
 ],
 "metadata": {
  "kernelspec": {
   "display_name": "Python 3 (ipykernel)",
   "language": "python",
   "name": "python3"
  },
  "language_info": {
   "codemirror_mode": {
    "name": "ipython",
    "version": 3
   },
   "file_extension": ".py",
   "mimetype": "text/x-python",
   "name": "python",
   "nbconvert_exporter": "python",
   "pygments_lexer": "ipython3",
   "version": "3.10.6"
  },
  "toc": {
   "base_numbering": 1,
   "nav_menu": {},
   "number_sections": true,
   "sideBar": true,
   "skip_h1_title": false,
   "title_cell": "Table of Contents",
   "title_sidebar": "Contents",
   "toc_cell": false,
   "toc_position": {},
   "toc_section_display": true,
   "toc_window_display": false
  },
  "varInspector": {
   "cols": {
    "lenName": 16,
    "lenType": 16,
    "lenVar": 40
   },
   "kernels_config": {
    "python": {
     "delete_cmd_postfix": "",
     "delete_cmd_prefix": "del ",
     "library": "var_list.py",
     "varRefreshCmd": "print(var_dic_list())"
    },
    "r": {
     "delete_cmd_postfix": ") ",
     "delete_cmd_prefix": "rm(",
     "library": "var_list.r",
     "varRefreshCmd": "cat(var_dic_list()) "
    }
   },
   "types_to_exclude": [
    "module",
    "function",
    "builtin_function_or_method",
    "instance",
    "_Feature"
   ],
   "window_display": false
  }
 },
 "nbformat": 4,
 "nbformat_minor": 5
}
