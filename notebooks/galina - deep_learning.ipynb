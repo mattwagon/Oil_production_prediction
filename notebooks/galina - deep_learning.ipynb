{
 "cells": [
  {
   "cell_type": "markdown",
   "id": "f1d3c1cf",
   "metadata": {},
   "source": [
    "# Deep Learning (RNN model)"
   ]
  },
  {
   "cell_type": "markdown",
   "id": "a03de3f7",
   "metadata": {},
   "source": [
    "## Imports"
   ]
  },
  {
   "cell_type": "code",
   "execution_count": 1,
   "id": "4898e294",
   "metadata": {},
   "outputs": [
    {
     "name": "stderr",
     "output_type": "stream",
     "text": [
      "2023-03-21 09:56:23.297320: I tensorflow/core/platform/cpu_feature_guard.cc:193] This TensorFlow binary is optimized with oneAPI Deep Neural Network Library (oneDNN) to use the following CPU instructions in performance-critical operations:  AVX2 AVX_VNNI FMA\n",
      "To enable them in other operations, rebuild TensorFlow with the appropriate compiler flags.\n",
      "2023-03-21 09:56:23.666014: I tensorflow/core/util/util.cc:169] oneDNN custom operations are on. You may see slightly different numerical results due to floating-point round-off errors from different computation orders. To turn them off, set the environment variable `TF_ENABLE_ONEDNN_OPTS=0`.\n",
      "2023-03-21 09:56:23.688778: W tensorflow/stream_executor/platform/default/dso_loader.cc:64] Could not load dynamic library 'libcudart.so.11.0'; dlerror: libcudart.so.11.0: cannot open shared object file: No such file or directory\n",
      "2023-03-21 09:56:23.688809: I tensorflow/stream_executor/cuda/cudart_stub.cc:29] Ignore above cudart dlerror if you do not have a GPU set up on your machine.\n",
      "2023-03-21 09:56:23.843521: E tensorflow/stream_executor/cuda/cuda_blas.cc:2981] Unable to register cuBLAS factory: Attempting to register factory for plugin cuBLAS when one has already been registered\n",
      "2023-03-21 09:56:25.840835: W tensorflow/stream_executor/platform/default/dso_loader.cc:64] Could not load dynamic library 'libnvinfer.so.7'; dlerror: libnvinfer.so.7: cannot open shared object file: No such file or directory\n",
      "2023-03-21 09:56:25.841048: W tensorflow/stream_executor/platform/default/dso_loader.cc:64] Could not load dynamic library 'libnvinfer_plugin.so.7'; dlerror: libnvinfer_plugin.so.7: cannot open shared object file: No such file or directory\n",
      "2023-03-21 09:56:25.841066: W tensorflow/compiler/tf2tensorrt/utils/py_utils.cc:38] TF-TRT Warning: Cannot dlopen some TensorRT libraries. If you would like to use Nvidia GPU with TensorRT, please make sure the missing libraries mentioned above are installed properly.\n"
     ]
    }
   ],
   "source": [
    "# DATA MANIPULATION, Visualization, and stats\n",
    "import pandas as pd\n",
    "from glob import glob\n",
    "import os\n",
    "import seaborn as sns\n",
    "import matplotlib.pyplot as plt\n",
    "%matplotlib inline\n",
    "import numpy as np\n",
    "from sklearn.preprocessing import MinMaxScaler\n",
    "\n",
    "# Deep Learning\n",
    "import tensorflow as tf"
   ]
  },
  {
   "cell_type": "code",
   "execution_count": 2,
   "id": "f599d64c",
   "metadata": {},
   "outputs": [
    {
     "data": {
      "text/plain": [
       "'/home/galinasamotorova/code/GalinaSa/Final-Project'"
      ]
     },
     "execution_count": 2,
     "metadata": {},
     "output_type": "execute_result"
    }
   ],
   "source": [
    "# Your current working directory should be ./mattwagon/oil_production_prediction/notebooks\n",
    "os.getcwd()"
   ]
  },
  {
   "cell_type": "markdown",
   "id": "0a1998a4",
   "metadata": {},
   "source": [
    "## Import the data"
   ]
  },
  {
   "cell_type": "code",
   "execution_count": 3,
   "id": "2c733ada",
   "metadata": {},
   "outputs": [],
   "source": [
    "# This filepath should work for all of us\n",
    "# I have added 'raw_data' to .gitignore so it should never be pushed to the repo\n",
    "path = 'data'\n",
    "file_names = os.listdir(path)\n",
    "csv_files = [f for f in file_names if f.endswith('.csv')]\n",
    "\n",
    "csv_files.sort()\n",
    "\n",
    "df = pd.DataFrame()\n",
    "\n",
    "for file in csv_files:\n",
    "    file_path = os.path.join(path, file)\n",
    "    df_aux = pd.read_csv(file_path)\n",
    "    df = pd.concat([df, df_aux], ignore_index=True)"
   ]
  },
  {
   "cell_type": "code",
   "execution_count": 4,
   "id": "e6355b03",
   "metadata": {},
   "outputs": [
    {
     "data": {
      "text/html": [
       "<div>\n",
       "<style scoped>\n",
       "    .dataframe tbody tr th:only-of-type {\n",
       "        vertical-align: middle;\n",
       "    }\n",
       "\n",
       "    .dataframe tbody tr th {\n",
       "        vertical-align: top;\n",
       "    }\n",
       "\n",
       "    .dataframe thead th {\n",
       "        text-align: right;\n",
       "    }\n",
       "</style>\n",
       "<table border=\"1\" class=\"dataframe\">\n",
       "  <thead>\n",
       "    <tr style=\"text-align: right;\">\n",
       "      <th></th>\n",
       "      <th>Date</th>\n",
       "      <th>Calculated Drawdown_At Gauge</th>\n",
       "      <th>Calculated Drawdown_At Bottom Node</th>\n",
       "      <th>Reservoir Pressure</th>\n",
       "      <th>z Well Identifier</th>\n",
       "      <th>z TMore PS Identifier</th>\n",
       "      <th>z TMore Identifier</th>\n",
       "      <th>z Tag Identifier 2</th>\n",
       "      <th>z Tag Identifier</th>\n",
       "      <th>z PI-AF Database</th>\n",
       "      <th>...</th>\n",
       "      <th>Annulus Master Valve Status</th>\n",
       "      <th>Annulus Master Valve Opening Frequency</th>\n",
       "      <th>Pseudo Cv</th>\n",
       "      <th>GL GOR</th>\n",
       "      <th>GL Qgas</th>\n",
       "      <th>GL Qliq</th>\n",
       "      <th>GL Qoil</th>\n",
       "      <th>GL Qwat</th>\n",
       "      <th>GL Ramp-up Speed</th>\n",
       "      <th>GL WCT</th>\n",
       "    </tr>\n",
       "  </thead>\n",
       "  <tbody>\n",
       "    <tr>\n",
       "      <th>0</th>\n",
       "      <td>2007-02-01 00:00:00+01:00</td>\n",
       "      <td>NaN</td>\n",
       "      <td>NaN</td>\n",
       "      <td>186.34</td>\n",
       "      <td>30221</td>\n",
       "      <td>NaN</td>\n",
       "      <td>NaN</td>\n",
       "      <td>1</td>\n",
       "      <td>3022</td>\n",
       "      <td>NaN</td>\n",
       "      <td>...</td>\n",
       "      <td>NaN</td>\n",
       "      <td>NaN</td>\n",
       "      <td>NaN</td>\n",
       "      <td>52.5</td>\n",
       "      <td>90.0</td>\n",
       "      <td>32300.0</td>\n",
       "      <td>10960.0</td>\n",
       "      <td>21360.0</td>\n",
       "      <td>NaN</td>\n",
       "      <td>66.08</td>\n",
       "    </tr>\n",
       "    <tr>\n",
       "      <th>1</th>\n",
       "      <td>2007-02-02 00:00:00+01:00</td>\n",
       "      <td>NaN</td>\n",
       "      <td>NaN</td>\n",
       "      <td>186.34</td>\n",
       "      <td>30221</td>\n",
       "      <td>NaN</td>\n",
       "      <td>NaN</td>\n",
       "      <td>1</td>\n",
       "      <td>3022</td>\n",
       "      <td>NaN</td>\n",
       "      <td>...</td>\n",
       "      <td>NaN</td>\n",
       "      <td>NaN</td>\n",
       "      <td>NaN</td>\n",
       "      <td>52.5</td>\n",
       "      <td>90.0</td>\n",
       "      <td>32300.0</td>\n",
       "      <td>10960.0</td>\n",
       "      <td>21360.0</td>\n",
       "      <td>NaN</td>\n",
       "      <td>66.08</td>\n",
       "    </tr>\n",
       "    <tr>\n",
       "      <th>2</th>\n",
       "      <td>2007-02-03 00:00:00+01:00</td>\n",
       "      <td>NaN</td>\n",
       "      <td>NaN</td>\n",
       "      <td>186.34</td>\n",
       "      <td>30221</td>\n",
       "      <td>NaN</td>\n",
       "      <td>NaN</td>\n",
       "      <td>1</td>\n",
       "      <td>3022</td>\n",
       "      <td>NaN</td>\n",
       "      <td>...</td>\n",
       "      <td>NaN</td>\n",
       "      <td>NaN</td>\n",
       "      <td>NaN</td>\n",
       "      <td>52.5</td>\n",
       "      <td>90.0</td>\n",
       "      <td>32300.0</td>\n",
       "      <td>10960.0</td>\n",
       "      <td>21360.0</td>\n",
       "      <td>NaN</td>\n",
       "      <td>66.08</td>\n",
       "    </tr>\n",
       "    <tr>\n",
       "      <th>3</th>\n",
       "      <td>2007-02-04 00:00:00+01:00</td>\n",
       "      <td>NaN</td>\n",
       "      <td>NaN</td>\n",
       "      <td>186.34</td>\n",
       "      <td>30221</td>\n",
       "      <td>NaN</td>\n",
       "      <td>NaN</td>\n",
       "      <td>1</td>\n",
       "      <td>3022</td>\n",
       "      <td>NaN</td>\n",
       "      <td>...</td>\n",
       "      <td>NaN</td>\n",
       "      <td>NaN</td>\n",
       "      <td>NaN</td>\n",
       "      <td>52.5</td>\n",
       "      <td>90.0</td>\n",
       "      <td>32300.0</td>\n",
       "      <td>10960.0</td>\n",
       "      <td>21360.0</td>\n",
       "      <td>NaN</td>\n",
       "      <td>66.08</td>\n",
       "    </tr>\n",
       "    <tr>\n",
       "      <th>4</th>\n",
       "      <td>2007-02-05 00:00:00+01:00</td>\n",
       "      <td>NaN</td>\n",
       "      <td>NaN</td>\n",
       "      <td>186.34</td>\n",
       "      <td>30221</td>\n",
       "      <td>NaN</td>\n",
       "      <td>NaN</td>\n",
       "      <td>1</td>\n",
       "      <td>3022</td>\n",
       "      <td>NaN</td>\n",
       "      <td>...</td>\n",
       "      <td>NaN</td>\n",
       "      <td>NaN</td>\n",
       "      <td>NaN</td>\n",
       "      <td>52.5</td>\n",
       "      <td>90.0</td>\n",
       "      <td>32300.0</td>\n",
       "      <td>10960.0</td>\n",
       "      <td>21360.0</td>\n",
       "      <td>NaN</td>\n",
       "      <td>66.08</td>\n",
       "    </tr>\n",
       "  </tbody>\n",
       "</table>\n",
       "<p>5 rows × 189 columns</p>\n",
       "</div>"
      ],
      "text/plain": [
       "                        Date  Calculated Drawdown_At Gauge  \\\n",
       "0  2007-02-01 00:00:00+01:00                           NaN   \n",
       "1  2007-02-02 00:00:00+01:00                           NaN   \n",
       "2  2007-02-03 00:00:00+01:00                           NaN   \n",
       "3  2007-02-04 00:00:00+01:00                           NaN   \n",
       "4  2007-02-05 00:00:00+01:00                           NaN   \n",
       "\n",
       "   Calculated Drawdown_At Bottom Node  Reservoir Pressure  z Well Identifier  \\\n",
       "0                                 NaN              186.34              30221   \n",
       "1                                 NaN              186.34              30221   \n",
       "2                                 NaN              186.34              30221   \n",
       "3                                 NaN              186.34              30221   \n",
       "4                                 NaN              186.34              30221   \n",
       "\n",
       "   z TMore PS Identifier  z TMore Identifier  z Tag Identifier 2  \\\n",
       "0                    NaN                 NaN                   1   \n",
       "1                    NaN                 NaN                   1   \n",
       "2                    NaN                 NaN                   1   \n",
       "3                    NaN                 NaN                   1   \n",
       "4                    NaN                 NaN                   1   \n",
       "\n",
       "   z Tag Identifier  z PI-AF Database  ...  Annulus Master Valve Status  \\\n",
       "0              3022               NaN  ...                          NaN   \n",
       "1              3022               NaN  ...                          NaN   \n",
       "2              3022               NaN  ...                          NaN   \n",
       "3              3022               NaN  ...                          NaN   \n",
       "4              3022               NaN  ...                          NaN   \n",
       "\n",
       "   Annulus Master Valve Opening Frequency  Pseudo Cv  GL GOR  GL Qgas  \\\n",
       "0                                     NaN        NaN    52.5     90.0   \n",
       "1                                     NaN        NaN    52.5     90.0   \n",
       "2                                     NaN        NaN    52.5     90.0   \n",
       "3                                     NaN        NaN    52.5     90.0   \n",
       "4                                     NaN        NaN    52.5     90.0   \n",
       "\n",
       "   GL Qliq  GL Qoil  GL Qwat  GL Ramp-up Speed  GL WCT  \n",
       "0  32300.0  10960.0  21360.0               NaN   66.08  \n",
       "1  32300.0  10960.0  21360.0               NaN   66.08  \n",
       "2  32300.0  10960.0  21360.0               NaN   66.08  \n",
       "3  32300.0  10960.0  21360.0               NaN   66.08  \n",
       "4  32300.0  10960.0  21360.0               NaN   66.08  \n",
       "\n",
       "[5 rows x 189 columns]"
      ]
     },
     "execution_count": 4,
     "metadata": {},
     "output_type": "execute_result"
    }
   ],
   "source": [
    "df.head()"
   ]
  },
  {
   "cell_type": "code",
   "execution_count": 5,
   "id": "b358ba87",
   "metadata": {},
   "outputs": [],
   "source": [
    "df['Date'] = pd.to_datetime(df['Date'])\n",
    "df['Date'] = df['Date'].dt.tz_convert(None)\n",
    "df['Date'] = pd.to_datetime(df['Date'].apply(lambda x: x + pd.DateOffset(hours=1)))"
   ]
  },
  {
   "cell_type": "markdown",
   "id": "33cdeed7",
   "metadata": {},
   "source": [
    "## Data cleaning"
   ]
  },
  {
   "cell_type": "markdown",
   "id": "6b733b21",
   "metadata": {},
   "source": [
    "### Drop features with all NaN and >30% NaN values"
   ]
  },
  {
   "cell_type": "code",
   "execution_count": 6,
   "id": "331b85ac",
   "metadata": {},
   "outputs": [
    {
     "data": {
      "text/plain": [
       "(5813, 65)"
      ]
     },
     "execution_count": 6,
     "metadata": {},
     "output_type": "execute_result"
    }
   ],
   "source": [
    "features_nan_drop = []\n",
    "\n",
    "for feature, value in dict(df.isnull().sum().sort_values(ascending=False)).items():\n",
    "    if value/len(df) > 0.3:\n",
    "        features_nan_drop.append(feature)\n",
    "        \n",
    "df.drop(columns=features_nan_drop, inplace=True)\n",
    "df.shape"
   ]
  },
  {
   "cell_type": "markdown",
   "id": "02ece710",
   "metadata": {},
   "source": [
    "### Drop features with std = 0"
   ]
  },
  {
   "cell_type": "code",
   "execution_count": 7,
   "id": "a6668af7",
   "metadata": {},
   "outputs": [
    {
     "data": {
      "text/plain": [
       "(5813, 41)"
      ]
     },
     "execution_count": 7,
     "metadata": {},
     "output_type": "execute_result"
    }
   ],
   "source": [
    "features_null_std = []\n",
    "\n",
    "for feature in df.drop(columns='Date').columns:\n",
    "    if df[feature].std() < 0.0000001:\n",
    "        features_null_std.append(feature)\n",
    "        \n",
    "df.drop(columns=features_null_std, inplace=True)\n",
    "\n",
    "df.shape"
   ]
  },
  {
   "cell_type": "markdown",
   "id": "07a0029c",
   "metadata": {},
   "source": [
    "### Drop corrected, 'choke' and correlated features, and from 'remove' dict"
   ]
  },
  {
   "cell_type": "code",
   "execution_count": 8,
   "id": "049d359a",
   "metadata": {},
   "outputs": [],
   "source": [
    "corrected_features_drop = ['Qwat MPFM corrected', 'Qoil MPFM corrected', 'Qliq MPFM corrected', 'Qgas MPFM corrected']\n",
    "df.drop(columns=corrected_features_drop, inplace=True)"
   ]
  },
  {
   "cell_type": "code",
   "execution_count": 9,
   "id": "3af06b9e",
   "metadata": {},
   "outputs": [],
   "source": [
    "choke_features_drop = ['Choke Opening Calc1', 'Choke Opening Calc2', 'Choke Measured', 'Choke Calculated', 'Choke CCR']\n",
    "df.drop(columns=choke_features_drop, inplace = True)"
   ]
  },
  {
   "cell_type": "code",
   "execution_count": 10,
   "id": "48a68fdf",
   "metadata": {},
   "outputs": [],
   "source": [
    "features_corr_drop = ['Qwat PC', 'Qgas PC', 'Qoil PC', 'Tubing dP','MPFM P', 'Qliq MPFM', 'Qwat MPFM']\n",
    "df.drop(columns=features_corr_drop, inplace = True)"
   ]
  },
  {
   "cell_type": "code",
   "execution_count": 11,
   "id": "660485c0",
   "metadata": {},
   "outputs": [],
   "source": [
    "remove = {\"Sand Rate\", \"MPFM NTotal Count Rate\", \"MPFM N81 Count Rate\", \"MPFM N356 Count Rate\", \"MPFM N32 Count Rate\", \"MPFM GOR\", \"Downhole Gauge T\", \"Downhole Gauge P\", \"Service Line P\", \"Manifold T\", \"Jumper T\"}\n",
    "df.drop(columns=remove, inplace=True)"
   ]
  },
  {
   "cell_type": "code",
   "execution_count": 12,
   "id": "5e7c930f",
   "metadata": {},
   "outputs": [
    {
     "data": {
      "text/plain": [
       "(5813, 14)"
      ]
     },
     "execution_count": 12,
     "metadata": {},
     "output_type": "execute_result"
    }
   ],
   "source": [
    "df.shape"
   ]
  },
  {
   "cell_type": "code",
   "execution_count": 13,
   "id": "d0d10f92",
   "metadata": {},
   "outputs": [
    {
     "data": {
      "image/png": "[encoded data removed]",
      "text/plain": [
       "<Figure size 640x480 with 2 Axes>"
      ]
     },
     "metadata": {},
     "output_type": "display_data"
    }
   ],
   "source": [
    "# Pairwise correlation\n",
    "sns.heatmap(df.corr(), cmap='RdBu')\n",
    "plt.show()"
   ]
  },
  {
   "cell_type": "markdown",
   "id": "bd3e71c2",
   "metadata": {},
   "source": [
    "## Impute features"
   ]
  },
  {
   "cell_type": "code",
   "execution_count": 14,
   "id": "2b058a9f",
   "metadata": {},
   "outputs": [],
   "source": [
    "for feature in df.columns:\n",
    "    df[feature].replace(np.nan, df[feature].median(), inplace=True)"
   ]
  },
  {
   "cell_type": "code",
   "execution_count": 15,
   "id": "ed854562",
   "metadata": {},
   "outputs": [
    {
     "data": {
      "text/plain": [
       "Date               0\n",
       "WHT                0\n",
       "WHP                0\n",
       "Tubing Gradient    0\n",
       "Sand Raw           0\n",
       "Qoil MPFM          0\n",
       "Qgas MPFM          0\n",
       "MPFM WCT           0\n",
       "MPFM Venturi dP    0\n",
       "MPFM T             0\n",
       "MPFM CF GOR        0\n",
       "Manifold P         0\n",
       "Choke Opening      0\n",
       "Annulus P          0\n",
       "dtype: int64"
      ]
     },
     "execution_count": 15,
     "metadata": {},
     "output_type": "execute_result"
    }
   ],
   "source": [
    "df.isnull().sum()"
   ]
  },
  {
   "cell_type": "code",
   "execution_count": 16,
   "id": "f827b717",
   "metadata": {},
   "outputs": [
    {
     "data": {
      "text/html": [
       "<div>\n",
       "<style scoped>\n",
       "    .dataframe tbody tr th:only-of-type {\n",
       "        vertical-align: middle;\n",
       "    }\n",
       "\n",
       "    .dataframe tbody tr th {\n",
       "        vertical-align: top;\n",
       "    }\n",
       "\n",
       "    .dataframe thead th {\n",
       "        text-align: right;\n",
       "    }\n",
       "</style>\n",
       "<table border=\"1\" class=\"dataframe\">\n",
       "  <thead>\n",
       "    <tr style=\"text-align: right;\">\n",
       "      <th></th>\n",
       "      <th>Date</th>\n",
       "      <th>WHT</th>\n",
       "      <th>WHP</th>\n",
       "      <th>Tubing Gradient</th>\n",
       "      <th>Sand Raw</th>\n",
       "      <th>Qoil MPFM</th>\n",
       "      <th>Qgas MPFM</th>\n",
       "      <th>MPFM WCT</th>\n",
       "      <th>MPFM Venturi dP</th>\n",
       "      <th>MPFM T</th>\n",
       "      <th>MPFM CF GOR</th>\n",
       "      <th>Manifold P</th>\n",
       "      <th>Choke Opening</th>\n",
       "      <th>Annulus P</th>\n",
       "    </tr>\n",
       "  </thead>\n",
       "  <tbody>\n",
       "    <tr>\n",
       "      <th>0</th>\n",
       "      <td>2007-02-01</td>\n",
       "      <td>51.247467</td>\n",
       "      <td>78.146263</td>\n",
       "      <td>0.0</td>\n",
       "      <td>5084.182129</td>\n",
       "      <td>14065.431937</td>\n",
       "      <td>127.717811</td>\n",
       "      <td>0.0</td>\n",
       "      <td>1672.997986</td>\n",
       "      <td>52.371239</td>\n",
       "      <td>1.0</td>\n",
       "      <td>69.046879</td>\n",
       "      <td>76.917267</td>\n",
       "      <td>150.246353</td>\n",
       "    </tr>\n",
       "    <tr>\n",
       "      <th>1</th>\n",
       "      <td>2007-02-02</td>\n",
       "      <td>51.247467</td>\n",
       "      <td>78.146263</td>\n",
       "      <td>0.0</td>\n",
       "      <td>5084.182129</td>\n",
       "      <td>14065.431937</td>\n",
       "      <td>127.717811</td>\n",
       "      <td>0.0</td>\n",
       "      <td>1672.997986</td>\n",
       "      <td>52.371239</td>\n",
       "      <td>1.0</td>\n",
       "      <td>69.046879</td>\n",
       "      <td>76.917267</td>\n",
       "      <td>150.246353</td>\n",
       "    </tr>\n",
       "    <tr>\n",
       "      <th>2</th>\n",
       "      <td>2007-02-03</td>\n",
       "      <td>51.247467</td>\n",
       "      <td>78.146263</td>\n",
       "      <td>0.0</td>\n",
       "      <td>5084.182129</td>\n",
       "      <td>14065.431937</td>\n",
       "      <td>127.717811</td>\n",
       "      <td>0.0</td>\n",
       "      <td>1672.997986</td>\n",
       "      <td>52.371239</td>\n",
       "      <td>1.0</td>\n",
       "      <td>69.046879</td>\n",
       "      <td>76.917267</td>\n",
       "      <td>150.246353</td>\n",
       "    </tr>\n",
       "    <tr>\n",
       "      <th>3</th>\n",
       "      <td>2007-02-04</td>\n",
       "      <td>51.247467</td>\n",
       "      <td>78.146263</td>\n",
       "      <td>0.0</td>\n",
       "      <td>5084.182129</td>\n",
       "      <td>14065.431937</td>\n",
       "      <td>127.717811</td>\n",
       "      <td>0.0</td>\n",
       "      <td>1672.997986</td>\n",
       "      <td>52.371239</td>\n",
       "      <td>1.0</td>\n",
       "      <td>69.046879</td>\n",
       "      <td>76.917267</td>\n",
       "      <td>150.246353</td>\n",
       "    </tr>\n",
       "    <tr>\n",
       "      <th>4</th>\n",
       "      <td>2007-02-05</td>\n",
       "      <td>51.247467</td>\n",
       "      <td>78.146263</td>\n",
       "      <td>0.0</td>\n",
       "      <td>5084.182129</td>\n",
       "      <td>14065.431937</td>\n",
       "      <td>127.717811</td>\n",
       "      <td>0.0</td>\n",
       "      <td>1672.997986</td>\n",
       "      <td>52.371239</td>\n",
       "      <td>1.0</td>\n",
       "      <td>69.046879</td>\n",
       "      <td>76.917267</td>\n",
       "      <td>150.246353</td>\n",
       "    </tr>\n",
       "  </tbody>\n",
       "</table>\n",
       "</div>"
      ],
      "text/plain": [
       "        Date        WHT        WHP  Tubing Gradient     Sand Raw  \\\n",
       "0 2007-02-01  51.247467  78.146263              0.0  5084.182129   \n",
       "1 2007-02-02  51.247467  78.146263              0.0  5084.182129   \n",
       "2 2007-02-03  51.247467  78.146263              0.0  5084.182129   \n",
       "3 2007-02-04  51.247467  78.146263              0.0  5084.182129   \n",
       "4 2007-02-05  51.247467  78.146263              0.0  5084.182129   \n",
       "\n",
       "      Qoil MPFM   Qgas MPFM  MPFM WCT  MPFM Venturi dP     MPFM T  \\\n",
       "0  14065.431937  127.717811       0.0      1672.997986  52.371239   \n",
       "1  14065.431937  127.717811       0.0      1672.997986  52.371239   \n",
       "2  14065.431937  127.717811       0.0      1672.997986  52.371239   \n",
       "3  14065.431937  127.717811       0.0      1672.997986  52.371239   \n",
       "4  14065.431937  127.717811       0.0      1672.997986  52.371239   \n",
       "\n",
       "   MPFM CF GOR  Manifold P  Choke Opening   Annulus P  \n",
       "0          1.0   69.046879      76.917267  150.246353  \n",
       "1          1.0   69.046879      76.917267  150.246353  \n",
       "2          1.0   69.046879      76.917267  150.246353  \n",
       "3          1.0   69.046879      76.917267  150.246353  \n",
       "4          1.0   69.046879      76.917267  150.246353  "
      ]
     },
     "execution_count": 16,
     "metadata": {},
     "output_type": "execute_result"
    }
   ],
   "source": [
    "df.head()"
   ]
  },
  {
   "cell_type": "markdown",
   "id": "e829af9a",
   "metadata": {},
   "source": [
    "## Feature selection"
   ]
  },
  {
   "cell_type": "code",
   "execution_count": 17,
   "id": "3112e397",
   "metadata": {},
   "outputs": [],
   "source": [
    "# starting the first model with 4 features only + our Target 'Qoil MPFM':\n",
    "\n",
    "df_f = df[[\"Qoil MPFM\",\"MPFM WCT\", \"Annulus P\", \"MPFM Venturi dP\", \"WHT\", \"WHP\",\"Choke Opening\"]].copy()"
   ]
  },
  {
   "cell_type": "code",
   "execution_count": 18,
   "id": "59b00b24",
   "metadata": {},
   "outputs": [
    {
     "data": {
      "text/plain": [
       "(5813, 7)"
      ]
     },
     "execution_count": 18,
     "metadata": {},
     "output_type": "execute_result"
    }
   ],
   "source": [
    "df_f.shape"
   ]
  },
  {
   "cell_type": "code",
   "execution_count": 324,
   "id": "ed13c057",
   "metadata": {},
   "outputs": [
    {
     "data": {
      "text/html": [
       "<div>\n",
       "<style scoped>\n",
       "    .dataframe tbody tr th:only-of-type {\n",
       "        vertical-align: middle;\n",
       "    }\n",
       "\n",
       "    .dataframe tbody tr th {\n",
       "        vertical-align: top;\n",
       "    }\n",
       "\n",
       "    .dataframe thead th {\n",
       "        text-align: right;\n",
       "    }\n",
       "</style>\n",
       "<table border=\"1\" class=\"dataframe\">\n",
       "  <thead>\n",
       "    <tr style=\"text-align: right;\">\n",
       "      <th></th>\n",
       "      <th>Qoil MPFM</th>\n",
       "      <th>MPFM WCT</th>\n",
       "      <th>Annulus P</th>\n",
       "      <th>MPFM Venturi dP</th>\n",
       "      <th>WHT</th>\n",
       "      <th>WHP</th>\n",
       "      <th>Choke Opening</th>\n",
       "    </tr>\n",
       "  </thead>\n",
       "  <tbody>\n",
       "    <tr>\n",
       "      <th>0</th>\n",
       "      <td>14065.431937</td>\n",
       "      <td>0.000000</td>\n",
       "      <td>150.246353</td>\n",
       "      <td>1672.997986</td>\n",
       "      <td>51.247467</td>\n",
       "      <td>78.146263</td>\n",
       "      <td>76.917267</td>\n",
       "    </tr>\n",
       "    <tr>\n",
       "      <th>1</th>\n",
       "      <td>14065.431937</td>\n",
       "      <td>0.000000</td>\n",
       "      <td>150.246353</td>\n",
       "      <td>1672.997986</td>\n",
       "      <td>51.247467</td>\n",
       "      <td>78.146263</td>\n",
       "      <td>76.917267</td>\n",
       "    </tr>\n",
       "    <tr>\n",
       "      <th>2</th>\n",
       "      <td>14065.431937</td>\n",
       "      <td>0.000000</td>\n",
       "      <td>150.246353</td>\n",
       "      <td>1672.997986</td>\n",
       "      <td>51.247467</td>\n",
       "      <td>78.146263</td>\n",
       "      <td>76.917267</td>\n",
       "    </tr>\n",
       "    <tr>\n",
       "      <th>3</th>\n",
       "      <td>14065.431937</td>\n",
       "      <td>0.000000</td>\n",
       "      <td>150.246353</td>\n",
       "      <td>1672.997986</td>\n",
       "      <td>51.247467</td>\n",
       "      <td>78.146263</td>\n",
       "      <td>76.917267</td>\n",
       "    </tr>\n",
       "    <tr>\n",
       "      <th>4</th>\n",
       "      <td>14065.431937</td>\n",
       "      <td>0.000000</td>\n",
       "      <td>150.246353</td>\n",
       "      <td>1672.997986</td>\n",
       "      <td>51.247467</td>\n",
       "      <td>78.146263</td>\n",
       "      <td>76.917267</td>\n",
       "    </tr>\n",
       "    <tr>\n",
       "      <th>...</th>\n",
       "      <td>...</td>\n",
       "      <td>...</td>\n",
       "      <td>...</td>\n",
       "      <td>...</td>\n",
       "      <td>...</td>\n",
       "      <td>...</td>\n",
       "      <td>...</td>\n",
       "    </tr>\n",
       "    <tr>\n",
       "      <th>5808</th>\n",
       "      <td>10925.670806</td>\n",
       "      <td>66.457010</td>\n",
       "      <td>147.032196</td>\n",
       "      <td>1687.935181</td>\n",
       "      <td>51.966740</td>\n",
       "      <td>65.511459</td>\n",
       "      <td>72.995338</td>\n",
       "    </tr>\n",
       "    <tr>\n",
       "      <th>5809</th>\n",
       "      <td>11142.564473</td>\n",
       "      <td>65.386773</td>\n",
       "      <td>147.082047</td>\n",
       "      <td>1719.284912</td>\n",
       "      <td>51.968021</td>\n",
       "      <td>65.433243</td>\n",
       "      <td>72.484528</td>\n",
       "    </tr>\n",
       "    <tr>\n",
       "      <th>5810</th>\n",
       "      <td>11140.120568</td>\n",
       "      <td>65.647569</td>\n",
       "      <td>147.067032</td>\n",
       "      <td>1742.380127</td>\n",
       "      <td>51.972717</td>\n",
       "      <td>65.115013</td>\n",
       "      <td>73.002724</td>\n",
       "    </tr>\n",
       "    <tr>\n",
       "      <th>5811</th>\n",
       "      <td>11400.139595</td>\n",
       "      <td>64.967486</td>\n",
       "      <td>147.128189</td>\n",
       "      <td>1729.632324</td>\n",
       "      <td>51.982071</td>\n",
       "      <td>64.796227</td>\n",
       "      <td>72.730721</td>\n",
       "    </tr>\n",
       "    <tr>\n",
       "      <th>5812</th>\n",
       "      <td>11193.020395</td>\n",
       "      <td>66.291413</td>\n",
       "      <td>147.015900</td>\n",
       "      <td>1781.585205</td>\n",
       "      <td>51.970646</td>\n",
       "      <td>64.555321</td>\n",
       "      <td>72.835938</td>\n",
       "    </tr>\n",
       "  </tbody>\n",
       "</table>\n",
       "<p>5813 rows × 7 columns</p>\n",
       "</div>"
      ],
      "text/plain": [
       "         Qoil MPFM   MPFM WCT   Annulus P  MPFM Venturi dP        WHT  \\\n",
       "0     14065.431937   0.000000  150.246353      1672.997986  51.247467   \n",
       "1     14065.431937   0.000000  150.246353      1672.997986  51.247467   \n",
       "2     14065.431937   0.000000  150.246353      1672.997986  51.247467   \n",
       "3     14065.431937   0.000000  150.246353      1672.997986  51.247467   \n",
       "4     14065.431937   0.000000  150.246353      1672.997986  51.247467   \n",
       "...            ...        ...         ...              ...        ...   \n",
       "5808  10925.670806  66.457010  147.032196      1687.935181  51.966740   \n",
       "5809  11142.564473  65.386773  147.082047      1719.284912  51.968021   \n",
       "5810  11140.120568  65.647569  147.067032      1742.380127  51.972717   \n",
       "5811  11400.139595  64.967486  147.128189      1729.632324  51.982071   \n",
       "5812  11193.020395  66.291413  147.015900      1781.585205  51.970646   \n",
       "\n",
       "            WHP  Choke Opening  \n",
       "0     78.146263      76.917267  \n",
       "1     78.146263      76.917267  \n",
       "2     78.146263      76.917267  \n",
       "3     78.146263      76.917267  \n",
       "4     78.146263      76.917267  \n",
       "...         ...            ...  \n",
       "5808  65.511459      72.995338  \n",
       "5809  65.433243      72.484528  \n",
       "5810  65.115013      73.002724  \n",
       "5811  64.796227      72.730721  \n",
       "5812  64.555321      72.835938  \n",
       "\n",
       "[5813 rows x 7 columns]"
      ]
     },
     "execution_count": 324,
     "metadata": {},
     "output_type": "execute_result"
    }
   ],
   "source": [
    "df_f"
   ]
  },
  {
   "cell_type": "code",
   "execution_count": 19,
   "id": "13bdc7f5",
   "metadata": {},
   "outputs": [
    {
     "data": {
      "text/html": [
       "<div>\n",
       "<style scoped>\n",
       "    .dataframe tbody tr th:only-of-type {\n",
       "        vertical-align: middle;\n",
       "    }\n",
       "\n",
       "    .dataframe tbody tr th {\n",
       "        vertical-align: top;\n",
       "    }\n",
       "\n",
       "    .dataframe thead th {\n",
       "        text-align: right;\n",
       "    }\n",
       "</style>\n",
       "<table border=\"1\" class=\"dataframe\">\n",
       "  <thead>\n",
       "    <tr style=\"text-align: right;\">\n",
       "      <th></th>\n",
       "      <th>Qoil MPFM</th>\n",
       "      <th>MPFM WCT</th>\n",
       "      <th>Annulus P</th>\n",
       "      <th>MPFM Venturi dP</th>\n",
       "      <th>WHT</th>\n",
       "      <th>WHP</th>\n",
       "      <th>Choke Opening</th>\n",
       "    </tr>\n",
       "  </thead>\n",
       "  <tbody>\n",
       "    <tr>\n",
       "      <th>count</th>\n",
       "      <td>5813.000000</td>\n",
       "      <td>5813.000000</td>\n",
       "      <td>5813.000000</td>\n",
       "      <td>5813.000000</td>\n",
       "      <td>5813.000000</td>\n",
       "      <td>5813.000000</td>\n",
       "      <td>5813.000000</td>\n",
       "    </tr>\n",
       "    <tr>\n",
       "      <th>mean</th>\n",
       "      <td>15655.948879</td>\n",
       "      <td>38.143842</td>\n",
       "      <td>139.765149</td>\n",
       "      <td>2314.415108</td>\n",
       "      <td>48.902811</td>\n",
       "      <td>82.228238</td>\n",
       "      <td>76.908024</td>\n",
       "    </tr>\n",
       "    <tr>\n",
       "      <th>std</th>\n",
       "      <td>8820.271696</td>\n",
       "      <td>24.478523</td>\n",
       "      <td>24.254480</td>\n",
       "      <td>1608.667626</td>\n",
       "      <td>8.115710</td>\n",
       "      <td>18.409271</td>\n",
       "      <td>19.746536</td>\n",
       "    </tr>\n",
       "    <tr>\n",
       "      <th>min</th>\n",
       "      <td>0.000000</td>\n",
       "      <td>-0.605886</td>\n",
       "      <td>18.328125</td>\n",
       "      <td>-17.657236</td>\n",
       "      <td>2.044475</td>\n",
       "      <td>1.013250</td>\n",
       "      <td>-0.251513</td>\n",
       "    </tr>\n",
       "    <tr>\n",
       "      <th>25%</th>\n",
       "      <td>9795.177134</td>\n",
       "      <td>12.084156</td>\n",
       "      <td>114.992844</td>\n",
       "      <td>1045.770996</td>\n",
       "      <td>49.808365</td>\n",
       "      <td>73.542336</td>\n",
       "      <td>71.080894</td>\n",
       "    </tr>\n",
       "    <tr>\n",
       "      <th>50%</th>\n",
       "      <td>14065.431937</td>\n",
       "      <td>49.305413</td>\n",
       "      <td>150.246353</td>\n",
       "      <td>1672.997986</td>\n",
       "      <td>51.247467</td>\n",
       "      <td>78.146263</td>\n",
       "      <td>76.917267</td>\n",
       "    </tr>\n",
       "    <tr>\n",
       "      <th>75%</th>\n",
       "      <td>18393.306228</td>\n",
       "      <td>59.913923</td>\n",
       "      <td>157.666885</td>\n",
       "      <td>3816.651123</td>\n",
       "      <td>51.697182</td>\n",
       "      <td>82.110954</td>\n",
       "      <td>89.220985</td>\n",
       "    </tr>\n",
       "    <tr>\n",
       "      <th>max</th>\n",
       "      <td>49223.595339</td>\n",
       "      <td>91.660984</td>\n",
       "      <td>168.035065</td>\n",
       "      <td>6859.150391</td>\n",
       "      <td>52.393002</td>\n",
       "      <td>216.446396</td>\n",
       "      <td>101.011047</td>\n",
       "    </tr>\n",
       "  </tbody>\n",
       "</table>\n",
       "</div>"
      ],
      "text/plain": [
       "          Qoil MPFM     MPFM WCT    Annulus P  MPFM Venturi dP          WHT  \\\n",
       "count   5813.000000  5813.000000  5813.000000      5813.000000  5813.000000   \n",
       "mean   15655.948879    38.143842   139.765149      2314.415108    48.902811   \n",
       "std     8820.271696    24.478523    24.254480      1608.667626     8.115710   \n",
       "min        0.000000    -0.605886    18.328125       -17.657236     2.044475   \n",
       "25%     9795.177134    12.084156   114.992844      1045.770996    49.808365   \n",
       "50%    14065.431937    49.305413   150.246353      1672.997986    51.247467   \n",
       "75%    18393.306228    59.913923   157.666885      3816.651123    51.697182   \n",
       "max    49223.595339    91.660984   168.035065      6859.150391    52.393002   \n",
       "\n",
       "               WHP  Choke Opening  \n",
       "count  5813.000000    5813.000000  \n",
       "mean     82.228238      76.908024  \n",
       "std      18.409271      19.746536  \n",
       "min       1.013250      -0.251513  \n",
       "25%      73.542336      71.080894  \n",
       "50%      78.146263      76.917267  \n",
       "75%      82.110954      89.220985  \n",
       "max     216.446396     101.011047  "
      ]
     },
     "execution_count": 19,
     "metadata": {},
     "output_type": "execute_result"
    }
   ],
   "source": [
    "df_f.describe()"
   ]
  },
  {
   "cell_type": "markdown",
   "id": "bbc951ce",
   "metadata": {},
   "source": [
    "## Visualizing Time Series"
   ]
  },
  {
   "cell_type": "code",
   "execution_count": 20,
   "id": "210e7901",
   "metadata": {},
   "outputs": [],
   "source": [
    "TARGET = 'Qoil MPFM'\n",
    "N_TARGETS = 1\n",
    "N_FEATURES = df_f.shape[1] - 1"
   ]
  },
  {
   "cell_type": "code",
   "execution_count": 21,
   "id": "534392d8",
   "metadata": {},
   "outputs": [
    {
     "data": {
      "image/png": "[encoded data removed]",
      "text/plain": [
       "<Figure size 640x480 with 7 Axes>"
      ]
     },
     "metadata": {},
     "output_type": "display_data"
    }
   ],
   "source": [
    "plot_cols = [TARGET, \"MPFM WCT\", \"Annulus P\", \"MPFM Venturi dP\", \"WHT\", \"WHP\",\"Choke Opening\"]\n",
    "plot_features = df_f[plot_cols]\n",
    "plot_features.index = df_f.index\n",
    "plot_features.plot(subplots = True);"
   ]
  },
  {
   "cell_type": "code",
   "execution_count": 22,
   "id": "a2f11557",
   "metadata": {
    "scrolled": true
   },
   "outputs": [
    {
     "data": {
      "image/png": "[encoded data removed]",
      "text/plain": [
       "<Figure size 640x480 with 7 Axes>"
      ]
     },
     "metadata": {},
     "output_type": "display_data"
    }
   ],
   "source": [
    "zoomed_slice = slice(2000,3000)\n",
    "\n",
    "plot_features = df_f.loc[zoomed_slice, plot_cols]\n",
    "plot_features.plot(subplots = True);"
   ]
  },
  {
   "cell_type": "markdown",
   "id": "94d863ab",
   "metadata": {},
   "source": [
    "## Preparing the dataset"
   ]
  },
  {
   "cell_type": "code",
   "execution_count": 152,
   "id": "3ca6088b",
   "metadata": {},
   "outputs": [],
   "source": [
    "# --------------------------------------------------- #\n",
    "# Let's consider FOLDS with a length of 3 years       #\n",
    "# (2 years will be used for train, 1 for test!)       #\n",
    "# --------------------------------------------------- #\n",
    "\n",
    "FOLD_LENGTH = 365 * 9 # nine years\n",
    "\n",
    "# --------------------------------------------------- #\n",
    "# Let's consider FOLDS starting every trimester       #\n",
    "# --------------------------------------------------- #\n",
    "    \n",
    "FOLD_STRIDE = 91 # 3 months\n",
    "\n",
    "# --------------------------------------------------- #\n",
    "# Let's consider a train-test-split ratio of 2/3      #\n",
    "# --------------------------------------------------- #\n",
    "\n",
    "TRAIN_TEST_RATIO = 0.66"
   ]
  },
  {
   "cell_type": "code",
   "execution_count": 153,
   "id": "20acb628",
   "metadata": {},
   "outputs": [],
   "source": [
    "def get_folds(\n",
    "    df_f: pd.DataFrame,\n",
    "    fold_length: int,\n",
    "    fold_stride: int) -> list[pd.DataFrame]:\n",
    "    '''\n",
    "    This function slides through the Time Series dataframe of shape (n_timesteps, n_features) to create folds\n",
    "    - of equal `fold_length`\n",
    "    - using `fold_stride` between each fold\n",
    "    \n",
    "    Returns a list of folds, each as a DataFrame\n",
    "    '''\n",
    "    fold_list = []\n",
    "    \n",
    "    \n",
    "    for i in range(0, len(df_f), fold_stride):\n",
    "        if i + fold_length >= len(df_f):\n",
    "            break\n",
    "        fold_list.append(df_f[i:fold_length])\n",
    "    \n",
    "    return fold_list"
   ]
  },
  {
   "cell_type": "code",
   "execution_count": 154,
   "id": "09b2011b",
   "metadata": {},
   "outputs": [
    {
     "name": "stdout",
     "output_type": "stream",
     "text": [
      "The function generated 28 folds.\n",
      "Each fold has a shape equal to (3285, 7).\n"
     ]
    }
   ],
   "source": [
    "folds = get_folds(df_f, FOLD_LENGTH, FOLD_STRIDE)\n",
    "\n",
    "print(f'The function generated {len(folds)} folds.')\n",
    "print(f'Each fold has a shape equal to {folds[0].shape}.')"
   ]
  },
  {
   "cell_type": "markdown",
   "id": "014d8a90",
   "metadata": {},
   "source": [
    "### Temporal Train/Test split"
   ]
  },
  {
   "cell_type": "markdown",
   "id": "6d44f6dd",
   "metadata": {},
   "source": [
    "Let's focus on one fold"
   ]
  },
  {
   "cell_type": "code",
   "execution_count": 155,
   "id": "88584635",
   "metadata": {
    "scrolled": false
   },
   "outputs": [
    {
     "data": {
      "text/html": [
       "<div>\n",
       "<style scoped>\n",
       "    .dataframe tbody tr th:only-of-type {\n",
       "        vertical-align: middle;\n",
       "    }\n",
       "\n",
       "    .dataframe tbody tr th {\n",
       "        vertical-align: top;\n",
       "    }\n",
       "\n",
       "    .dataframe thead th {\n",
       "        text-align: right;\n",
       "    }\n",
       "</style>\n",
       "<table border=\"1\" class=\"dataframe\">\n",
       "  <thead>\n",
       "    <tr style=\"text-align: right;\">\n",
       "      <th></th>\n",
       "      <th>Qoil MPFM</th>\n",
       "      <th>MPFM WCT</th>\n",
       "      <th>Annulus P</th>\n",
       "      <th>MPFM Venturi dP</th>\n",
       "      <th>WHT</th>\n",
       "      <th>WHP</th>\n",
       "      <th>Choke Opening</th>\n",
       "    </tr>\n",
       "  </thead>\n",
       "  <tbody>\n",
       "    <tr>\n",
       "      <th>0</th>\n",
       "      <td>14065.431937</td>\n",
       "      <td>0.000000</td>\n",
       "      <td>150.246353</td>\n",
       "      <td>1672.997986</td>\n",
       "      <td>51.247467</td>\n",
       "      <td>78.146263</td>\n",
       "      <td>76.917267</td>\n",
       "    </tr>\n",
       "    <tr>\n",
       "      <th>1</th>\n",
       "      <td>14065.431937</td>\n",
       "      <td>0.000000</td>\n",
       "      <td>150.246353</td>\n",
       "      <td>1672.997986</td>\n",
       "      <td>51.247467</td>\n",
       "      <td>78.146263</td>\n",
       "      <td>76.917267</td>\n",
       "    </tr>\n",
       "    <tr>\n",
       "      <th>2</th>\n",
       "      <td>14065.431937</td>\n",
       "      <td>0.000000</td>\n",
       "      <td>150.246353</td>\n",
       "      <td>1672.997986</td>\n",
       "      <td>51.247467</td>\n",
       "      <td>78.146263</td>\n",
       "      <td>76.917267</td>\n",
       "    </tr>\n",
       "    <tr>\n",
       "      <th>3</th>\n",
       "      <td>14065.431937</td>\n",
       "      <td>0.000000</td>\n",
       "      <td>150.246353</td>\n",
       "      <td>1672.997986</td>\n",
       "      <td>51.247467</td>\n",
       "      <td>78.146263</td>\n",
       "      <td>76.917267</td>\n",
       "    </tr>\n",
       "    <tr>\n",
       "      <th>4</th>\n",
       "      <td>14065.431937</td>\n",
       "      <td>0.000000</td>\n",
       "      <td>150.246353</td>\n",
       "      <td>1672.997986</td>\n",
       "      <td>51.247467</td>\n",
       "      <td>78.146263</td>\n",
       "      <td>76.917267</td>\n",
       "    </tr>\n",
       "    <tr>\n",
       "      <th>...</th>\n",
       "      <td>...</td>\n",
       "      <td>...</td>\n",
       "      <td>...</td>\n",
       "      <td>...</td>\n",
       "      <td>...</td>\n",
       "      <td>...</td>\n",
       "      <td>...</td>\n",
       "    </tr>\n",
       "    <tr>\n",
       "      <th>3280</th>\n",
       "      <td>13847.190782</td>\n",
       "      <td>53.188693</td>\n",
       "      <td>164.850006</td>\n",
       "      <td>1765.942017</td>\n",
       "      <td>51.658119</td>\n",
       "      <td>65.955971</td>\n",
       "      <td>100.092194</td>\n",
       "    </tr>\n",
       "    <tr>\n",
       "      <th>3281</th>\n",
       "      <td>13805.912747</td>\n",
       "      <td>53.813445</td>\n",
       "      <td>164.846222</td>\n",
       "      <td>1798.200317</td>\n",
       "      <td>51.588806</td>\n",
       "      <td>66.075676</td>\n",
       "      <td>100.254662</td>\n",
       "    </tr>\n",
       "    <tr>\n",
       "      <th>3282</th>\n",
       "      <td>14022.647480</td>\n",
       "      <td>52.981063</td>\n",
       "      <td>164.897873</td>\n",
       "      <td>1781.037720</td>\n",
       "      <td>51.621613</td>\n",
       "      <td>66.310822</td>\n",
       "      <td>100.330078</td>\n",
       "    </tr>\n",
       "    <tr>\n",
       "      <th>3283</th>\n",
       "      <td>13517.461733</td>\n",
       "      <td>54.374691</td>\n",
       "      <td>164.915909</td>\n",
       "      <td>1801.078979</td>\n",
       "      <td>51.593250</td>\n",
       "      <td>66.022469</td>\n",
       "      <td>100.383385</td>\n",
       "    </tr>\n",
       "    <tr>\n",
       "      <th>3284</th>\n",
       "      <td>13516.534616</td>\n",
       "      <td>54.401902</td>\n",
       "      <td>164.873734</td>\n",
       "      <td>1771.275757</td>\n",
       "      <td>51.621525</td>\n",
       "      <td>66.165459</td>\n",
       "      <td>100.210716</td>\n",
       "    </tr>\n",
       "  </tbody>\n",
       "</table>\n",
       "<p>3285 rows × 7 columns</p>\n",
       "</div>"
      ],
      "text/plain": [
       "         Qoil MPFM   MPFM WCT   Annulus P  MPFM Venturi dP        WHT  \\\n",
       "0     14065.431937   0.000000  150.246353      1672.997986  51.247467   \n",
       "1     14065.431937   0.000000  150.246353      1672.997986  51.247467   \n",
       "2     14065.431937   0.000000  150.246353      1672.997986  51.247467   \n",
       "3     14065.431937   0.000000  150.246353      1672.997986  51.247467   \n",
       "4     14065.431937   0.000000  150.246353      1672.997986  51.247467   \n",
       "...            ...        ...         ...              ...        ...   \n",
       "3280  13847.190782  53.188693  164.850006      1765.942017  51.658119   \n",
       "3281  13805.912747  53.813445  164.846222      1798.200317  51.588806   \n",
       "3282  14022.647480  52.981063  164.897873      1781.037720  51.621613   \n",
       "3283  13517.461733  54.374691  164.915909      1801.078979  51.593250   \n",
       "3284  13516.534616  54.401902  164.873734      1771.275757  51.621525   \n",
       "\n",
       "            WHP  Choke Opening  \n",
       "0     78.146263      76.917267  \n",
       "1     78.146263      76.917267  \n",
       "2     78.146263      76.917267  \n",
       "3     78.146263      76.917267  \n",
       "4     78.146263      76.917267  \n",
       "...         ...            ...  \n",
       "3280  65.955971     100.092194  \n",
       "3281  66.075676     100.254662  \n",
       "3282  66.310822     100.330078  \n",
       "3283  66.022469     100.383385  \n",
       "3284  66.165459     100.210716  \n",
       "\n",
       "[3285 rows x 7 columns]"
      ]
     },
     "execution_count": 155,
     "metadata": {},
     "output_type": "execute_result"
    }
   ],
   "source": [
    "fold = folds[0]\n",
    "fold"
   ]
  },
  {
   "cell_type": "markdown",
   "id": "69a6a126",
   "metadata": {},
   "source": [
    "☝️ We want to split this fold chronologically into:\n",
    "\n",
    "- train dataframe\n",
    "- test dataframe\n",
    "\n",
    "that will contain all the data we need to be able to sample many (X_i, y_i) pairs in each dataframe in a next step!\n",
    "\n",
    "The INPUT_LENGTH of each X_i is going to be equal to 2 weeks (*but we can change it*)"
   ]
  },
  {
   "cell_type": "code",
   "execution_count": 188,
   "id": "29ef7feb",
   "metadata": {},
   "outputs": [],
   "source": [
    "INPUT_LENGTH = 14 # two weeks"
   ]
  },
  {
   "cell_type": "code",
   "execution_count": 189,
   "id": "837b76e0",
   "metadata": {},
   "outputs": [],
   "source": [
    "def train_test_split(fold:pd.DataFrame,\n",
    "                     train_test_ratio: float,\n",
    "                     input_length: int) -> tuple[pd.DataFrame]:\n",
    "    '''\n",
    "    Returns a train dataframe and a test dataframe (fold_train, fold_test)\n",
    "    from which one can sample (X,y) sequences.\n",
    "    df_train should contain all the timesteps until round(train_test_ratio * len(fold))   \n",
    "    '''\n",
    "    # TRAIN SET\n",
    "    # ======================\n",
    "    last_train_idx = round(train_test_ratio * len(fold))\n",
    "    fold_train = fold.iloc[0:last_train_idx, :]\n",
    "\n",
    "    # TEST SET\n",
    "    # ======================    \n",
    "    first_test_idx = last_train_idx - input_length\n",
    "    fold_test = fold.iloc[first_test_idx:, :]\n",
    "\n",
    "    return (fold_train, fold_test)"
   ]
  },
  {
   "cell_type": "code",
   "execution_count": 190,
   "id": "d85cc60c",
   "metadata": {},
   "outputs": [],
   "source": [
    "(fold_train, fold_test) = train_test_split(fold, TRAIN_TEST_RATIO, INPUT_LENGTH)"
   ]
  },
  {
   "cell_type": "code",
   "execution_count": 191,
   "id": "d157f6c7",
   "metadata": {
    "scrolled": true
   },
   "outputs": [
    {
     "name": "stdout",
     "output_type": "stream",
     "text": [
      "Each fold has a shape equal to (3285, 7).\n",
      "Each fold_train has a shape equal to (2168, 7).\n",
      "Each fold_test has a shape equal to (1131, 7).\n"
     ]
    }
   ],
   "source": [
    "print(f'Each fold has a shape equal to {fold.shape}.')\n",
    "print(f'Each fold_train has a shape equal to {fold_train.shape}.')\n",
    "print(f'Each fold_test has a shape equal to {fold_test.shape}.')"
   ]
  },
  {
   "cell_type": "markdown",
   "id": "566bfbbe",
   "metadata": {},
   "source": [
    "### Create (X, y) sequences"
   ]
  },
  {
   "cell_type": "markdown",
   "id": "56dfd93b",
   "metadata": {},
   "source": [
    "Now that we have splitted our fold into a train set and a test set, it is time to:\n",
    "\n",
    "- sample lots of sequences (Xi,yi) on which the model will be trained\n",
    "- sample lots of sequences (Xi,yi)on which the model will be evaluated"
   ]
  },
  {
   "cell_type": "markdown",
   "id": "ab8f6b77",
   "metadata": {},
   "source": [
    "Our goal is to create 3D-arrays (X_train, y_train) and (X_test, y_test) containing all the SEQUENCES we need from this fold:\n",
    "\n",
    "- X_train.shape = (n_samples_train, input_length, n_features)\n",
    "- y_train.shape = (n_samples_train, output_length, n_targets)"
   ]
  },
  {
   "cell_type": "code",
   "execution_count": 192,
   "id": "06d378bc",
   "metadata": {},
   "outputs": [
    {
     "name": "stdout",
     "output_type": "stream",
     "text": [
      "N_FEATURES = 6\n",
      "INPUT_LENGTH = 14 days = 2 weeks\n"
     ]
    }
   ],
   "source": [
    "# INPUT X\n",
    "print(f'N_FEATURES = {N_FEATURES}')\n",
    "print(f'INPUT_LENGTH = {INPUT_LENGTH} days = {int(INPUT_LENGTH/7)} weeks')"
   ]
  },
  {
   "cell_type": "markdown",
   "id": "12c8d8c9",
   "metadata": {},
   "source": [
    "X is the input of our model.\n",
    "\n",
    "- It contains 7 features: the past values of the target + 6 past-covariates\n",
    "- Each sequence has a length equal to 2 weeks"
   ]
  },
  {
   "cell_type": "code",
   "execution_count": 193,
   "id": "28b000c9",
   "metadata": {},
   "outputs": [
    {
     "name": "stdout",
     "output_type": "stream",
     "text": [
      "N_TARGETS = 1\n",
      "OUTPUT_LENGTH = 1\n"
     ]
    }
   ],
   "source": [
    "# TARGET Y\n",
    "print(f'N_TARGETS = {N_TARGETS}')\n",
    "\n",
    "# Let's only predict 1 value ahead of us\n",
    "OUTPUT_LENGTH = 1\n",
    "print(f'OUTPUT_LENGTH = {OUTPUT_LENGTH}')"
   ]
  },
  {
   "cell_type": "markdown",
   "id": "bddff8a7",
   "metadata": {},
   "source": [
    "y is the target that we want to predict\n",
    "\n",
    "- It is the value at the single next timestep (= next day)\n",
    " - We could also predict OUTPUT_LENGTH > 1, i.e several values in the future (2, 3 days later,...) but let's keep it simple here and just try to predict the next point (next day)"
   ]
  },
  {
   "cell_type": "markdown",
   "id": "0218f766",
   "metadata": {},
   "source": [
    "### Creating the (X,y) sequences by random sampling in each fold"
   ]
  },
  {
   "cell_type": "markdown",
   "id": "158fba71",
   "metadata": {},
   "source": [
    "Generating one random sequence"
   ]
  },
  {
   "cell_type": "code",
   "execution_count": 194,
   "id": "84603c98",
   "metadata": {},
   "outputs": [],
   "source": [
    "def get_Xi_yi(\n",
    "    fold:pd.DataFrame, \n",
    "    input_length:int, \n",
    "    output_length:int):\n",
    "    '''\n",
    "    - given a fold, it returns one sequence (X_i, y_i)\n",
    "    - with the starting point of the sequence being chosen at random\n",
    "    '''\n",
    "    first_possible_start = 0\n",
    "    last_possible_start = len(fold) - (input_length + output_length) + 1\n",
    "    random_start = np.random.randint(first_possible_start, last_possible_start)\n",
    "    X_i = fold.iloc[random_start:random_start+input_length]    \n",
    "    y_i = fold.iloc[random_start+input_length:\n",
    "                  random_start+input_length+output_length][[TARGET]]\n",
    "    \n",
    "    return (X_i, y_i)"
   ]
  },
  {
   "cell_type": "code",
   "execution_count": 195,
   "id": "7cbe02d8",
   "metadata": {},
   "outputs": [],
   "source": [
    "X_train_i, y_train_i = get_Xi_yi(fold_train, INPUT_LENGTH, OUTPUT_LENGTH)\n",
    "X_test_i, y_test_i = get_Xi_yi(fold_test, INPUT_LENGTH, OUTPUT_LENGTH)"
   ]
  },
  {
   "cell_type": "code",
   "execution_count": 196,
   "id": "c68a7b71",
   "metadata": {},
   "outputs": [
    {
     "data": {
      "text/plain": [
       "(14, 7)"
      ]
     },
     "execution_count": 196,
     "metadata": {},
     "output_type": "execute_result"
    }
   ],
   "source": [
    "X_train_i.shape"
   ]
  },
  {
   "cell_type": "code",
   "execution_count": 197,
   "id": "6c6fc4bf",
   "metadata": {},
   "outputs": [],
   "source": [
    "# Advanced check \n",
    "# You should not allow some truncated (X_i,y_i) pairs to be generating,\n",
    "# should you start sampling too close from the end of the fold... !\n",
    "\n",
    "X_last, y_last = get_Xi_yi(fold_test, input_length=len(fold_test)-1, output_length=OUTPUT_LENGTH)\n",
    "assert y_last.values == fold_test.iloc[-1,:][TARGET]"
   ]
  },
  {
   "cell_type": "markdown",
   "id": "73b8ad69",
   "metadata": {},
   "source": [
    "Generating multiple random sequence"
   ]
  },
  {
   "cell_type": "code",
   "execution_count": 198,
   "id": "e9a544b5",
   "metadata": {},
   "outputs": [],
   "source": [
    "SEQUENCE_STRIDE = 1 #temporal stride of 1 day"
   ]
  },
  {
   "cell_type": "code",
   "execution_count": 199,
   "id": "f6cf9c83",
   "metadata": {},
   "outputs": [],
   "source": [
    "def get_X_y_strides(fold: pd.DataFrame, input_length: int, output_length: int, sequence_stride: int):\n",
    "    '''\n",
    "    - slides through a `fold` Time Series (2D array) to create sequences of equal\n",
    "        * `input_length` for X,\n",
    "        * `output_length` for y,\n",
    "    using a temporal gap `sequence_stride` between each sequence\n",
    "    - returns a list of sequences, each as a 2D-array time series\n",
    "    '''\n",
    "\n",
    "    X, y = [], []\n",
    "\n",
    "    for i in range(0, len(fold), sequence_stride):\n",
    "        # Exits the loop as soon as the last fold index would exceed the last index\n",
    "        if (i + input_length + output_length) >= len(fold):\n",
    "            break\n",
    "        X_i = fold.iloc[i:i + input_length, :]\n",
    "        y_i = fold.iloc[i + input_length:i + input_length + output_length, :][[TARGET]]\n",
    "        X.append(X_i)\n",
    "        y.append(y_i)\n",
    "\n",
    "    return np.array(X), np.array(y)"
   ]
  },
  {
   "cell_type": "code",
   "execution_count": 200,
   "id": "d59fb510",
   "metadata": {},
   "outputs": [
    {
     "name": "stdout",
     "output_type": "stream",
     "text": [
      "FOLD_LENGTH\n",
      "= 3285 days\n",
      "= 469 weeks\n"
     ]
    }
   ],
   "source": [
    "print(\"FOLD_LENGTH\") \n",
    "print(f\"= {int(FOLD_LENGTH)} days\")\n",
    "print(f\"= {int(FOLD_LENGTH/7)} weeks\")"
   ]
  },
  {
   "cell_type": "code",
   "execution_count": 201,
   "id": "1273154f",
   "metadata": {},
   "outputs": [
    {
     "name": "stdout",
     "output_type": "stream",
     "text": [
      "(2153, 14, 7)\n",
      "(2153, 1, 1)\n"
     ]
    }
   ],
   "source": [
    "X_train, y_train = get_X_y_strides(fold_train, INPUT_LENGTH, OUTPUT_LENGTH, SEQUENCE_STRIDE)\n",
    "X_test, y_test = get_X_y_strides(fold_test, INPUT_LENGTH, OUTPUT_LENGTH, SEQUENCE_STRIDE)\n",
    "\n",
    "print(X_train.shape)\n",
    "print(y_train.shape)"
   ]
  },
  {
   "cell_type": "markdown",
   "id": "13a3c781",
   "metadata": {},
   "source": [
    "## DL Modeling"
   ]
  },
  {
   "cell_type": "markdown",
   "id": "54a7da63",
   "metadata": {},
   "source": [
    "### Baseline Model : predict the \"last seen value\" to compare with our LSTM"
   ]
  },
  {
   "cell_type": "code",
   "execution_count": 202,
   "id": "b414afdf",
   "metadata": {},
   "outputs": [],
   "source": [
    "from tensorflow.keras.layers import Lambda\n",
    "from tensorflow.keras import models\n",
    "from tensorflow.keras import models\n",
    "from tensorflow.keras import layers\n",
    "from tensorflow.keras import optimizers, metrics\n",
    "from tensorflow.keras.regularizers import L1L2\n",
    "from tensorflow.keras.layers import Normalization\n",
    "\n",
    "def init_baseline():\n",
    "\n",
    "    model = models.Sequential()\n",
    "    model.add(layers.Lambda(lambda x: x[:,-1,1,None]))\n",
    "\n",
    "    adam = optimizers.Adam(learning_rate=0.02)\n",
    "    model.compile(loss='mse', optimizer=adam, metrics=[\"mae\"])\n",
    "\n",
    "    return model"
   ]
  },
  {
   "cell_type": "code",
   "execution_count": 203,
   "id": "94ef7a01",
   "metadata": {},
   "outputs": [
    {
     "name": "stdout",
     "output_type": "stream",
     "text": [
      "35/35 [==============================] - 0s 4ms/step - loss: 240270608.0000 - mae: 14995.3125\n",
      "- The Baseline MAE on the test set is equal to 14995.3125 barrels\n"
     ]
    }
   ],
   "source": [
    "baseline_model = init_baseline()\n",
    "baseline_score = baseline_model.evaluate(X_test, y_test)\n",
    "print(f\"- The Baseline MAE on the test set is equal to {baseline_score[1]} barrels\")"
   ]
  },
  {
   "cell_type": "markdown",
   "id": "89178522",
   "metadata": {},
   "source": [
    "### RNN : the LSTM"
   ]
  },
  {
   "cell_type": "code",
   "execution_count": 204,
   "id": "20e5146d",
   "metadata": {},
   "outputs": [],
   "source": [
    "def plot_history(history):\n",
    "    \n",
    "    fig, ax = plt.subplots(1,2, figsize=(20,7))\n",
    "    # --- LOSS: MSE --- \n",
    "    ax[0].plot(history.history['loss'])\n",
    "    ax[0].plot(history.history['val_loss'])\n",
    "    ax[0].set_title('MSE')\n",
    "    ax[0].set_ylabel('Loss')\n",
    "    ax[0].set_xlabel('Epoch')\n",
    "    ax[0].legend(['Train', 'Validation'], loc='best')\n",
    "    ax[0].grid(axis=\"x\",linewidth=0.5)\n",
    "    ax[0].grid(axis=\"y\",linewidth=0.5)\n",
    "    \n",
    "    # --- METRICS:MAE ---\n",
    "    \n",
    "    ax[1].plot(history.history['mae'])\n",
    "    ax[1].plot(history.history['val_mae'])\n",
    "    ax[1].set_title('MAE')\n",
    "    ax[1].set_ylabel('MAE')\n",
    "    ax[1].set_xlabel('Epoch')\n",
    "    ax[1].legend(['Train', 'Validation'], loc='best')\n",
    "    ax[1].grid(axis=\"x\",linewidth=0.5)\n",
    "    ax[1].grid(axis=\"y\",linewidth=0.5)\n",
    "                        \n",
    "    return ax"
   ]
  },
  {
   "cell_type": "code",
   "execution_count": 279,
   "id": "ec8e2506",
   "metadata": {},
   "outputs": [],
   "source": [
    "def init_model(X_train, y_train):\n",
    "    \n",
    "    # 0 - Normalization\n",
    "    # ======================    \n",
    "    normalizer = Normalization()\n",
    "    normalizer.adapt(X_train)\n",
    "    \n",
    "    # 1 - RNN architecture\n",
    "    # ======================    \n",
    "    model = models.Sequential()\n",
    "    ## 1.0 - All the rows will be standardized through the already adapted normalization layer\n",
    "    model.add(normalizer)\n",
    "    ## 1.1 - Recurrent Layer\n",
    "    model.add(layers.LSTM(256, \n",
    "                          activation='tanh', \n",
    "                          return_sequences = False,\n",
    "                          kernel_regularizer=L1L2(l1=0.05, l2=0.05),\n",
    "                          ))\n",
    "    ## 1.2 - Predictive Dense Layers\n",
    "    output_length = y_train.shape[1]\n",
    "    model.add(layers.Dense(output_length, activation='linear'))\n",
    "\n",
    "    # 2 - Compiler\n",
    "    # ======================    \n",
    "    adam = optimizers.Adam(learning_rate=0.02)    \n",
    "    model.compile(loss='mse', optimizer=adam, metrics=[\"mae\"])\n",
    "    \n",
    "    return model"
   ]
  },
  {
   "cell_type": "code",
   "execution_count": 280,
   "id": "5a297b18",
   "metadata": {
    "scrolled": true
   },
   "outputs": [
    {
     "name": "stdout",
     "output_type": "stream",
     "text": [
      "Model: \"sequential_34\"\n",
      "_________________________________________________________________\n",
      " Layer (type)                Output Shape              Param #   \n",
      "=================================================================\n",
      " normalization_23 (Normaliza  (None, None, 7)          15        \n",
      " tion)                                                           \n",
      "                                                                 \n",
      " lstm_23 (LSTM)              (None, 256)               270336    \n",
      "                                                                 \n",
      " dense_23 (Dense)            (None, 1)                 257       \n",
      "                                                                 \n",
      "=================================================================\n",
      "Total params: 270,608\n",
      "Trainable params: 270,593\n",
      "Non-trainable params: 15\n",
      "_________________________________________________________________\n"
     ]
    }
   ],
   "source": [
    "model = init_model(X_train, y_train)\n",
    "model.summary()"
   ]
  },
  {
   "cell_type": "code",
   "execution_count": 282,
   "id": "21da9e57",
   "metadata": {},
   "outputs": [],
   "source": [
    "from tensorflow.keras.callbacks import EarlyStopping\n",
    "from typing import Dict, List, Tuple, Sequence\n",
    "\n",
    "def fit_model(model: tf.keras.Model, verbose=1) -> Tuple[tf.keras.Model, dict]:\n",
    "\n",
    "    es = EarlyStopping(monitor = \"val_loss\",\n",
    "                      patience = 5,\n",
    "                      mode = \"min\",\n",
    "                      restore_best_weights = True)\n",
    "\n",
    "\n",
    "    history = model.fit(X_train, y_train,\n",
    "                        validation_split = 0.3,\n",
    "                        shuffle = False,\n",
    "                        batch_size = 16,\n",
    "                        epochs = 120,\n",
    "                        callbacks = [es],\n",
    "                        verbose = verbose)\n",
    "\n",
    "    return model, history"
   ]
  },
  {
   "cell_type": "code",
   "execution_count": 283,
   "id": "45bbe3b7",
   "metadata": {
    "scrolled": false
   },
   "outputs": [
    {
     "name": "stdout",
     "output_type": "stream",
     "text": [
      "Model: \"sequential_35\"\n",
      "_________________________________________________________________\n",
      " Layer (type)                Output Shape              Param #   \n",
      "=================================================================\n",
      " normalization_24 (Normaliza  (None, None, 7)          15        \n",
      " tion)                                                           \n",
      "                                                                 \n",
      " lstm_24 (LSTM)              (None, 256)               270336    \n",
      "                                                                 \n",
      " dense_24 (Dense)            (None, 1)                 257       \n",
      "                                                                 \n",
      "=================================================================\n",
      "Total params: 270,608\n",
      "Trainable params: 270,593\n",
      "Non-trainable params: 15\n",
      "_________________________________________________________________\n",
      "Epoch 1/120\n",
      "95/95 [==============================] - 7s 40ms/step - loss: 775989632.0000 - mae: 26167.0312 - val_loss: 269479136.0000 - val_mae: 15765.0264\n",
      "Epoch 2/120\n",
      "95/95 [==============================] - 3s 37ms/step - loss: 760773312.0000 - mae: 25896.2598 - val_loss: 260080736.0000 - val_mae: 15498.8672\n",
      "Epoch 3/120\n",
      "95/95 [==============================] - 3s 36ms/step - loss: 745217664.0000 - mae: 25617.1094 - val_loss: 250745424.0000 - val_mae: 15229.3076\n",
      "Epoch 4/120\n",
      "95/95 [==============================] - 3s 34ms/step - loss: 729638080.0000 - mae: 25334.5801 - val_loss: 241578480.0000 - val_mae: 14959.2148\n",
      "Epoch 5/120\n",
      "95/95 [==============================] - 4s 37ms/step - loss: 714342336.0000 - mae: 25054.1680 - val_loss: 232679024.0000 - val_mae: 14692.9941\n",
      "Epoch 6/120\n",
      "95/95 [==============================] - 4s 37ms/step - loss: 699341056.0000 - mae: 24776.0840 - val_loss: 224017968.0000 - val_mae: 14429.5918\n",
      "Epoch 7/120\n",
      "95/95 [==============================] - 3s 33ms/step - loss: 684611520.0000 - mae: 24499.9062 - val_loss: 215587744.0000 - val_mae: 14167.9463\n",
      "Epoch 8/120\n",
      "95/95 [==============================] - 3s 34ms/step - loss: 670145856.0000 - mae: 24225.5547 - val_loss: 207383568.0000 - val_mae: 13907.7852\n",
      "Epoch 9/120\n",
      "95/95 [==============================] - 3s 34ms/step - loss: 655938560.0000 - mae: 23952.7480 - val_loss: 199401472.0000 - val_mae: 13649.9609\n",
      "Epoch 10/120\n",
      "95/95 [==============================] - 3s 34ms/step - loss: 641985536.0000 - mae: 23681.4492 - val_loss: 191637616.0000 - val_mae: 13393.7695\n",
      "Epoch 11/120\n",
      "95/95 [==============================] - 3s 36ms/step - loss: 628282816.0000 - mae: 23411.9355 - val_loss: 184088448.0000 - val_mae: 13139.7646\n",
      "Epoch 12/120\n",
      "95/95 [==============================] - 3s 36ms/step - loss: 614753408.0000 - mae: 23142.2324 - val_loss: 176622592.0000 - val_mae: 12883.5508\n",
      "Epoch 13/120\n",
      "95/95 [==============================] - 3s 33ms/step - loss: 601280256.0000 - mae: 22870.6973 - val_loss: 169385072.0000 - val_mae: 12629.1963\n",
      "Epoch 14/120\n",
      "95/95 [==============================] - 3s 34ms/step - loss: 588210880.0000 - mae: 22605.4414 - val_loss: 164724848.0000 - val_mae: 12402.5410\n",
      "Epoch 15/120\n",
      "95/95 [==============================] - 3s 35ms/step - loss: 613219072.0000 - mae: 23098.1309 - val_loss: 172791504.0000 - val_mae: 12747.0166\n",
      "Epoch 16/120\n",
      "95/95 [==============================] - 3s 33ms/step - loss: 590803008.0000 - mae: 22651.7695 - val_loss: 164372960.0000 - val_mae: 12446.5430\n",
      "Epoch 17/120\n",
      "95/95 [==============================] - 4s 37ms/step - loss: 575234944.0000 - mae: 22331.9629 - val_loss: 156258832.0000 - val_mae: 12147.5576\n",
      "Epoch 18/120\n",
      "95/95 [==============================] - 3s 35ms/step - loss: 560820992.0000 - mae: 22029.6367 - val_loss: 148971552.0000 - val_mae: 11872.1953\n",
      "Epoch 19/120\n",
      "95/95 [==============================] - 3s 34ms/step - loss: 547190144.0000 - mae: 21741.9727 - val_loss: 142195488.0000 - val_mae: 11606.3691\n",
      "Epoch 20/120\n",
      "95/95 [==============================] - 4s 38ms/step - loss: 533816800.0000 - mae: 21451.1367 - val_loss: 135670912.0000 - val_mae: 11344.5957\n",
      "Epoch 21/120\n",
      "95/95 [==============================] - 3s 34ms/step - loss: 520967328.0000 - mae: 21170.0762 - val_loss: 129400008.0000 - val_mae: 11087.9111\n",
      "Epoch 22/120\n",
      "95/95 [==============================] - 3s 32ms/step - loss: 508444160.0000 - mae: 20888.4395 - val_loss: 123735544.0000 - val_mae: 10844.2480\n",
      "Epoch 23/120\n",
      "95/95 [==============================] - 4s 37ms/step - loss: 496251200.0000 - mae: 20612.4961 - val_loss: 117477312.0000 - val_mae: 10578.7402\n",
      "Epoch 24/120\n",
      "95/95 [==============================] - 4s 39ms/step - loss: 484389888.0000 - mae: 20344.1836 - val_loss: 111843232.0000 - val_mae: 10325.8984\n",
      "Epoch 25/120\n",
      "95/95 [==============================] - 3s 34ms/step - loss: 472247808.0000 - mae: 20069.5801 - val_loss: 105953600.0000 - val_mae: 10057.0166\n",
      "Epoch 26/120\n",
      "95/95 [==============================] - 3s 36ms/step - loss: 460974272.0000 - mae: 19806.5000 - val_loss: 100804552.0000 - val_mae: 9813.9424\n",
      "Epoch 27/120\n",
      "95/95 [==============================] - 3s 35ms/step - loss: 449633408.0000 - mae: 19538.1348 - val_loss: 95697392.0000 - val_mae: 9563.6582\n",
      "Epoch 28/120\n",
      "95/95 [==============================] - 3s 33ms/step - loss: 438804096.0000 - mae: 19278.0781 - val_loss: 90977000.0000 - val_mae: 9324.1514\n",
      "Epoch 29/120\n",
      "95/95 [==============================] - 4s 38ms/step - loss: 428297472.0000 - mae: 19022.1465 - val_loss: 86433464.0000 - val_mae: 9085.6943\n",
      "Epoch 30/120\n",
      "95/95 [==============================] - 3s 36ms/step - loss: 418021088.0000 - mae: 18768.1816 - val_loss: 82082760.0000 - val_mae: 8849.5244\n",
      "Epoch 31/120\n",
      "95/95 [==============================] - 4s 37ms/step - loss: 407970656.0000 - mae: 18515.8652 - val_loss: 77889032.0000 - val_mae: 8613.4863\n",
      "Epoch 32/120\n",
      "95/95 [==============================] - 3s 33ms/step - loss: 398145088.0000 - mae: 18266.0156 - val_loss: 73949440.0000 - val_mae: 8382.9648\n",
      "Epoch 33/120\n",
      "95/95 [==============================] - 4s 38ms/step - loss: 388595520.0000 - mae: 18021.9688 - val_loss: 72596904.0000 - val_mae: 8296.3828\n",
      "Epoch 34/120\n",
      "95/95 [==============================] - 3s 35ms/step - loss: 382468672.0000 - mae: 17858.8379 - val_loss: 68062160.0000 - val_mae: 8020.2881\n",
      "Epoch 35/120\n",
      "95/95 [==============================] - 4s 41ms/step - loss: 373249888.0000 - mae: 17619.2812 - val_loss: 80377128.0000 - val_mae: 8641.9365\n",
      "Epoch 36/120\n",
      "95/95 [==============================] - 3s 31ms/step - loss: 362357056.0000 - mae: 17324.6621 - val_loss: 62674640.0000 - val_mae: 7675.5967\n",
      "Epoch 37/120\n",
      "95/95 [==============================] - 3s 29ms/step - loss: 358136288.0000 - mae: 17203.1367 - val_loss: 60672388.0000 - val_mae: 7531.7974\n",
      "Epoch 38/120\n",
      "95/95 [==============================] - 3s 26ms/step - loss: 348940960.0000 - mae: 16948.0898 - val_loss: 55237236.0000 - val_mae: 7157.5234\n",
      "Epoch 39/120\n",
      "95/95 [==============================] - 3s 31ms/step - loss: 338900352.0000 - mae: 16665.3105 - val_loss: 51891276.0000 - val_mae: 6911.7964\n",
      "Epoch 40/120\n",
      "95/95 [==============================] - 3s 36ms/step - loss: 332814976.0000 - mae: 16478.6777 - val_loss: 49304840.0000 - val_mae: 6722.5015\n",
      "Epoch 41/120\n",
      "95/95 [==============================] - 3s 35ms/step - loss: 324164160.0000 - mae: 16246.5703 - val_loss: 47003996.0000 - val_mae: 6547.3599\n",
      "Epoch 42/120\n",
      "95/95 [==============================] - 4s 39ms/step - loss: 319330912.0000 - mae: 16096.5186 - val_loss: 47259324.0000 - val_mae: 6380.5117\n",
      "Epoch 43/120\n",
      "95/95 [==============================] - 3s 32ms/step - loss: 307637024.0000 - mae: 15726.4043 - val_loss: 40906880.0000 - val_mae: 5979.9268\n",
      "Epoch 44/120\n",
      "95/95 [==============================] - 4s 37ms/step - loss: 299129792.0000 - mae: 15449.9229 - val_loss: 41401440.0000 - val_mae: 6000.1650\n",
      "Epoch 45/120\n",
      "95/95 [==============================] - 4s 38ms/step - loss: 291138944.0000 - mae: 15224.0449 - val_loss: 41547280.0000 - val_mae: 5886.8633\n",
      "Epoch 46/120\n",
      "95/95 [==============================] - 3s 34ms/step - loss: 283677280.0000 - mae: 14975.0068 - val_loss: 36808092.0000 - val_mae: 5539.8672\n",
      "Epoch 47/120\n",
      "95/95 [==============================] - 3s 36ms/step - loss: 276168672.0000 - mae: 14749.3057 - val_loss: 33935592.0000 - val_mae: 5292.0981\n"
     ]
    },
    {
     "name": "stdout",
     "output_type": "stream",
     "text": [
      "Epoch 48/120\n",
      "95/95 [==============================] - 3s 35ms/step - loss: 268771776.0000 - mae: 14506.4062 - val_loss: 31062324.0000 - val_mae: 4987.3843\n",
      "Epoch 49/120\n",
      "95/95 [==============================] - 3s 35ms/step - loss: 261834736.0000 - mae: 14272.5742 - val_loss: 28405320.0000 - val_mae: 4731.7827\n",
      "Epoch 50/120\n",
      "95/95 [==============================] - 3s 35ms/step - loss: 256353008.0000 - mae: 14088.2393 - val_loss: 26991404.0000 - val_mae: 4501.7524\n",
      "Epoch 51/120\n",
      "95/95 [==============================] - 3s 34ms/step - loss: 249454608.0000 - mae: 13856.5127 - val_loss: 26449644.0000 - val_mae: 4390.7671\n",
      "Epoch 52/120\n",
      "95/95 [==============================] - 3s 34ms/step - loss: 241679456.0000 - mae: 13593.6191 - val_loss: 27935006.0000 - val_mae: 4478.0439\n",
      "Epoch 53/120\n",
      "95/95 [==============================] - 3s 32ms/step - loss: 234944928.0000 - mae: 13397.6562 - val_loss: 32403478.0000 - val_mae: 4522.0571\n",
      "Epoch 54/120\n",
      "95/95 [==============================] - 2s 24ms/step - loss: 226714720.0000 - mae: 13087.4375 - val_loss: 25140106.0000 - val_mae: 3894.6130\n",
      "Epoch 55/120\n",
      "95/95 [==============================] - 3s 29ms/step - loss: 220886864.0000 - mae: 12928.7471 - val_loss: 21348728.0000 - val_mae: 3800.1772\n",
      "Epoch 56/120\n",
      "95/95 [==============================] - -420s -4469970us/step - loss: 222895312.0000 - mae: 12971.0635 - val_loss: 22477846.0000 - val_mae: 3765.4954\n",
      "Epoch 57/120\n",
      "95/95 [==============================] - 3s 32ms/step - loss: 221234640.0000 - mae: 12912.6846 - val_loss: 19983582.0000 - val_mae: 3441.1672\n",
      "Epoch 58/120\n",
      "95/95 [==============================] - 4s 38ms/step - loss: 215100496.0000 - mae: 12725.9033 - val_loss: 21191226.0000 - val_mae: 3651.5325\n",
      "Epoch 59/120\n",
      "95/95 [==============================] - 3s 34ms/step - loss: 210879424.0000 - mae: 12551.9004 - val_loss: 24376862.0000 - val_mae: 3848.0608\n",
      "Epoch 60/120\n",
      "95/95 [==============================] - 3s 37ms/step - loss: 201718768.0000 - mae: 12221.0605 - val_loss: 23036832.0000 - val_mae: 3630.2891\n",
      "Epoch 61/120\n",
      "95/95 [==============================] - 4s 38ms/step - loss: 197247200.0000 - mae: 12088.8506 - val_loss: 19241018.0000 - val_mae: 3346.3643\n",
      "Epoch 62/120\n",
      "95/95 [==============================] - 3s 33ms/step - loss: 192863200.0000 - mae: 11957.5781 - val_loss: 35588876.0000 - val_mae: 4519.1646\n",
      "Epoch 63/120\n",
      "95/95 [==============================] - 4s 37ms/step - loss: 188324832.0000 - mae: 11740.9160 - val_loss: 44989848.0000 - val_mae: 4924.2061\n",
      "Epoch 64/120\n",
      "95/95 [==============================] - 3s 35ms/step - loss: 184050896.0000 - mae: 11587.5371 - val_loss: 23908922.0000 - val_mae: 3574.9873\n",
      "Epoch 65/120\n",
      "95/95 [==============================] - 3s 35ms/step - loss: 183183232.0000 - mae: 11565.5146 - val_loss: 22174732.0000 - val_mae: 3384.5940\n",
      "Epoch 66/120\n",
      "95/95 [==============================] - 4s 38ms/step - loss: 185906992.0000 - mae: 11627.0859 - val_loss: 26794050.0000 - val_mae: 3906.3850\n"
     ]
    }
   ],
   "source": [
    "# 1 - Initialising the RNN model\n",
    "# ====================================\n",
    "\n",
    "model = init_model(X_train, y_train)\n",
    "model.summary()\n",
    "\n",
    "# 2 - Training\n",
    "# ====================================\n",
    "model, history = fit_model(model)"
   ]
  },
  {
   "cell_type": "code",
   "execution_count": 284,
   "id": "8f034ec1",
   "metadata": {},
   "outputs": [
    {
     "data": {
      "image/png": "[encoded data removed]",
      "text/plain": [
       "<Figure size 2000x700 with 2 Axes>"
      ]
     },
     "metadata": {},
     "output_type": "display_data"
    }
   ],
   "source": [
    "plot_history(history);"
   ]
  },
  {
   "cell_type": "code",
   "execution_count": 285,
   "id": "ebe92c93",
   "metadata": {},
   "outputs": [
    {
     "name": "stdout",
     "output_type": "stream",
     "text": [
      "35/35 [==============================] - 1s 14ms/step - loss: 15525725.0000 - mae: 2014.7836\n",
      "The LSTM MAE on the test set is equal to 2014.7835693359375 barrels\n"
     ]
    }
   ],
   "source": [
    "# 3 - Evaluation\n",
    "# ====================================\n",
    "res = model.evaluate(X_test, y_test)\n",
    "print(f\"The LSTM MAE on the test set is equal to {res[1]} barrels\")"
   ]
  },
  {
   "cell_type": "code",
   "execution_count": 286,
   "id": "196bb2e7",
   "metadata": {},
   "outputs": [
    {
     "name": "stdout",
     "output_type": "stream",
     "text": [
      "- The LSTM MAE on the test set is equal to 2014.7835693359375 barrels\n",
      "🔥 Improvement of the LSTM model over the baseline (on this fold for the test set) = : 86.56 % 🔥\n"
     ]
    }
   ],
   "source": [
    "print(f\"- The LSTM MAE on the test set is equal to {res[1]} barrels\")\n",
    "print(f\"🔥 Improvement of the LSTM model over the baseline (on this fold for the test set) = : {round((1 - (res[1]/baseline_score[1]))*100,2)} % 🔥\")"
   ]
  },
  {
   "cell_type": "markdown",
   "id": "630212c8",
   "metadata": {},
   "source": [
    "### Cross-Validation"
   ]
  },
  {
   "cell_type": "code",
   "execution_count": 287,
   "id": "91b01d96",
   "metadata": {},
   "outputs": [
    {
     "name": "stdout",
     "output_type": "stream",
     "text": [
      "N_FEATURES = 6\n",
      "N_TARGETS = 1\n",
      "\n",
      "FOLD_LENGTH = 3285\n",
      "FOLD_STRIDE = 91\n",
      "TRAIN_TEST_RATIO = 0.66\n",
      "\n",
      "INPUT_LENGTH = 14\n",
      "OUTPUT_LENGTH = 1\n"
     ]
    }
   ],
   "source": [
    "# Reminders of the global variables in this notebook\n",
    "\n",
    "print(f'N_FEATURES = {N_FEATURES}') \n",
    "print(f'N_TARGETS = {N_TARGETS}') \n",
    "print('')\n",
    "print(f'FOLD_LENGTH = {FOLD_LENGTH}')\n",
    "print(f'FOLD_STRIDE = {FOLD_STRIDE}')\n",
    "print(f'TRAIN_TEST_RATIO = {TRAIN_TEST_RATIO}')\n",
    "print('')\n",
    "\n",
    "print(f'INPUT_LENGTH = {INPUT_LENGTH}')\n",
    "print(f'OUTPUT_LENGTH = {OUTPUT_LENGTH}')"
   ]
  },
  {
   "cell_type": "code",
   "execution_count": 288,
   "id": "e1ddf56e",
   "metadata": {},
   "outputs": [
    {
     "name": "stdout",
     "output_type": "stream",
     "text": [
      " we have 28 FOLDS\n"
     ]
    }
   ],
   "source": [
    "#  how many folds we have \n",
    "folds = get_folds(df_f, FOLD_LENGTH, FOLD_STRIDE)\n",
    "\n",
    "print(f\" we have {len(folds)} FOLDS\")"
   ]
  },
  {
   "cell_type": "code",
   "execution_count": 289,
   "id": "93957da8",
   "metadata": {},
   "outputs": [],
   "source": [
    "from tensorflow.keras.callbacks import EarlyStopping\n",
    "\n",
    "def cross_validate_baseline_and_lstm():\n",
    "    '''\n",
    "    This function cross-validates \n",
    "    - the \"last seen value\" baseline model\n",
    "    - the RNN model\n",
    "    '''\n",
    "    \n",
    "    list_of_mae_baseline_model = []\n",
    "    list_of_mae_recurrent_model = []\n",
    "    \n",
    "    # 0 - Creating folds\n",
    "    # =========================================    \n",
    "    folds = get_folds(df_f, FOLD_LENGTH, FOLD_STRIDE)\n",
    "    \n",
    "    for fold_id, fold in enumerate(folds):\n",
    "        \n",
    "        # 1 - Train/Test split the current fold\n",
    "        # =========================================\n",
    "        (fold_train, fold_test) = train_test_split(fold, TRAIN_TEST_RATIO, INPUT_LENGTH)                   \n",
    "\n",
    "        X_train, y_train = get_X_y_strides(fold_train, INPUT_LENGTH, OUTPUT_LENGTH, SEQUENCE_STRIDE)\n",
    "        X_test, y_test = get_X_y_strides(fold_test, INPUT_LENGTH, OUTPUT_LENGTH, SEQUENCE_STRIDE)\n",
    "        \n",
    "        # 2 - Modelling\n",
    "        # =========================================\n",
    "        \n",
    "        ##### Baseline Model\n",
    "        baseline_model = init_baseline()\n",
    "        mae_baseline = baseline_model.evaluate(X_test, y_test, verbose=0)[1]\n",
    "        list_of_mae_baseline_model.append(mae_baseline)\n",
    "        print(\"-\"*50)\n",
    "        print(f\"MAE baseline fold n°{fold_id} = {round(mae_baseline, 2)}\")\n",
    "\n",
    "        ##### LSTM Model\n",
    "        model = init_model(X_train, y_train)\n",
    "        es = EarlyStopping(monitor = \"val_mae\",\n",
    "                           mode = \"min\",\n",
    "                           patience = 5, \n",
    "                           restore_best_weights = True)\n",
    "        history = model.fit(X_train, y_train,\n",
    "                            validation_split = 0.3,\n",
    "                            shuffle = False,\n",
    "                            batch_size = 16,\n",
    "                            epochs = 100,\n",
    "                            callbacks = [es],\n",
    "                            verbose = 0)\n",
    "        res = model.evaluate(X_test, y_test, verbose=0)\n",
    "        mae_lstm = res[1]\n",
    "        list_of_mae_recurrent_model.append(mae_lstm)\n",
    "        print(f\"MAE LSTM fold n°{fold_id} = {round(mae_lstm, 2)}\")\n",
    "        \n",
    "        ##### Comparison LSTM vs Baseline for the current fold\n",
    "        print(f\"🏋🏽‍♂️ improvement over baseline: {round((1 - (mae_lstm/mae_baseline))*100,2)} % \\n\")\n",
    "\n",
    "    return list_of_mae_baseline_model, list_of_mae_recurrent_model"
   ]
  },
  {
   "cell_type": "code",
   "execution_count": 290,
   "id": "08556ee0",
   "metadata": {
    "scrolled": false
   },
   "outputs": [
    {
     "name": "stdout",
     "output_type": "stream",
     "text": [
      "--------------------------------------------------\n",
      "MAE baseline fold n°0 = 14995.31\n",
      "MAE LSTM fold n°0 = 7557.64\n",
      "🏋🏽‍♂️ improvement over baseline: 49.6 % \n",
      "\n",
      "--------------------------------------------------\n",
      "MAE baseline fold n°1 = 14980.55\n",
      "MAE LSTM fold n°1 = 3274.64\n",
      "🏋🏽‍♂️ improvement over baseline: 78.14 % \n",
      "\n",
      "--------------------------------------------------\n",
      "MAE baseline fold n°2 = 14918.11\n",
      "MAE LSTM fold n°2 = 13958.72\n",
      "🏋🏽‍♂️ improvement over baseline: 6.43 % \n",
      "\n",
      "--------------------------------------------------\n",
      "MAE baseline fold n°3 = 14855.89\n",
      "MAE LSTM fold n°3 = 2791.66\n",
      "🏋🏽‍♂️ improvement over baseline: 81.21 % \n",
      "\n",
      "--------------------------------------------------\n",
      "MAE baseline fold n°4 = 14814.62\n",
      "MAE LSTM fold n°4 = 1938.88\n",
      "🏋🏽‍♂️ improvement over baseline: 86.91 % \n",
      "\n",
      "--------------------------------------------------\n",
      "MAE baseline fold n°5 = 14756.38\n",
      "MAE LSTM fold n°5 = 2648.4\n",
      "🏋🏽‍♂️ improvement over baseline: 82.05 % \n",
      "\n",
      "--------------------------------------------------\n",
      "MAE baseline fold n°6 = 14697.77\n",
      "MAE LSTM fold n°6 = 5673.08\n",
      "🏋🏽‍♂️ improvement over baseline: 61.4 % \n",
      "\n",
      "--------------------------------------------------\n",
      "MAE baseline fold n°7 = 14662.6\n",
      "MAE LSTM fold n°7 = 2128.12\n",
      "🏋🏽‍♂️ improvement over baseline: 85.49 % \n",
      "\n",
      "--------------------------------------------------\n",
      "MAE baseline fold n°8 = 14723.07\n",
      "MAE LSTM fold n°8 = 10310.46\n",
      "🏋🏽‍♂️ improvement over baseline: 29.97 % \n",
      "\n",
      "--------------------------------------------------\n",
      "MAE baseline fold n°9 = 14676.36\n",
      "MAE LSTM fold n°9 = 2831.32\n",
      "🏋🏽‍♂️ improvement over baseline: 80.71 % \n",
      "\n",
      "--------------------------------------------------\n",
      "MAE baseline fold n°10 = 14613.98\n",
      "MAE LSTM fold n°10 = 5354.64\n",
      "🏋🏽‍♂️ improvement over baseline: 63.36 % \n",
      "\n",
      "--------------------------------------------------\n",
      "MAE baseline fold n°11 = 14583.73\n",
      "MAE LSTM fold n°11 = 6491.47\n",
      "🏋🏽‍♂️ improvement over baseline: 55.49 % \n",
      "\n",
      "--------------------------------------------------\n",
      "MAE baseline fold n°12 = 14502.84\n",
      "MAE LSTM fold n°12 = 5313.1\n",
      "🏋🏽‍♂️ improvement over baseline: 63.37 % \n",
      "\n",
      "--------------------------------------------------\n",
      "MAE baseline fold n°13 = 14637.32\n",
      "MAE LSTM fold n°13 = 2895.73\n",
      "🏋🏽‍♂️ improvement over baseline: 80.22 % \n",
      "\n",
      "--------------------------------------------------\n",
      "MAE baseline fold n°14 = 14565.67\n",
      "MAE LSTM fold n°14 = 7475.35\n",
      "🏋🏽‍♂️ improvement over baseline: 48.68 % \n",
      "\n",
      "--------------------------------------------------\n",
      "MAE baseline fold n°15 = 14559.9\n",
      "MAE LSTM fold n°15 = 2398.7\n",
      "🏋🏽‍♂️ improvement over baseline: 83.53 % \n",
      "\n",
      "--------------------------------------------------\n",
      "MAE baseline fold n°16 = 14490.73\n",
      "MAE LSTM fold n°16 = 2393.08\n",
      "🏋🏽‍♂️ improvement over baseline: 83.49 % \n",
      "\n",
      "--------------------------------------------------\n",
      "MAE baseline fold n°17 = 14697.77\n",
      "MAE LSTM fold n°17 = 2168.94\n",
      "🏋🏽‍♂️ improvement over baseline: 85.24 % \n",
      "\n",
      "--------------------------------------------------\n",
      "MAE baseline fold n°18 = 14588.14\n",
      "MAE LSTM fold n°18 = 2642.33\n",
      "🏋🏽‍♂️ improvement over baseline: 81.89 % \n",
      "\n",
      "--------------------------------------------------\n",
      "MAE baseline fold n°19 = 14511.57\n",
      "MAE LSTM fold n°19 = 4401.24\n",
      "🏋🏽‍♂️ improvement over baseline: 69.67 % \n",
      "\n",
      "--------------------------------------------------\n",
      "MAE baseline fold n°20 = 14410.02\n",
      "MAE LSTM fold n°20 = 2296.16\n",
      "🏋🏽‍♂️ improvement over baseline: 84.07 % \n",
      "\n",
      "--------------------------------------------------\n",
      "MAE baseline fold n°21 = 14478.27\n",
      "MAE LSTM fold n°21 = 2613.92\n",
      "🏋🏽‍♂️ improvement over baseline: 81.95 % \n",
      "\n",
      "--------------------------------------------------\n",
      "MAE baseline fold n°22 = 14438.17\n",
      "MAE LSTM fold n°22 = 4407.08\n",
      "🏋🏽‍♂️ improvement over baseline: 69.48 % \n",
      "\n",
      "--------------------------------------------------\n",
      "MAE baseline fold n°23 = 14399.55\n",
      "MAE LSTM fold n°23 = 4213.37\n",
      "🏋🏽‍♂️ improvement over baseline: 70.74 % \n",
      "\n",
      "--------------------------------------------------\n",
      "MAE baseline fold n°24 = 14664.62\n",
      "MAE LSTM fold n°24 = 7765.55\n",
      "🏋🏽‍♂️ improvement over baseline: 47.05 % \n",
      "\n",
      "--------------------------------------------------\n",
      "MAE baseline fold n°25 = 14465.79\n",
      "MAE LSTM fold n°25 = 11743.82\n",
      "🏋🏽‍♂️ improvement over baseline: 18.82 % \n",
      "\n",
      "--------------------------------------------------\n",
      "MAE baseline fold n°26 = 14510.31\n",
      "MAE LSTM fold n°26 = 7632.23\n",
      "🏋🏽‍♂️ improvement over baseline: 47.4 % \n",
      "\n",
      "--------------------------------------------------\n",
      "MAE baseline fold n°27 = 14569.17\n",
      "MAE LSTM fold n°27 = 7715.48\n",
      "🏋🏽‍♂️ improvement over baseline: 47.04 % \n",
      "\n",
      "CPU times: user 1h 49min 32s, sys: 56min 49s, total: 2h 46min 21s\n",
      "Wall time: 57min 18s\n"
     ]
    }
   ],
   "source": [
    "%%time\n",
    "# WARNING : it takes 60 minutes to run this cell \n",
    "mae_baselines, mae_lstms = cross_validate_baseline_and_lstm()"
   ]
  },
  {
   "cell_type": "code",
   "execution_count": 291,
   "id": "6d824522",
   "metadata": {},
   "outputs": [
    {
     "name": "stdout",
     "output_type": "stream",
     "text": [
      "average percentage improvement over baseline = 65.0%\n"
     ]
    }
   ],
   "source": [
    "print(f\"average percentage improvement over baseline = {round(np.mean(1 - (np.array(mae_lstms)/np.array(mae_baselines))),2)*100}%\")"
   ]
  },
  {
   "cell_type": "code",
   "execution_count": 322,
   "id": "4d6ac80f",
   "metadata": {},
   "outputs": [
    {
     "data": {
      "text/plain": [
       "((1116, 14, 7), (1116, 1, 1))"
      ]
     },
     "execution_count": 322,
     "metadata": {},
     "output_type": "execute_result"
    }
   ],
   "source": [
    "X_test.shape, y_test.shape"
   ]
  },
  {
   "cell_type": "code",
   "execution_count": 338,
   "id": "66f8d169",
   "metadata": {
    "scrolled": true
   },
   "outputs": [
    {
     "data": {
      "text/html": [
       "<div>\n",
       "<style scoped>\n",
       "    .dataframe tbody tr th:only-of-type {\n",
       "        vertical-align: middle;\n",
       "    }\n",
       "\n",
       "    .dataframe tbody tr th {\n",
       "        vertical-align: top;\n",
       "    }\n",
       "\n",
       "    .dataframe thead th {\n",
       "        text-align: right;\n",
       "    }\n",
       "</style>\n",
       "<table border=\"1\" class=\"dataframe\">\n",
       "  <thead>\n",
       "    <tr style=\"text-align: right;\">\n",
       "      <th></th>\n",
       "      <th>Qoil MPFM Real</th>\n",
       "      <th>MPFM WCT</th>\n",
       "      <th>Annulus P</th>\n",
       "      <th>MPFM Venturi dP</th>\n",
       "      <th>WHT</th>\n",
       "      <th>WHP</th>\n",
       "      <th>Choke Opening</th>\n",
       "    </tr>\n",
       "  </thead>\n",
       "  <tbody>\n",
       "    <tr>\n",
       "      <th>0</th>\n",
       "      <td>17314.554926</td>\n",
       "      <td>44.993297</td>\n",
       "      <td>148.336685</td>\n",
       "      <td>4600.971191</td>\n",
       "      <td>49.920815</td>\n",
       "      <td>80.451302</td>\n",
       "      <td>88.408333</td>\n",
       "    </tr>\n",
       "    <tr>\n",
       "      <th>1</th>\n",
       "      <td>17670.793776</td>\n",
       "      <td>44.491959</td>\n",
       "      <td>148.471054</td>\n",
       "      <td>4698.059082</td>\n",
       "      <td>49.928555</td>\n",
       "      <td>80.789749</td>\n",
       "      <td>88.678017</td>\n",
       "    </tr>\n",
       "    <tr>\n",
       "      <th>2</th>\n",
       "      <td>17453.841372</td>\n",
       "      <td>44.681557</td>\n",
       "      <td>148.501297</td>\n",
       "      <td>4479.698242</td>\n",
       "      <td>49.951077</td>\n",
       "      <td>79.934982</td>\n",
       "      <td>88.353958</td>\n",
       "    </tr>\n",
       "    <tr>\n",
       "      <th>3</th>\n",
       "      <td>17556.162896</td>\n",
       "      <td>45.533877</td>\n",
       "      <td>149.328171</td>\n",
       "      <td>4418.763672</td>\n",
       "      <td>50.314072</td>\n",
       "      <td>80.147614</td>\n",
       "      <td>99.758553</td>\n",
       "    </tr>\n",
       "    <tr>\n",
       "      <th>4</th>\n",
       "      <td>17498.254331</td>\n",
       "      <td>44.968968</td>\n",
       "      <td>148.816071</td>\n",
       "      <td>4383.696777</td>\n",
       "      <td>50.182426</td>\n",
       "      <td>79.850708</td>\n",
       "      <td>99.712387</td>\n",
       "    </tr>\n",
       "    <tr>\n",
       "      <th>...</th>\n",
       "      <td>...</td>\n",
       "      <td>...</td>\n",
       "      <td>...</td>\n",
       "      <td>...</td>\n",
       "      <td>...</td>\n",
       "      <td>...</td>\n",
       "      <td>...</td>\n",
       "    </tr>\n",
       "    <tr>\n",
       "      <th>1111</th>\n",
       "      <td>14368.789387</td>\n",
       "      <td>51.954152</td>\n",
       "      <td>165.297897</td>\n",
       "      <td>1829.494751</td>\n",
       "      <td>51.586681</td>\n",
       "      <td>66.296234</td>\n",
       "      <td>100.408653</td>\n",
       "    </tr>\n",
       "    <tr>\n",
       "      <th>1112</th>\n",
       "      <td>13973.439999</td>\n",
       "      <td>53.228272</td>\n",
       "      <td>165.299210</td>\n",
       "      <td>1828.518921</td>\n",
       "      <td>51.590042</td>\n",
       "      <td>66.345024</td>\n",
       "      <td>100.386848</td>\n",
       "    </tr>\n",
       "    <tr>\n",
       "      <th>1113</th>\n",
       "      <td>13826.439474</td>\n",
       "      <td>53.326576</td>\n",
       "      <td>165.268906</td>\n",
       "      <td>1738.906250</td>\n",
       "      <td>51.630058</td>\n",
       "      <td>66.528564</td>\n",
       "      <td>100.289116</td>\n",
       "    </tr>\n",
       "    <tr>\n",
       "      <th>1114</th>\n",
       "      <td>13874.553993</td>\n",
       "      <td>53.525749</td>\n",
       "      <td>165.220566</td>\n",
       "      <td>1783.643555</td>\n",
       "      <td>51.616470</td>\n",
       "      <td>66.313080</td>\n",
       "      <td>100.693344</td>\n",
       "    </tr>\n",
       "    <tr>\n",
       "      <th>1115</th>\n",
       "      <td>13543.005260</td>\n",
       "      <td>54.582260</td>\n",
       "      <td>165.198593</td>\n",
       "      <td>1793.833374</td>\n",
       "      <td>51.611126</td>\n",
       "      <td>66.313011</td>\n",
       "      <td>100.281830</td>\n",
       "    </tr>\n",
       "  </tbody>\n",
       "</table>\n",
       "<p>1116 rows × 7 columns</p>\n",
       "</div>"
      ],
      "text/plain": [
       "      Qoil MPFM Real   MPFM WCT   Annulus P  MPFM Venturi dP        WHT  \\\n",
       "0       17314.554926  44.993297  148.336685      4600.971191  49.920815   \n",
       "1       17670.793776  44.491959  148.471054      4698.059082  49.928555   \n",
       "2       17453.841372  44.681557  148.501297      4479.698242  49.951077   \n",
       "3       17556.162896  45.533877  149.328171      4418.763672  50.314072   \n",
       "4       17498.254331  44.968968  148.816071      4383.696777  50.182426   \n",
       "...              ...        ...         ...              ...        ...   \n",
       "1111    14368.789387  51.954152  165.297897      1829.494751  51.586681   \n",
       "1112    13973.439999  53.228272  165.299210      1828.518921  51.590042   \n",
       "1113    13826.439474  53.326576  165.268906      1738.906250  51.630058   \n",
       "1114    13874.553993  53.525749  165.220566      1783.643555  51.616470   \n",
       "1115    13543.005260  54.582260  165.198593      1793.833374  51.611126   \n",
       "\n",
       "            WHP  Choke Opening  \n",
       "0     80.451302      88.408333  \n",
       "1     80.789749      88.678017  \n",
       "2     79.934982      88.353958  \n",
       "3     80.147614      99.758553  \n",
       "4     79.850708      99.712387  \n",
       "...         ...            ...  \n",
       "1111  66.296234     100.408653  \n",
       "1112  66.345024     100.386848  \n",
       "1113  66.528564     100.289116  \n",
       "1114  66.313080     100.693344  \n",
       "1115  66.313011     100.281830  \n",
       "\n",
       "[1116 rows x 7 columns]"
      ]
     },
     "execution_count": 338,
     "metadata": {},
     "output_type": "execute_result"
    }
   ],
   "source": [
    "features = pd.DataFrame(X_test[:,0],\n",
    "                 columns=[\"Qoil MPFM Real\",\"MPFM WCT\", \"Annulus P\", \"MPFM Venturi dP\", \"WHT\", \"WHP\",\"Choke Opening\"])\n",
    "features"
   ]
  },
  {
   "cell_type": "code",
   "execution_count": 370,
   "id": "e51bddc2",
   "metadata": {},
   "outputs": [
    {
     "data": {
      "text/html": [
       "<div>\n",
       "<style scoped>\n",
       "    .dataframe tbody tr th:only-of-type {\n",
       "        vertical-align: middle;\n",
       "    }\n",
       "\n",
       "    .dataframe tbody tr th {\n",
       "        vertical-align: top;\n",
       "    }\n",
       "\n",
       "    .dataframe thead th {\n",
       "        text-align: right;\n",
       "    }\n",
       "</style>\n",
       "<table border=\"1\" class=\"dataframe\">\n",
       "  <thead>\n",
       "    <tr style=\"text-align: right;\">\n",
       "      <th></th>\n",
       "      <th>Qoil MPFM Real</th>\n",
       "    </tr>\n",
       "  </thead>\n",
       "  <tbody>\n",
       "    <tr>\n",
       "      <th>0</th>\n",
       "      <td>17314.554926</td>\n",
       "    </tr>\n",
       "    <tr>\n",
       "      <th>1</th>\n",
       "      <td>17670.793776</td>\n",
       "    </tr>\n",
       "    <tr>\n",
       "      <th>2</th>\n",
       "      <td>17453.841372</td>\n",
       "    </tr>\n",
       "    <tr>\n",
       "      <th>3</th>\n",
       "      <td>17556.162896</td>\n",
       "    </tr>\n",
       "    <tr>\n",
       "      <th>4</th>\n",
       "      <td>17498.254331</td>\n",
       "    </tr>\n",
       "    <tr>\n",
       "      <th>...</th>\n",
       "      <td>...</td>\n",
       "    </tr>\n",
       "    <tr>\n",
       "      <th>1111</th>\n",
       "      <td>14368.789387</td>\n",
       "    </tr>\n",
       "    <tr>\n",
       "      <th>1112</th>\n",
       "      <td>13973.439999</td>\n",
       "    </tr>\n",
       "    <tr>\n",
       "      <th>1113</th>\n",
       "      <td>13826.439474</td>\n",
       "    </tr>\n",
       "    <tr>\n",
       "      <th>1114</th>\n",
       "      <td>13874.553993</td>\n",
       "    </tr>\n",
       "    <tr>\n",
       "      <th>1115</th>\n",
       "      <td>13543.005260</td>\n",
       "    </tr>\n",
       "  </tbody>\n",
       "</table>\n",
       "<p>1116 rows × 1 columns</p>\n",
       "</div>"
      ],
      "text/plain": [
       "      Qoil MPFM Real\n",
       "0       17314.554926\n",
       "1       17670.793776\n",
       "2       17453.841372\n",
       "3       17556.162896\n",
       "4       17498.254331\n",
       "...              ...\n",
       "1111    14368.789387\n",
       "1112    13973.439999\n",
       "1113    13826.439474\n",
       "1114    13874.553993\n",
       "1115    13543.005260\n",
       "\n",
       "[1116 rows x 1 columns]"
      ]
     },
     "execution_count": 370,
     "metadata": {},
     "output_type": "execute_result"
    }
   ],
   "source": [
    "oil_r = features[[\"Qoil MPFM Real\"]].copy()\n",
    "oil_r"
   ]
  },
  {
   "cell_type": "code",
   "execution_count": 337,
   "id": "c0090f31",
   "metadata": {},
   "outputs": [
    {
     "name": "stdout",
     "output_type": "stream",
     "text": [
      "35/35 [==============================] - 0s 10ms/step\n"
     ]
    },
    {
     "data": {
      "text/plain": [
       "(1116, 1)"
      ]
     },
     "execution_count": 337,
     "metadata": {},
     "output_type": "execute_result"
    }
   ],
   "source": [
    "# 4 - Prediction\n",
    "# ====================================\n",
    "y_pred = model.predict(X_test)\n",
    "y_pred.shape"
   ]
  },
  {
   "cell_type": "code",
   "execution_count": 341,
   "id": "f91671f6",
   "metadata": {},
   "outputs": [
    {
     "data": {
      "text/html": [
       "<div>\n",
       "<style scoped>\n",
       "    .dataframe tbody tr th:only-of-type {\n",
       "        vertical-align: middle;\n",
       "    }\n",
       "\n",
       "    .dataframe tbody tr th {\n",
       "        vertical-align: top;\n",
       "    }\n",
       "\n",
       "    .dataframe thead th {\n",
       "        text-align: right;\n",
       "    }\n",
       "</style>\n",
       "<table border=\"1\" class=\"dataframe\">\n",
       "  <thead>\n",
       "    <tr style=\"text-align: right;\">\n",
       "      <th></th>\n",
       "      <th>Qoil Predicted</th>\n",
       "    </tr>\n",
       "  </thead>\n",
       "  <tbody>\n",
       "    <tr>\n",
       "      <th>0</th>\n",
       "      <td>15556.198242</td>\n",
       "    </tr>\n",
       "    <tr>\n",
       "      <th>1</th>\n",
       "      <td>15592.027344</td>\n",
       "    </tr>\n",
       "    <tr>\n",
       "      <th>2</th>\n",
       "      <td>15633.672852</td>\n",
       "    </tr>\n",
       "    <tr>\n",
       "      <th>3</th>\n",
       "      <td>15717.927734</td>\n",
       "    </tr>\n",
       "    <tr>\n",
       "      <th>4</th>\n",
       "      <td>15710.238281</td>\n",
       "    </tr>\n",
       "    <tr>\n",
       "      <th>...</th>\n",
       "      <td>...</td>\n",
       "    </tr>\n",
       "    <tr>\n",
       "      <th>1111</th>\n",
       "      <td>15670.869141</td>\n",
       "    </tr>\n",
       "    <tr>\n",
       "      <th>1112</th>\n",
       "      <td>15671.826172</td>\n",
       "    </tr>\n",
       "    <tr>\n",
       "      <th>1113</th>\n",
       "      <td>15668.145508</td>\n",
       "    </tr>\n",
       "    <tr>\n",
       "      <th>1114</th>\n",
       "      <td>15671.620117</td>\n",
       "    </tr>\n",
       "    <tr>\n",
       "      <th>1115</th>\n",
       "      <td>15667.027344</td>\n",
       "    </tr>\n",
       "  </tbody>\n",
       "</table>\n",
       "<p>1116 rows × 1 columns</p>\n",
       "</div>"
      ],
      "text/plain": [
       "      Qoil Predicted\n",
       "0       15556.198242\n",
       "1       15592.027344\n",
       "2       15633.672852\n",
       "3       15717.927734\n",
       "4       15710.238281\n",
       "...              ...\n",
       "1111    15670.869141\n",
       "1112    15671.826172\n",
       "1113    15668.145508\n",
       "1114    15671.620117\n",
       "1115    15667.027344\n",
       "\n",
       "[1116 rows x 1 columns]"
      ]
     },
     "execution_count": 341,
     "metadata": {},
     "output_type": "execute_result"
    }
   ],
   "source": [
    "prediction = pd.DataFrame(y_pred, columns =['Qoil Predicted'])\n",
    "prediction"
   ]
  },
  {
   "cell_type": "code",
   "execution_count": 373,
   "id": "48c48ef1",
   "metadata": {},
   "outputs": [
    {
     "data": {
      "text/plain": [
       "<AxesSubplot:>"
      ]
     },
     "execution_count": 373,
     "metadata": {},
     "output_type": "execute_result"
    },
    {
     "data": {
      "image/png": "[encoded data removed]",
      "text/plain": [
       "<Figure size 640x480 with 1 Axes>"
      ]
     },
     "metadata": {},
     "output_type": "display_data"
    }
   ],
   "source": [
    "results=pd.concat([oil_r,prediction],axis=1)\n",
    "results.plot()"
   ]
  },
  {
   "cell_type": "markdown",
   "id": "24079e59",
   "metadata": {},
   "source": [
    "## Exporting model"
   ]
  },
  {
   "cell_type": "code",
   "execution_count": 320,
   "id": "90e8c644",
   "metadata": {},
   "outputs": [
    {
     "name": "stderr",
     "output_type": "stream",
     "text": [
      "WARNING:absl:Found untraced functions such as lstm_cell_24_layer_call_fn, lstm_cell_24_layer_call_and_return_conditional_losses while saving (showing 2 of 2). These functions will not be directly callable after loading.\n"
     ]
    },
    {
     "name": "stdout",
     "output_type": "stream",
     "text": [
      "INFO:tensorflow:Assets written to: my_RNN_model/assets\n"
     ]
    },
    {
     "name": "stderr",
     "output_type": "stream",
     "text": [
      "INFO:tensorflow:Assets written to: my_RNN_model/assets\n"
     ]
    }
   ],
   "source": [
    "from tensorflow.keras import models\n",
    "\n",
    "# Saving the model:\n",
    "models.save_model(model, 'my_RNN_model')\n",
    "\n",
    "# Loading the model:\n",
    "#loaded_model = models.load_model('my_model')\n"
   ]
  },
  {
   "cell_type": "code",
   "execution_count": 321,
   "id": "8935ead8",
   "metadata": {},
   "outputs": [
    {
     "name": "stdout",
     "output_type": "stream",
     "text": [
      " basic_mvp.ipynb\r\n",
      " data\r\n",
      "'galina - deep_learning.ipynb'\r\n",
      " MLops\r\n",
      " my_model\r\n",
      " my_RNN_model\r\n",
      "'Oil-production - data-cleaning_In-Progress.ipynb'\r\n",
      " working_GS_old\r\n"
     ]
    }
   ],
   "source": [
    "!ls"
   ]
  },
  {
   "cell_type": "code",
   "execution_count": null,
   "id": "b3d46695",
   "metadata": {},
   "outputs": [],
   "source": []
  }
 ],
 "metadata": {
  "kernelspec": {
   "display_name": "Python 3 (ipykernel)",
   "language": "python",
   "name": "python3"
  },
  "language_info": {
   "codemirror_mode": {
    "name": "ipython",
    "version": 3
   },
   "file_extension": ".py",
   "mimetype": "text/x-python",
   "name": "python",
   "nbconvert_exporter": "python",
   "pygments_lexer": "ipython3",
   "version": "3.10.6"
  },
  "toc": {
   "base_numbering": 1,
   "nav_menu": {},
   "number_sections": true,
   "sideBar": true,
   "skip_h1_title": false,
   "title_cell": "Table of Contents",
   "title_sidebar": "Contents",
   "toc_cell": false,
   "toc_position": {},
   "toc_section_display": true,
   "toc_window_display": false
  }
 },
 "nbformat": 4,
 "nbformat_minor": 5
}
